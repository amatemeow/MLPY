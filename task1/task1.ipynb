{
 "cells": [
  {
   "cell_type": "markdown",
   "id": "caf7b09a-c992-43b0-9091-83e36fb4382d",
   "metadata": {
    "tags": []
   },
   "source": [
    "<h1><a href=\"www.kaggle.com/devinanzelmo/dota-2-matches\">DotA2 Matches dataset</a></h1>"
   ]
  },
  {
   "cell_type": "markdown",
   "id": "6d815879-64a6-4080-aa57-bd0a339a6a53",
   "metadata": {
    "tags": []
   },
   "source": [
    "<h2>Описание</h2>\n",
    "<p>Набор содержит 50000 тысяч матчей ранговых игр. Этот датасет предназначет для оценки поведения игроков, их уровня игры, продолжительности игр, сражений и т.д.</p>\n",
    "<p>Данные из этого датасета могут использоваться для анализа актуальности выбора определенных героев и предметов, общей модели поведения игроков и девиаций из нее и многого другого. Эти данные полезны, например, при разработке новых обновлений для игры, усовершенствования систем матчмейкинга или наказаний за несоответствующее поведение игроков и прочее.</p>\n",
    "\n",
    "<div style=\"padding-left: 2em;\">\n",
    "    <h3>Уточнение для данного задания</h3>\n",
    "    <p>Для анализа в этом задании выбрана часть датасета с данными по игрокам и героям, на которых они играли конкретный матч. Так как атрибутов получается достаточно много, здесь мы опишем лишь некоторые из них в качестве примера.</p>\n",
    "</div>"
   ]
  },
  {
   "cell_type": "code",
   "execution_count": 1,
   "id": "76705cee-ee96-48ef-97ea-32196ddb869f",
   "metadata": {},
   "outputs": [],
   "source": [
    "import numpy as np\n",
    "import pandas as pd"
   ]
  },
  {
   "cell_type": "markdown",
   "id": "d07bfea8-0a89-459e-b3e0-9e36bcd20fb0",
   "metadata": {
    "tags": []
   },
   "source": [
    "<div style=\"border: #000000 1px solid; border-radius: 5px; padding: 1em;\">\n",
    "    <h2>Описание выбранных для анализа атрибутов</h2>\n",
    "    <ul>\n",
    "        <li>\n",
    "            <h4>match_id - Номер матча</h4>\n",
    "            <table border=\"1\" >\n",
    "                <tr>\n",
    "                    <th>Шкала</th>\n",
    "                    <th>Диапазон/Набор значений</th>\n",
    "                    <th>Среднее значение/мода</th>\n",
    "                </tr>\n",
    "                <tr>\n",
    "                    <td>Интервальная</td>\n",
    "                    <td>[0; 499999]</td>\n",
    "                    <td>24999.5</td>\n",
    "                </tr>\n",
    "            </table>\n",
    "        </li>\n",
    "        <li>\n",
    "            <h4>player_slot - Номер места игрока в матче. От 0 до 4 - команда Radiant, от 128 до 132 - команда Dire</h4>\n",
    "            <table border=\"1\" >\n",
    "                <tr>\n",
    "                    <th>Шкала</th>\n",
    "                    <th>Диапазон/Набор значений</th>\n",
    "                    <th>Среднее значение/мода</th>\n",
    "                </tr>\n",
    "                <tr>\n",
    "                    <td>Номинальная</td>\n",
    "                    <td>[0; 4]∪[128; 132]</td>\n",
    "                    <td>каждое значение встречается по 50000 раз</td>\n",
    "                </tr>\n",
    "            </table>\n",
    "        </li>\n",
    "        <li>\n",
    "            <h4>localized_name - Имя героя, которого выбрал игрок</h4>\n",
    "            <table border=\"1\" >\n",
    "                <tr>\n",
    "                    <th>Шкала</th>\n",
    "                    <th>Диапазон/Набор значений</th>\n",
    "                    <th>Среднее значение/мода</th>\n",
    "                </tr>\n",
    "                <tr>\n",
    "                    <td>Номинальная</td>\n",
    "                    <td>112 текстовых имен героев, если герой не выбран, то стоит 0</td>\n",
    "                    <td>Windranger</td>\n",
    "                </tr>\n",
    "            </table>\n",
    "        </li>\n",
    "        <li>\n",
    "            <h4>kills - Количество добивание вражеских героев игрока</h4>\n",
    "            <table border=\"1\" >\n",
    "                <tr>\n",
    "                    <th>Шкала</th>\n",
    "                    <th>Диапазон/Набор значений</th>\n",
    "                    <th>Среднее значение/мода</th>\n",
    "                </tr>\n",
    "                <tr>\n",
    "                    <td>Абсолютная</td>\n",
    "                    <td>[0; 59]</td>\n",
    "                    <td>7.40</td>\n",
    "                </tr>\n",
    "            </table>\n",
    "        </li>\n",
    "        <li>\n",
    "            <h4>deaths - Количество смертей игрока</h4>\n",
    "            <table border=\"1\" >\n",
    "                <tr>\n",
    "                    <th>Шкала</th>\n",
    "                    <th>Диапазон/Набор значений</th>\n",
    "                    <th>Среднее значение/мода</th>\n",
    "                </tr>\n",
    "                <tr>\n",
    "                    <td>Абсолютная</td>\n",
    "                    <td>[0; 42]</td>\n",
    "                    <td>7.68</td>\n",
    "                </tr>\n",
    "            </table>\n",
    "        </li>\n",
    "        <li>\n",
    "            <h4>assists - Количество содействий игрока</h4>\n",
    "            <table border=\"1\" >\n",
    "                <tr>\n",
    "                    <th>Шкала</th>\n",
    "                    <th>Диапазон/Набор значений</th>\n",
    "                    <th>Среднее значение/мода</th>\n",
    "                </tr>\n",
    "                <tr>\n",
    "                    <td>Абсолютная</td>\n",
    "                    <td>[0; 54]</td>\n",
    "                    <td>11.76</td>\n",
    "                </tr>\n",
    "            </table>\n",
    "        </li>\n",
    "        <li>\n",
    "            <h4>item_name - Предмет в инвентаре игрока. Предметов всего 6, атрибутов под них всего тоже 6, отличаются номерным суффиксом.</h4>\n",
    "            <table border=\"1\" >\n",
    "                <tr>\n",
    "                    <th>Шкала</th>\n",
    "                    <th>Диапазон/Набор значений</th>\n",
    "                    <th>Среднее значение/мода</th>\n",
    "                </tr>\n",
    "                <tr>\n",
    "                    <td>Номинальная</td>\n",
    "                    <td>189 текстовых наименований предметов</td>\n",
    "                    <td>enchanted_mango</td>\n",
    "                </tr>\n",
    "            </table>\n",
    "        </li>\n",
    "        <li>\n",
    "            <h4>level - Конечный уровень персонажа игрока.</h4>\n",
    "            <table border=\"1\" >\n",
    "                <tr>\n",
    "                    <th>Шкала</th>\n",
    "                    <th>Диапазон/Набор значений</th>\n",
    "                    <th>Среднее значение/мода</th>\n",
    "                </tr>\n",
    "                <tr>\n",
    "                    <td>Абсолютная</td>\n",
    "                    <td>[0; 25]</td>\n",
    "                    <td>18.05</td>\n",
    "                </tr>\n",
    "            </table>\n",
    "        </li>\n",
    "        <li>\n",
    "            <h4>last_hits - Количество добитых игроком вражеских и нейтральных крипов.</h4>\n",
    "            <table border=\"1\" >\n",
    "                <tr>\n",
    "                    <th>Шкала</th>\n",
    "                    <th>Диапазон/Набор значений</th>\n",
    "                    <th>Среднее значение/мода</th>\n",
    "                </tr>\n",
    "                <tr>\n",
    "                    <td>Абсолютная</td>\n",
    "                    <td>[0; 2000]</td>\n",
    "                    <td>129.48</td>\n",
    "                </tr>\n",
    "            </table>\n",
    "        </li>\n",
    "        <li>\n",
    "            <h4>denies - Количество добитых игроком союзных крипов.</h4>\n",
    "            <table border=\"1\" >\n",
    "                <tr>\n",
    "                    <th>Шкала</th>\n",
    "                    <th>Диапазон/Набор значений</th>\n",
    "                    <th>Среднее значение/мода</th>\n",
    "                </tr>\n",
    "                <tr>\n",
    "                    <td>Абсолютная</td>\n",
    "                    <td>[0; 112]</td>\n",
    "                    <td>5.13</td>\n",
    "                </tr>\n",
    "            </table>\n",
    "        </li>\n",
    "        <li>\n",
    "            <h4>hero_damage - Количество урона, нанесенного игроком вражеским героям.</h4>\n",
    "            <table border=\"1\" >\n",
    "                <tr>\n",
    "                    <th>Шкала</th>\n",
    "                    <th>Диапазон/Набор значений</th>\n",
    "                    <th>Среднее значение/мода</th>\n",
    "                </tr>\n",
    "                <tr>\n",
    "                    <td>Абсолютная</td>\n",
    "                    <td>[0; 74932]</td>\n",
    "                    <td>12234.77</td>\n",
    "                </tr>\n",
    "            </table>\n",
    "        </li>\n",
    "        <li>\n",
    "            <h4>hero_healing - Количество лечения игроком союзных героев.</h4>\n",
    "            <table border=\"1\" >\n",
    "                <tr>\n",
    "                    <th>Шкала</th>\n",
    "                    <th>Диапазон/Набор значений</th>\n",
    "                    <th>Среднее значение/мода</th>\n",
    "                </tr>\n",
    "                <tr>\n",
    "                    <td>Абсолютная</td>\n",
    "                    <td>[0; 19222]</td>\n",
    "                    <td>466.62</td>\n",
    "                </tr>\n",
    "            </table>\n",
    "        </li>\n",
    "        <li>\n",
    "            <h4>tower_damage - Количество урона, нанесенного игроком вражеским башням.</h4>\n",
    "            <table border=\"1\" >\n",
    "                <tr>\n",
    "                    <th>Шкала</th>\n",
    "                    <th>Диапазон/Набор значений</th>\n",
    "                    <th>Среднее значение/мода</th>\n",
    "                </tr>\n",
    "                <tr>\n",
    "                    <td>Абсолютная</td>\n",
    "                    <td>[0; 15968]</td>\n",
    "                    <td>1313.21</td>\n",
    "                </tr>\n",
    "            </table>\n",
    "        </li>\n",
    "        <li>\n",
    "            <h4>stuns - Количество секунд контроля, наложенного игроком на врагов.</h4>\n",
    "            <table border=\"1\" >\n",
    "                <tr>\n",
    "                    <th>Шкала</th>\n",
    "                    <th>Диапазон/Набор значений</th>\n",
    "                    <th>Среднее значение/мода</th>\n",
    "                </tr>\n",
    "                <tr>\n",
    "                    <td>Абсолютная</td>\n",
    "                    <td>[-3; 554] (наблюдаются пропуски и выбросы)</td>\n",
    "                    <td>25.91</td>\n",
    "                </tr>\n",
    "            </table>\n",
    "        </li>\n",
    "        <li>\n",
    "            <h4>gold_spent - Количество золота, которое потратил игрок.</h4>\n",
    "            <table border=\"1\" >\n",
    "                <tr>\n",
    "                    <th>Шкала</th>\n",
    "                    <th>Диапазон/Набор значений</th>\n",
    "                    <th>Среднее значение/мода</th>\n",
    "                </tr>\n",
    "                <tr>\n",
    "                    <td>Абсолютная</td>\n",
    "                    <td>[0; 200000] (наблюдаются выбросы)</td>\n",
    "                    <td>14110</td>\n",
    "                </tr>\n",
    "            </table>\n",
    "        </li>\n",
    "        <li>\n",
    "            <h4>gold_per_min - Среднее количество золота в минуту, полученного игроком.</h4>\n",
    "            <table border=\"1\" >\n",
    "                <tr>\n",
    "                    <th>Шкала</th>\n",
    "                    <th>Диапазон/Набор значений</th>\n",
    "                    <th>Среднее значение/мода</th>\n",
    "                </tr>\n",
    "                <tr>\n",
    "                    <td>Абсолютная</td>\n",
    "                    <td>[100; 1601]</td>\n",
    "                    <td>415.09</td>\n",
    "                </tr>\n",
    "            </table>\n",
    "        </li>\n",
    "        <li>\n",
    "            <h4>gold_death - Количество золота, потерянного игроком при смертях.</h4>\n",
    "            <table border=\"1\" >\n",
    "                <tr>\n",
    "                    <th>Шкала</th>\n",
    "                    <th>Диапазон/Набор значений</th>\n",
    "                    <th>Среднее значение/мода</th>\n",
    "                </tr>\n",
    "                <tr>\n",
    "                    <td>Абсолютная</td>\n",
    "                    <td>[-23757; -29] (наблюдаются пропуски)</td>\n",
    "                    <td>-2688.56</td>\n",
    "                </tr>\n",
    "            </table>\n",
    "        </li>\n",
    "        <li>\n",
    "            <h4>gold_buyback - Количество золота, потерянного игроком при выкупе.</h4>\n",
    "            <table border=\"1\" >\n",
    "                <tr>\n",
    "                    <th>Шкала</th>\n",
    "                    <th>Диапазон/Набор значений</th>\n",
    "                    <th>Среднее значение/мода</th>\n",
    "                </tr>\n",
    "                <tr>\n",
    "                    <td>Абсолютная</td>\n",
    "                    <td>[-22602; -5] (наблюдаются пропуски)</td>\n",
    "                    <td>-1145.88</td>\n",
    "                </tr>\n",
    "            </table>\n",
    "        </li>\n",
    "        <li>\n",
    "            <h4>gold_abandon - Количество золота, полученного игроком от союзников, покинувших игру.</h4>\n",
    "            <table border=\"1\" >\n",
    "                <tr>\n",
    "                    <th>Шкала</th>\n",
    "                    <th>Диапазон/Набор значений</th>\n",
    "                    <th>Среднее значение/мода</th>\n",
    "                </tr>\n",
    "                <tr>\n",
    "                    <td>Абсолютная</td>\n",
    "                    <td>[5; 18339] (наблюдаются пропуски)</td>\n",
    "                    <td>1115.66</td>\n",
    "                </tr>\n",
    "            </table>\n",
    "        </li>\n",
    "        <li>\n",
    "            <h4>gold_sell - Количество золота, полученного игроком за продажу предметов.</h4>\n",
    "            <table border=\"1\" >\n",
    "                <tr>\n",
    "                    <th>Шкала</th>\n",
    "                    <th>Диапазон/Набор значений</th>\n",
    "                    <th>Среднее значение/мода</th>\n",
    "                </tr>\n",
    "                <tr>\n",
    "                    <td>Абсолютная</td>\n",
    "                    <td>[15; 197237] (наблюдаются пропуски и выбросы)</td>\n",
    "                    <td>658.73</td>\n",
    "                </tr>\n",
    "            </table>\n",
    "        </li>\n",
    "        <li>\n",
    "            <h4>gold_destroying_structure - Количество золота, полученного игроком за разрушение строений.</h4>\n",
    "            <table border=\"1\" >\n",
    "                <tr>\n",
    "                    <th>Шкала</th>\n",
    "                    <th>Диапазон/Набор значений</th>\n",
    "                    <th>Среднее значение/мода</th>\n",
    "                </tr>\n",
    "                <tr>\n",
    "                    <td>Абсолютная</td>\n",
    "                    <td>[32; 7610] (наблюдаются пропуски)</td>\n",
    "                    <td>2448.74</td>\n",
    "                </tr>\n",
    "            </table>\n",
    "        </li>\n",
    "        <li>\n",
    "            <h4>gold_killing_heros - Количество золота, полученного игроком за вражеских героев.</h4>\n",
    "            <table border=\"1\" >\n",
    "                <tr>\n",
    "                    <th>Шкала</th>\n",
    "                    <th>Диапазон/Набор значений</th>\n",
    "                    <th>Среднее значение/мода</th>\n",
    "                </tr>\n",
    "                <tr>\n",
    "                    <td>Абсолютная</td>\n",
    "                    <td>[18; 37658] (наблюдаются пропуски)</td>\n",
    "                    <td>4951.47</td>\n",
    "                </tr>\n",
    "            </table>\n",
    "        </li>\n",
    "        <li>\n",
    "            <h4>gold_killing_creeps - Количество золота, полученного игроком за добивание крипов.</h4>\n",
    "            <table border=\"1\" >\n",
    "                <tr>\n",
    "                    <th>Шкала</th>\n",
    "                    <th>Диапазон/Набор значений</th>\n",
    "                    <th>Среднее значение/мода</th>\n",
    "                </tr>\n",
    "                <tr>\n",
    "                    <td>Абсолютная</td>\n",
    "                    <td>[18; 112058] (наблюдаются пропуски)</td>\n",
    "                    <td>5103.97</td>\n",
    "                </tr>\n",
    "            </table>\n",
    "        </li>\n",
    "        <li>\n",
    "            <h4>gold_killing_roshan - Количество золота, полученного игроком за Рошана.</h4>\n",
    "            <table border=\"1\" >\n",
    "                <tr>\n",
    "                    <th>Шкала</th>\n",
    "                    <th>Диапазон/Набор значений</th>\n",
    "                    <th>Среднее значение/мода</th>\n",
    "                </tr>\n",
    "                <tr>\n",
    "                    <td>Абсолютная</td>\n",
    "                    <td>[80; 4227] (наблюдаются пропуски)</td>\n",
    "                    <td>376.67</td>\n",
    "                </tr>\n",
    "            </table>\n",
    "        </li>\n",
    "        <li>\n",
    "            <h4>gold_killing_couriers - Количество золота, полученного игроком за курьеров.</h4>\n",
    "            <table border=\"1\" >\n",
    "                <tr>\n",
    "                    <th>Шкала</th>\n",
    "                    <th>Диапазон/Набор значений</th>\n",
    "                    <th>Среднее значение/мода</th>\n",
    "                </tr>\n",
    "                <tr>\n",
    "                    <td>Абсолютная</td>\n",
    "                    <td>[60; 1725] (наблюдаются пропуски)</td>\n",
    "                    <td>197.01</td>\n",
    "                </tr>\n",
    "            </table>\n",
    "        </li>\n",
    "        <li>\n",
    "            <h4>gold_other - Количество золота, полученного игроком из других источников.</h4>\n",
    "            <table border=\"1\" >\n",
    "                <tr>\n",
    "                    <th>Шкала</th>\n",
    "                    <th>Диапазон/Набор значений</th>\n",
    "                    <th>Среднее значение/мода</th>\n",
    "                </tr>\n",
    "                <tr>\n",
    "                    <td>Абсолютная</td>\n",
    "                    <td>[-100; 30986] (наблюдаются пропуски)</td>\n",
    "                    <td>493.65</td>\n",
    "                </tr>\n",
    "            </table>\n",
    "        </li>\n",
    "        <li>\n",
    "            <h4>xp_per_min - Среднее количество опыта в минуту, полученного игроком.</h4>\n",
    "            <table border=\"1\" >\n",
    "                <tr>\n",
    "                    <th>Шкала</th>\n",
    "                    <th>Диапазон/Набор значений</th>\n",
    "                    <th>Среднее значение/мода</th>\n",
    "                </tr>\n",
    "                <tr>\n",
    "                    <td>Абсолютная</td>\n",
    "                    <td>[0; 1559]</td>\n",
    "                    <td>449.97</td>\n",
    "                </tr>\n",
    "            </table>\n",
    "        </li>\n",
    "        <li>\n",
    "            <h4>xp_hero - Количество опыта, полученного игроком за вражеских героев.</h4>\n",
    "            <table border=\"1\" >\n",
    "                <tr>\n",
    "                    <th>Шкала</th>\n",
    "                    <th>Диапазон/Набор значений</th>\n",
    "                    <th>Среднее значение/мода</th>\n",
    "                </tr>\n",
    "                <tr>\n",
    "                    <td>Абсолютная</td>\n",
    "                    <td>[25; 29055] (наблюдаются пропуски)</td>\n",
    "                    <td>8764.77</td>\n",
    "                </tr>\n",
    "            </table>\n",
    "        </li>\n",
    "        <li>\n",
    "            <h4>xp_creep - Количество опыта, полученного игроком за крипов.</h4>\n",
    "            <table border=\"1\" >\n",
    "                <tr>\n",
    "                    <th>Шкала</th>\n",
    "                    <th>Диапазон/Набор значений</th>\n",
    "                    <th>Среднее значение/мода</th>\n",
    "                </tr>\n",
    "                <tr>\n",
    "                    <td>Абсолютная</td>\n",
    "                    <td>[10; 31602] (наблюдаются пропуски)</td>\n",
    "                    <td>9472.15</td>\n",
    "                </tr>\n",
    "            </table>\n",
    "        </li>\n",
    "        <li>\n",
    "            <h4>xp_roshan - Количество опыта, полученного игроком за Рошана.</h4>\n",
    "            <table border=\"1\" >\n",
    "                <tr>\n",
    "                    <th>Шкала</th>\n",
    "                    <th>Диапазон/Набор значений</th>\n",
    "                    <th>Среднее значение/мода</th>\n",
    "                </tr>\n",
    "                <tr>\n",
    "                    <td>Абсолютная</td>\n",
    "                    <td>[198; 8050] (наблюдаются пропуски)</td>\n",
    "                    <td>727.47</td>\n",
    "                </tr>\n",
    "            </table>\n",
    "        </li>\n",
    "        <li>\n",
    "            <h4>xp_other - Количество опыта, полученного игроком из других источников.</h4>\n",
    "            <table border=\"1\" >\n",
    "                <tr>\n",
    "                    <th>Шкала</th>\n",
    "                    <th>Диапазон/Набор значений</th>\n",
    "                    <th>Среднее значение/мода</th>\n",
    "                </tr>\n",
    "                <tr>\n",
    "                    <td>Абсолютная</td>\n",
    "                    <td>[1; 25557] (наблюдаются пропуски)</td>\n",
    "                    <td>448.59</td>\n",
    "                </tr>\n",
    "            </table>\n",
    "        </li>\n",
    "        <li>\n",
    "            <h4>leaver_status - Показывает, покидал ли игрок матч и каким способом.</h4>\n",
    "            <table border=\"1\" >\n",
    "                <tr>\n",
    "                    <th>Шкала</th>\n",
    "                    <th>Диапазон/Набор значений</th>\n",
    "                    <th>Среднее значение/мода</th>\n",
    "                </tr>\n",
    "                <tr>\n",
    "                    <td>Номинальная</td>\n",
    "                    <td>0 - не покидал игру, 1 - отключался, 2 - отключался на долгое время, 3 - покидал игру, 4 - долгое бездействие</td>\n",
    "                    <td>0</td>\n",
    "                </tr>\n",
    "            </table>\n",
    "        </li>\n",
    "    </ul>\n",
    "</div>"
   ]
  },
  {
   "cell_type": "code",
   "execution_count": 2,
   "id": "51267e23-2068-4271-b9b0-c502735919a5",
   "metadata": {},
   "outputs": [
    {
     "data": {
      "text/html": [
       "<div>\n",
       "<style scoped>\n",
       "    .dataframe tbody tr th:only-of-type {\n",
       "        vertical-align: middle;\n",
       "    }\n",
       "\n",
       "    .dataframe tbody tr th {\n",
       "        vertical-align: top;\n",
       "    }\n",
       "\n",
       "    .dataframe thead th {\n",
       "        text-align: right;\n",
       "    }\n",
       "</style>\n",
       "<table border=\"1\" class=\"dataframe\">\n",
       "  <thead>\n",
       "    <tr style=\"text-align: right;\">\n",
       "      <th></th>\n",
       "      <th>match_id</th>\n",
       "      <th>player_slot</th>\n",
       "      <th>localized_name</th>\n",
       "      <th>kills</th>\n",
       "      <th>deaths</th>\n",
       "      <th>assists</th>\n",
       "      <th>item_name_1</th>\n",
       "      <th>item_name_2</th>\n",
       "      <th>item_name_3</th>\n",
       "      <th>item_name_4</th>\n",
       "      <th>...</th>\n",
       "      <th>gold_killing_creeps</th>\n",
       "      <th>gold_killing_roshan</th>\n",
       "      <th>gold_killing_couriers</th>\n",
       "      <th>gold_other</th>\n",
       "      <th>xp_per_min</th>\n",
       "      <th>xp_hero</th>\n",
       "      <th>xp_creep</th>\n",
       "      <th>xp_roshan</th>\n",
       "      <th>xp_other</th>\n",
       "      <th>leaver_status</th>\n",
       "    </tr>\n",
       "  </thead>\n",
       "  <tbody>\n",
       "    <tr>\n",
       "      <th>0</th>\n",
       "      <td>0</td>\n",
       "      <td>0</td>\n",
       "      <td>Rubick</td>\n",
       "      <td>9</td>\n",
       "      <td>3</td>\n",
       "      <td>18</td>\n",
       "      <td>arcane_boots</td>\n",
       "      <td>ghost</td>\n",
       "      <td>bracer</td>\n",
       "      <td>ring_of_health</td>\n",
       "      <td>...</td>\n",
       "      <td>1087.0</td>\n",
       "      <td>400.0</td>\n",
       "      <td>NaN</td>\n",
       "      <td>50.0</td>\n",
       "      <td>362</td>\n",
       "      <td>8840.0</td>\n",
       "      <td>5440.0</td>\n",
       "      <td>NaN</td>\n",
       "      <td>83.0</td>\n",
       "      <td>0</td>\n",
       "    </tr>\n",
       "    <tr>\n",
       "      <th>1</th>\n",
       "      <td>0</td>\n",
       "      <td>1</td>\n",
       "      <td>Clockwerk</td>\n",
       "      <td>13</td>\n",
       "      <td>3</td>\n",
       "      <td>18</td>\n",
       "      <td>tpscroll</td>\n",
       "      <td>power_treads</td>\n",
       "      <td>shivas_guard</td>\n",
       "      <td>force_staff</td>\n",
       "      <td>...</td>\n",
       "      <td>4317.0</td>\n",
       "      <td>937.0</td>\n",
       "      <td>NaN</td>\n",
       "      <td>395.0</td>\n",
       "      <td>659</td>\n",
       "      <td>14331.0</td>\n",
       "      <td>8440.0</td>\n",
       "      <td>2683.0</td>\n",
       "      <td>671.0</td>\n",
       "      <td>0</td>\n",
       "    </tr>\n",
       "    <tr>\n",
       "      <th>2</th>\n",
       "      <td>0</td>\n",
       "      <td>2</td>\n",
       "      <td>Treant Protector</td>\n",
       "      <td>0</td>\n",
       "      <td>4</td>\n",
       "      <td>15</td>\n",
       "      <td>travel_boots</td>\n",
       "      <td>point_booster</td>\n",
       "      <td>energy_booster</td>\n",
       "      <td>ultimate_scepter</td>\n",
       "      <td>...</td>\n",
       "      <td>3697.0</td>\n",
       "      <td>400.0</td>\n",
       "      <td>NaN</td>\n",
       "      <td>259.0</td>\n",
       "      <td>385</td>\n",
       "      <td>6692.0</td>\n",
       "      <td>8112.0</td>\n",
       "      <td>NaN</td>\n",
       "      <td>453.0</td>\n",
       "      <td>0</td>\n",
       "    </tr>\n",
       "    <tr>\n",
       "      <th>3</th>\n",
       "      <td>0</td>\n",
       "      <td>3</td>\n",
       "      <td>Shadow Fiend</td>\n",
       "      <td>8</td>\n",
       "      <td>4</td>\n",
       "      <td>19</td>\n",
       "      <td>power_treads</td>\n",
       "      <td>manta</td>\n",
       "      <td>sange_and_yasha</td>\n",
       "      <td>helm_of_the_dominator</td>\n",
       "      <td>...</td>\n",
       "      <td>10432.0</td>\n",
       "      <td>400.0</td>\n",
       "      <td>NaN</td>\n",
       "      <td>100.0</td>\n",
       "      <td>605</td>\n",
       "      <td>8583.0</td>\n",
       "      <td>14230.0</td>\n",
       "      <td>894.0</td>\n",
       "      <td>293.0</td>\n",
       "      <td>0</td>\n",
       "    </tr>\n",
       "    <tr>\n",
       "      <th>4</th>\n",
       "      <td>0</td>\n",
       "      <td>4</td>\n",
       "      <td>Spectre</td>\n",
       "      <td>20</td>\n",
       "      <td>3</td>\n",
       "      <td>17</td>\n",
       "      <td>heart</td>\n",
       "      <td>urn_of_shadows</td>\n",
       "      <td>manta</td>\n",
       "      <td>NaN</td>\n",
       "      <td>...</td>\n",
       "      <td>9220.0</td>\n",
       "      <td>400.0</td>\n",
       "      <td>NaN</td>\n",
       "      <td>NaN</td>\n",
       "      <td>762</td>\n",
       "      <td>15814.0</td>\n",
       "      <td>14325.0</td>\n",
       "      <td>NaN</td>\n",
       "      <td>62.0</td>\n",
       "      <td>0</td>\n",
       "    </tr>\n",
       "    <tr>\n",
       "      <th>...</th>\n",
       "      <td>...</td>\n",
       "      <td>...</td>\n",
       "      <td>...</td>\n",
       "      <td>...</td>\n",
       "      <td>...</td>\n",
       "      <td>...</td>\n",
       "      <td>...</td>\n",
       "      <td>...</td>\n",
       "      <td>...</td>\n",
       "      <td>...</td>\n",
       "      <td>...</td>\n",
       "      <td>...</td>\n",
       "      <td>...</td>\n",
       "      <td>...</td>\n",
       "      <td>...</td>\n",
       "      <td>...</td>\n",
       "      <td>...</td>\n",
       "      <td>...</td>\n",
       "      <td>...</td>\n",
       "      <td>...</td>\n",
       "      <td>...</td>\n",
       "    </tr>\n",
       "    <tr>\n",
       "      <th>499995</th>\n",
       "      <td>49999</td>\n",
       "      <td>128</td>\n",
       "      <td>Tusk</td>\n",
       "      <td>16</td>\n",
       "      <td>9</td>\n",
       "      <td>16</td>\n",
       "      <td>silver_edge</td>\n",
       "      <td>bottle</td>\n",
       "      <td>NaN</td>\n",
       "      <td>phase_boots</td>\n",
       "      <td>...</td>\n",
       "      <td>2940.0</td>\n",
       "      <td>400.0</td>\n",
       "      <td>NaN</td>\n",
       "      <td>528.0</td>\n",
       "      <td>626</td>\n",
       "      <td>21496.0</td>\n",
       "      <td>6025.0</td>\n",
       "      <td>596.0</td>\n",
       "      <td>1007.0</td>\n",
       "      <td>0</td>\n",
       "    </tr>\n",
       "    <tr>\n",
       "      <th>499996</th>\n",
       "      <td>49999</td>\n",
       "      <td>129</td>\n",
       "      <td>Mirana</td>\n",
       "      <td>12</td>\n",
       "      <td>6</td>\n",
       "      <td>11</td>\n",
       "      <td>monkey_king_bar</td>\n",
       "      <td>power_treads</td>\n",
       "      <td>maelstrom</td>\n",
       "      <td>gem</td>\n",
       "      <td>...</td>\n",
       "      <td>4346.0</td>\n",
       "      <td>857.0</td>\n",
       "      <td>175.0</td>\n",
       "      <td>329.0</td>\n",
       "      <td>607</td>\n",
       "      <td>16360.0</td>\n",
       "      <td>9653.0</td>\n",
       "      <td>1490.0</td>\n",
       "      <td>740.0</td>\n",
       "      <td>0</td>\n",
       "    </tr>\n",
       "    <tr>\n",
       "      <th>499997</th>\n",
       "      <td>49999</td>\n",
       "      <td>130</td>\n",
       "      <td>Keeper of the Light</td>\n",
       "      <td>5</td>\n",
       "      <td>3</td>\n",
       "      <td>11</td>\n",
       "      <td>mekansm</td>\n",
       "      <td>travel_boots</td>\n",
       "      <td>invis_sword</td>\n",
       "      <td>ultimate_scepter</td>\n",
       "      <td>...</td>\n",
       "      <td>3833.0</td>\n",
       "      <td>400.0</td>\n",
       "      <td>175.0</td>\n",
       "      <td>303.0</td>\n",
       "      <td>404</td>\n",
       "      <td>8205.0</td>\n",
       "      <td>10012.0</td>\n",
       "      <td>NaN</td>\n",
       "      <td>600.0</td>\n",
       "      <td>0</td>\n",
       "    </tr>\n",
       "    <tr>\n",
       "      <th>499998</th>\n",
       "      <td>49999</td>\n",
       "      <td>131</td>\n",
       "      <td>Alchemist</td>\n",
       "      <td>8</td>\n",
       "      <td>6</td>\n",
       "      <td>17</td>\n",
       "      <td>silver_edge</td>\n",
       "      <td>sange_and_yasha</td>\n",
       "      <td>assault</td>\n",
       "      <td>travel_boots</td>\n",
       "      <td>...</td>\n",
       "      <td>12927.0</td>\n",
       "      <td>400.0</td>\n",
       "      <td>175.0</td>\n",
       "      <td>8302.0</td>\n",
       "      <td>703</td>\n",
       "      <td>11773.0</td>\n",
       "      <td>20005.0</td>\n",
       "      <td>596.0</td>\n",
       "      <td>327.0</td>\n",
       "      <td>0</td>\n",
       "    </tr>\n",
       "    <tr>\n",
       "      <th>499999</th>\n",
       "      <td>49999</td>\n",
       "      <td>132</td>\n",
       "      <td>Nature's Prophet</td>\n",
       "      <td>6</td>\n",
       "      <td>6</td>\n",
       "      <td>17</td>\n",
       "      <td>blink</td>\n",
       "      <td>mjollnir</td>\n",
       "      <td>travel_boots</td>\n",
       "      <td>demon_edge</td>\n",
       "      <td>...</td>\n",
       "      <td>10888.0</td>\n",
       "      <td>400.0</td>\n",
       "      <td>175.0</td>\n",
       "      <td>NaN</td>\n",
       "      <td>533</td>\n",
       "      <td>8210.0</td>\n",
       "      <td>15571.0</td>\n",
       "      <td>894.0</td>\n",
       "      <td>103.0</td>\n",
       "      <td>0</td>\n",
       "    </tr>\n",
       "  </tbody>\n",
       "</table>\n",
       "<p>500000 rows × 37 columns</p>\n",
       "</div>"
      ],
      "text/plain": [
       "        match_id  player_slot       localized_name  kills  deaths  assists  \\\n",
       "0              0            0               Rubick      9       3       18   \n",
       "1              0            1            Clockwerk     13       3       18   \n",
       "2              0            2     Treant Protector      0       4       15   \n",
       "3              0            3         Shadow Fiend      8       4       19   \n",
       "4              0            4              Spectre     20       3       17   \n",
       "...          ...          ...                  ...    ...     ...      ...   \n",
       "499995     49999          128                 Tusk     16       9       16   \n",
       "499996     49999          129               Mirana     12       6       11   \n",
       "499997     49999          130  Keeper of the Light      5       3       11   \n",
       "499998     49999          131            Alchemist      8       6       17   \n",
       "499999     49999          132     Nature's Prophet      6       6       17   \n",
       "\n",
       "            item_name_1      item_name_2      item_name_3  \\\n",
       "0          arcane_boots            ghost           bracer   \n",
       "1              tpscroll     power_treads     shivas_guard   \n",
       "2          travel_boots    point_booster   energy_booster   \n",
       "3          power_treads            manta  sange_and_yasha   \n",
       "4                 heart   urn_of_shadows            manta   \n",
       "...                 ...              ...              ...   \n",
       "499995      silver_edge           bottle              NaN   \n",
       "499996  monkey_king_bar     power_treads        maelstrom   \n",
       "499997          mekansm     travel_boots      invis_sword   \n",
       "499998      silver_edge  sange_and_yasha          assault   \n",
       "499999            blink         mjollnir     travel_boots   \n",
       "\n",
       "                  item_name_4  ... gold_killing_creeps gold_killing_roshan  \\\n",
       "0              ring_of_health  ...              1087.0               400.0   \n",
       "1                 force_staff  ...              4317.0               937.0   \n",
       "2            ultimate_scepter  ...              3697.0               400.0   \n",
       "3       helm_of_the_dominator  ...             10432.0               400.0   \n",
       "4                         NaN  ...              9220.0               400.0   \n",
       "...                       ...  ...                 ...                 ...   \n",
       "499995            phase_boots  ...              2940.0               400.0   \n",
       "499996                    gem  ...              4346.0               857.0   \n",
       "499997       ultimate_scepter  ...              3833.0               400.0   \n",
       "499998           travel_boots  ...             12927.0               400.0   \n",
       "499999             demon_edge  ...             10888.0               400.0   \n",
       "\n",
       "        gold_killing_couriers  gold_other  xp_per_min  xp_hero  xp_creep  \\\n",
       "0                         NaN        50.0         362   8840.0    5440.0   \n",
       "1                         NaN       395.0         659  14331.0    8440.0   \n",
       "2                         NaN       259.0         385   6692.0    8112.0   \n",
       "3                         NaN       100.0         605   8583.0   14230.0   \n",
       "4                         NaN         NaN         762  15814.0   14325.0   \n",
       "...                       ...         ...         ...      ...       ...   \n",
       "499995                    NaN       528.0         626  21496.0    6025.0   \n",
       "499996                  175.0       329.0         607  16360.0    9653.0   \n",
       "499997                  175.0       303.0         404   8205.0   10012.0   \n",
       "499998                  175.0      8302.0         703  11773.0   20005.0   \n",
       "499999                  175.0         NaN         533   8210.0   15571.0   \n",
       "\n",
       "        xp_roshan xp_other  leaver_status  \n",
       "0             NaN     83.0              0  \n",
       "1          2683.0    671.0              0  \n",
       "2             NaN    453.0              0  \n",
       "3           894.0    293.0              0  \n",
       "4             NaN     62.0              0  \n",
       "...           ...      ...            ...  \n",
       "499995      596.0   1007.0              0  \n",
       "499996     1490.0    740.0              0  \n",
       "499997        NaN    600.0              0  \n",
       "499998      596.0    327.0              0  \n",
       "499999      894.0    103.0              0  \n",
       "\n",
       "[500000 rows x 37 columns]"
      ]
     },
     "execution_count": 2,
     "metadata": {},
     "output_type": "execute_result"
    }
   ],
   "source": [
    "#Данные по игрокам\n",
    "players = pd.read_csv('dataset/players.csv')\n",
    "\n",
    "#Уточняющие данные по героям\n",
    "heroes = pd.read_csv('dataset/hero_names.csv')\n",
    "\n",
    "items = pd.read_csv('dataset/item_ids.csv')\n",
    "\n",
    "#Соединяем две эти выборки, чтобы можно было получить конкретное имя выбранного игроком героя, вместо id\n",
    "merged = players.merge(heroes, 'left', on = [\"hero_id\"])\n",
    "merged = merged.merge(items, 'left', left_on = [\"item_0\"], right_on = [\"item_id\"], suffixes = ['_0', '_1'])\n",
    "merged = merged.merge(items, 'left', left_on = [\"item_1\"], right_on = [\"item_id\"], suffixes = ['_1', '_2'])\n",
    "merged = merged.merge(items, 'left', left_on = [\"item_2\"], right_on = [\"item_id\"], suffixes = ['_2', '_3'])\n",
    "merged = merged.merge(items, 'left', left_on = [\"item_3\"], right_on = [\"item_id\"], suffixes = ['_3', '_4'])\n",
    "merged = merged.merge(items, 'left', left_on = [\"item_4\"], right_on = [\"item_id\"], suffixes = ['_4', '_5'])\n",
    "merged = merged.merge(items, 'left', left_on = [\"item_5\"], right_on = [\"item_id\"], suffixes = ['_5', '_6'])\n",
    "\n",
    "#Список атрибутов, которые нас интересуют\n",
    "attrib = [\"match_id\", \"player_slot\", \"localized_name\", \"kills\", \"deaths\", \"assists\", \n",
    "          \"item_name_1\", \"item_name_2\", \"item_name_3\", \"item_name_4\", \"item_name_5\" ,\"item_name_6\",\n",
    "          \"level\", \"last_hits\", \"denies\", \"hero_damage\", \"hero_healing\", \"tower_damage\", \"stuns\", \n",
    "          \"gold_spent\", \"gold_per_min\", \"gold_death\", \"gold_buyback\", \"gold_abandon\", \"gold_sell\", \"gold_destroying_structure\",\n",
    "          \"gold_killing_heros\", \"gold_killing_creeps\", \"gold_killing_roshan\", \"gold_killing_couriers\", \"gold_other\",\n",
    "          \"xp_per_min\", \"xp_hero\", \"xp_creep\", \"xp_roshan\", \"xp_other\", \"leaver_status\"]\n",
    "\n",
    "#Пример выборки\n",
    "merged[attrib]"
   ]
  },
  {
   "cell_type": "code",
   "execution_count": 3,
   "id": "6b0aa54a-e960-42f2-ac39-bfdcb1a0279b",
   "metadata": {},
   "outputs": [
    {
     "data": {
      "text/plain": [
       "count    500000.000000\n",
       "mean      24999.500000\n",
       "std       14433.771161\n",
       "min           0.000000\n",
       "25%       12499.750000\n",
       "50%       24999.500000\n",
       "75%       37499.250000\n",
       "max       49999.000000\n",
       "Name: match_id, dtype: float64"
      ]
     },
     "execution_count": 3,
     "metadata": {},
     "output_type": "execute_result"
    }
   ],
   "source": [
    "#Рассчет метрик по номеру матча\n",
    "merged.match_id = merged.match_id.astype(int);\n",
    "merged[\"match_id\"].describe()"
   ]
  },
  {
   "cell_type": "code",
   "execution_count": 4,
   "id": "289fdefc-e1fe-43a4-a6ae-77f35164e4c4",
   "metadata": {},
   "outputs": [
    {
     "data": {
      "text/plain": [
       "Windranger      20881\n",
       "Shadow Fiend    17007\n",
       "Invoker         11676\n",
       "Earthshaker     11323\n",
       "Slardar         11181\n",
       "                ...  \n",
       "Lone Druid        967\n",
       "Brewmaster        931\n",
       "Elder Titan       838\n",
       "Chen              579\n",
       "NaN                37\n",
       "Name: localized_name, Length: 111, dtype: int64"
      ]
     },
     "execution_count": 4,
     "metadata": {},
     "output_type": "execute_result"
    }
   ],
   "source": [
    "#Рассчет моды по именам героев\n",
    "merged[\"localized_name\"].value_counts(dropna = False)\n",
    "#37 пропусков"
   ]
  },
  {
   "cell_type": "code",
   "execution_count": 5,
   "id": "2bc0686f-7999-47b8-a8f8-d1fdfbc47c20",
   "metadata": {},
   "outputs": [
    {
     "data": {
      "text/plain": [
       "0      50000\n",
       "1      50000\n",
       "2      50000\n",
       "3      50000\n",
       "4      50000\n",
       "128    50000\n",
       "129    50000\n",
       "130    50000\n",
       "131    50000\n",
       "132    50000\n",
       "Name: player_slot, dtype: int64"
      ]
     },
     "execution_count": 5,
     "metadata": {},
     "output_type": "execute_result"
    }
   ],
   "source": [
    "#Рассчет моды по месту игрока\n",
    "merged[\"player_slot\"].value_counts(dropna = False)"
   ]
  },
  {
   "cell_type": "code",
   "execution_count": 6,
   "id": "b7fa6853-07a8-46cb-9152-9e7adfae2f71",
   "metadata": {},
   "outputs": [
    {
     "data": {
      "text/plain": [
       "count    500000.000000\n",
       "mean          7.680752\n",
       "std           3.808092\n",
       "min           0.000000\n",
       "25%           5.000000\n",
       "50%           8.000000\n",
       "75%          10.000000\n",
       "max          42.000000\n",
       "Name: deaths, dtype: float64"
      ]
     },
     "execution_count": 6,
     "metadata": {},
     "output_type": "execute_result"
    }
   ],
   "source": [
    "#Рассчет метрик по смертям\n",
    "merged.deaths = merged.deaths.astype(int);\n",
    "merged[\"deaths\"].describe()"
   ]
  },
  {
   "cell_type": "code",
   "execution_count": 7,
   "id": "6a7a45bb-54f6-4b1b-90fd-2694d7d40cac",
   "metadata": {},
   "outputs": [
    {
     "data": {
      "text/plain": [
       "count    500000.000000\n",
       "mean          7.404500\n",
       "std           5.437802\n",
       "min           0.000000\n",
       "25%           3.000000\n",
       "50%           6.000000\n",
       "75%          10.000000\n",
       "max          59.000000\n",
       "Name: kills, dtype: float64"
      ]
     },
     "execution_count": 7,
     "metadata": {},
     "output_type": "execute_result"
    }
   ],
   "source": [
    "#Рассчет метрик по добиваниям\n",
    "merged.kills = merged.kills.astype(int);\n",
    "merged[\"kills\"].describe()"
   ]
  },
  {
   "cell_type": "code",
   "execution_count": 8,
   "id": "018ce646-6b75-4c3d-8ff8-5ba1200980c8",
   "metadata": {},
   "outputs": [
    {
     "data": {
      "text/plain": [
       "count    500000.000000\n",
       "mean         11.761900\n",
       "std           6.393375\n",
       "min           0.000000\n",
       "25%           7.000000\n",
       "50%          11.000000\n",
       "75%          16.000000\n",
       "max          54.000000\n",
       "Name: assists, dtype: float64"
      ]
     },
     "execution_count": 8,
     "metadata": {},
     "output_type": "execute_result"
    }
   ],
   "source": [
    "#Рассчет метрик по содействиям\n",
    "merged.assists = merged.assists.astype(int);\n",
    "merged[\"assists\"].describe()"
   ]
  },
  {
   "cell_type": "code",
   "execution_count": 9,
   "id": "c73e8204-6967-416b-879f-f299f25e5df5",
   "metadata": {},
   "outputs": [
    {
     "data": {
      "text/plain": [
       "item_name_1      item_name_2       item_name_3      item_name_4        item_name_5      item_name_6    \n",
       "NaN              NaN               NaN              NaN                NaN              NaN                4543\n",
       "enchanted_mango  enchanted_mango   enchanted_mango  enchanted_mango    enchanted_mango  enchanted_mango     135\n",
       "ward_sentry      NaN               NaN              NaN                NaN              NaN                 119\n",
       "shadow_amulet    NaN               NaN              NaN                NaN              NaN                  96\n",
       "blink            NaN               NaN              NaN                NaN              NaN                  89\n",
       "                                                                                                           ... \n",
       "force_staff      guardian_greaves  orb_of_venom     shivas_guard       sange_and_yasha  tpscroll              1\n",
       "                                   ogre_axe         staff_of_wizardry  NaN              NaN                   1\n",
       "                                                    sheepstick         point_booster    blink                 1\n",
       "                                                    magic_wand         urn_of_shadows   NaN                   1\n",
       "manta            skadi             butterfly        diffusal_blade_2   travel_boots     vladmir               1\n",
       "Length: 483981, dtype: int64"
      ]
     },
     "execution_count": 9,
     "metadata": {},
     "output_type": "execute_result"
    }
   ],
   "source": [
    "#Рассчет моды по предметам\n",
    "merged[[\"item_name_1\", \"item_name_2\", \"item_name_3\", \"item_name_4\", \"item_name_5\", \"item_name_6\"]].value_counts(dropna = False)\n",
    "#4543 пропуска"
   ]
  },
  {
   "cell_type": "code",
   "execution_count": 10,
   "id": "e72be742-f35e-4cca-bd2a-93794bdee1f2",
   "metadata": {},
   "outputs": [
    {
     "data": {
      "text/plain": [
       "count    500000.000000\n",
       "mean         18.052190\n",
       "std           4.359442\n",
       "min           0.000000\n",
       "25%          15.000000\n",
       "50%          18.000000\n",
       "75%          21.000000\n",
       "max          25.000000\n",
       "Name: level, dtype: float64"
      ]
     },
     "execution_count": 10,
     "metadata": {},
     "output_type": "execute_result"
    }
   ],
   "source": [
    "#Рассчет метрик по уровню\n",
    "merged.level = merged.level.astype(int)\n",
    "merged[\"level\"].describe()"
   ]
  },
  {
   "cell_type": "code",
   "execution_count": 11,
   "id": "9fdcd8ac-d4b0-4c1d-aa99-ff451bedc8d5",
   "metadata": {},
   "outputs": [
    {
     "data": {
      "text/plain": [
       "count    500000.000000\n",
       "mean        129.483038\n",
       "std         100.062608\n",
       "min           0.000000\n",
       "25%          54.000000\n",
       "50%         105.000000\n",
       "75%         178.000000\n",
       "max        2000.000000\n",
       "Name: last_hits, dtype: float64"
      ]
     },
     "execution_count": 11,
     "metadata": {},
     "output_type": "execute_result"
    }
   ],
   "source": [
    "#Рассчет метрик по добиваниям крипов\n",
    "merged.last_hits = merged.last_hits.astype(int)\n",
    "merged[\"last_hits\"].describe()"
   ]
  },
  {
   "cell_type": "code",
   "execution_count": 12,
   "id": "536b8000-3b25-43a3-9267-53985d822f05",
   "metadata": {},
   "outputs": [
    {
     "data": {
      "text/plain": [
       "count    500000.000000\n",
       "mean          5.135890\n",
       "std           5.898714\n",
       "min           0.000000\n",
       "25%           1.000000\n",
       "50%           3.000000\n",
       "75%           7.000000\n",
       "max         112.000000\n",
       "Name: denies, dtype: float64"
      ]
     },
     "execution_count": 12,
     "metadata": {},
     "output_type": "execute_result"
    }
   ],
   "source": [
    "#Рассчет метрик по добиванию союзных крипов\n",
    "merged.denies = merged.denies.astype(int)\n",
    "merged[\"denies\"].describe()"
   ]
  },
  {
   "cell_type": "code",
   "execution_count": 13,
   "id": "6690066b-fd00-4490-9cb6-999e572ebfac",
   "metadata": {},
   "outputs": [
    {
     "data": {
      "text/plain": [
       "count    500000.000000\n",
       "mean      12234.778756\n",
       "std        6720.160908\n",
       "min           0.000000\n",
       "25%        7308.750000\n",
       "50%       10946.000000\n",
       "75%       15873.250000\n",
       "max       74932.000000\n",
       "Name: hero_damage, dtype: float64"
      ]
     },
     "execution_count": 13,
     "metadata": {},
     "output_type": "execute_result"
    }
   ],
   "source": [
    "#Рассчет метрик по урону по героям\n",
    "merged.hero_damage = merged.hero_damage.astype(int)\n",
    "merged[\"hero_damage\"].describe()"
   ]
  },
  {
   "cell_type": "code",
   "execution_count": 14,
   "id": "c5c6073f-2805-44f0-92f0-5274bc4ec2da",
   "metadata": {},
   "outputs": [
    {
     "data": {
      "text/plain": [
       "count    500000.000000\n",
       "mean        466.624926\n",
       "std        1210.352769\n",
       "min           0.000000\n",
       "25%           0.000000\n",
       "50%           0.000000\n",
       "75%         214.000000\n",
       "max       19222.000000\n",
       "Name: hero_healing, dtype: float64"
      ]
     },
     "execution_count": 14,
     "metadata": {},
     "output_type": "execute_result"
    }
   ],
   "source": [
    "#Рассчет метрик по лечению союзников\n",
    "merged.hero_healing = merged.hero_healing.astype(int)\n",
    "merged[\"hero_healing\"].describe()"
   ]
  },
  {
   "cell_type": "code",
   "execution_count": 15,
   "id": "c2867e04-a112-4cee-a59d-86c30b43edc7",
   "metadata": {},
   "outputs": [
    {
     "data": {
      "text/plain": [
       "count    500000.000000\n",
       "mean       1313.210234\n",
       "std        1801.189106\n",
       "min           0.000000\n",
       "25%         118.000000\n",
       "50%         554.000000\n",
       "75%        1750.000000\n",
       "max       15986.000000\n",
       "Name: tower_damage, dtype: float64"
      ]
     },
     "execution_count": 15,
     "metadata": {},
     "output_type": "execute_result"
    }
   ],
   "source": [
    "#Рассчет метрик по урону по башням\n",
    "merged.tower_damage = merged.tower_damage.astype(int)\n",
    "merged[\"tower_damage\"].describe()"
   ]
  },
  {
   "cell_type": "code",
   "execution_count": 16,
   "id": "712eae87-2c1c-45c7-8bbb-0abdfc77f1e5",
   "metadata": {},
   "outputs": [
    {
     "data": {
      "text/plain": [
       "count     500000\n",
       "unique    233910\n",
       "top         None\n",
       "freq      152349\n",
       "Name: stuns, dtype: object"
      ]
     },
     "execution_count": 16,
     "metadata": {},
     "output_type": "execute_result"
    }
   ],
   "source": [
    "#Рассчет метрик по контролю\n",
    "#merged.stuns = merged.stuns.astype(int)\n",
    "merged[\"stuns\"].describe()"
   ]
  },
  {
   "cell_type": "code",
   "execution_count": 17,
   "id": "c01ac147-6780-4833-a4f4-a73021ab02c4",
   "metadata": {},
   "outputs": [
    {
     "data": {
      "text/plain": [
       "None         152349\n",
       "1.40488         779\n",
       "1.00342         767\n",
       "0.0334375       764\n",
       "0.066875        682\n",
       "              ...  \n",
       "26.5079           1\n",
       "6.07764           1\n",
       "33.5736           1\n",
       "93.7526           1\n",
       "64.3631           1\n",
       "Name: stuns, Length: 233910, dtype: int64"
      ]
     },
     "execution_count": 17,
     "metadata": {},
     "output_type": "execute_result"
    }
   ],
   "source": [
    "merged[\"stuns\"].value_counts(dropna = False)\n",
    "#152349 пропусков"
   ]
  },
  {
   "cell_type": "code",
   "execution_count": 18,
   "id": "a4ef15d0-b86e-4a9a-8f9e-1fd606f6b340",
   "metadata": {},
   "outputs": [
    {
     "data": {
      "text/plain": [
       "count    500000.000000\n",
       "mean      14110.043850\n",
       "std        6401.868898\n",
       "min           0.000000\n",
       "25%        9590.000000\n",
       "50%       13110.000000\n",
       "75%       17635.000000\n",
       "max      200000.000000\n",
       "Name: gold_spent, dtype: float64"
      ]
     },
     "execution_count": 18,
     "metadata": {},
     "output_type": "execute_result"
    }
   ],
   "source": [
    "#Рассчет метрик по потраченному золоту\n",
    "merged.gold_spent = merged.gold_spent.astype(int)\n",
    "merged[\"gold_spent\"].describe()"
   ]
  },
  {
   "cell_type": "code",
   "execution_count": 19,
   "id": "79ff1d40-2c8b-4d35-aac3-b810f51d6c32",
   "metadata": {},
   "outputs": [
    {
     "data": {
      "text/plain": [
       "count    500000.000000\n",
       "mean        415.097178\n",
       "std         138.210124\n",
       "min         100.000000\n",
       "25%         317.000000\n",
       "50%         395.000000\n",
       "75%         496.000000\n",
       "max        1601.000000\n",
       "Name: gold_per_min, dtype: float64"
      ]
     },
     "execution_count": 19,
     "metadata": {},
     "output_type": "execute_result"
    }
   ],
   "source": [
    "#Рассчет метрик по золоту в минуту\n",
    "merged.gold_per_min = merged.gold_per_min.astype(int)\n",
    "merged[\"gold_per_min\"].describe()"
   ]
  },
  {
   "cell_type": "code",
   "execution_count": 20,
   "id": "36f08be7-8b52-482f-8fc1-a8c74afe307e",
   "metadata": {},
   "outputs": [
    {
     "data": {
      "text/plain": [
       "count    493701.000000\n",
       "mean      -2688.560021\n",
       "std        1493.952000\n",
       "min      -23757.000000\n",
       "25%       -3589.000000\n",
       "50%       -2514.000000\n",
       "75%       -1584.000000\n",
       "max         -29.000000\n",
       "Name: gold_death, dtype: float64"
      ]
     },
     "execution_count": 20,
     "metadata": {},
     "output_type": "execute_result"
    }
   ],
   "source": [
    "#Рассчет метрик по потерянному от смертей золоту\n",
    "#merged.gold_death = merged.gold_death.astype(int); возможно пропуски\n",
    "merged[\"gold_death\"].describe()"
   ]
  },
  {
   "cell_type": "code",
   "execution_count": 21,
   "id": "c62cdd33-7537-4dd2-8d16-2a31b9c582db",
   "metadata": {},
   "outputs": [
    {
     "data": {
      "text/plain": [
       " NaN       6299\n",
       "-329.0     1713\n",
       "-239.0     1335\n",
       "-927.0     1109\n",
       "-987.0     1098\n",
       "           ... \n",
       "-5694.0       1\n",
       "-2263.0       1\n",
       "-1901.0       1\n",
       "-4045.0       1\n",
       "-3039.0       1\n",
       "Name: gold_death, Length: 5159, dtype: int64"
      ]
     },
     "execution_count": 21,
     "metadata": {},
     "output_type": "execute_result"
    }
   ],
   "source": [
    "merged[\"gold_death\"].value_counts(dropna = False)\n",
    "#6299 пропусков "
   ]
  },
  {
   "cell_type": "code",
   "execution_count": 22,
   "id": "38a4763e-95f5-40f8-a7ae-62496ddb99b0",
   "metadata": {},
   "outputs": [
    {
     "data": {
      "text/plain": [
       "count    147141.000000\n",
       "mean      -1145.884213\n",
       "std         760.055288\n",
       "min      -22602.000000\n",
       "25%       -1479.000000\n",
       "50%       -1071.000000\n",
       "75%        -682.000000\n",
       "max          -5.000000\n",
       "Name: gold_buyback, dtype: float64"
      ]
     },
     "execution_count": 22,
     "metadata": {},
     "output_type": "execute_result"
    }
   ],
   "source": [
    "#Рассчет метрик по потерянному от выкупа золоту\n",
    "#merged.gold_buyback = merged.gold_buyback.astype(int)\n",
    "merged[\"gold_buyback\"].describe()"
   ]
  },
  {
   "cell_type": "code",
   "execution_count": 23,
   "id": "6cf09fe3-06a5-4950-be6e-9f413a4d7f88",
   "metadata": {},
   "outputs": [
    {
     "data": {
      "text/plain": [
       " NaN       352859\n",
       "-973.0        136\n",
       "-969.0        134\n",
       "-1064.0       133\n",
       "-1107.0       131\n",
       "            ...  \n",
       "-5761.0         1\n",
       "-4573.0         1\n",
       "-4006.0         1\n",
       "-4593.0         1\n",
       "-4617.0         1\n",
       "Name: gold_buyback, Length: 4680, dtype: int64"
      ]
     },
     "execution_count": 23,
     "metadata": {},
     "output_type": "execute_result"
    }
   ],
   "source": [
    "merged[\"gold_buyback\"].value_counts(dropna = False)\n",
    "#352859 пропусков"
   ]
  },
  {
   "cell_type": "code",
   "execution_count": 24,
   "id": "f96722dc-6c0e-4096-9240-397c84b01a24",
   "metadata": {},
   "outputs": [
    {
     "data": {
      "text/plain": [
       "count    20634.000000\n",
       "mean      1115.667394\n",
       "std       1294.733983\n",
       "min          5.000000\n",
       "25%        333.250000\n",
       "50%        764.000000\n",
       "75%       1444.000000\n",
       "max      18339.000000\n",
       "Name: gold_abandon, dtype: float64"
      ]
     },
     "execution_count": 24,
     "metadata": {},
     "output_type": "execute_result"
    }
   ],
   "source": [
    "#Рассчет метрик по золоту, полученному от покинувших игру союзников\n",
    "#merged.gold_abandon = merged.gold_abandon.astype(int)\n",
    "merged[\"gold_abandon\"].describe()"
   ]
  },
  {
   "cell_type": "code",
   "execution_count": 25,
   "id": "a3c4f66d-820e-446a-82e9-98a3e3d16e02",
   "metadata": {},
   "outputs": [
    {
     "data": {
      "text/plain": [
       "NaN        479366\n",
       "156.0         612\n",
       "155.0          75\n",
       "152.0          61\n",
       "153.0          61\n",
       "            ...  \n",
       "5854.0          1\n",
       "7143.0          1\n",
       "12216.0         1\n",
       "9313.0          1\n",
       "3946.0          1\n",
       "Name: gold_abandon, Length: 2891, dtype: int64"
      ]
     },
     "execution_count": 25,
     "metadata": {},
     "output_type": "execute_result"
    }
   ],
   "source": [
    "merged[\"gold_abandon\"].value_counts(dropna = False)\n",
    "#479366 пропуска"
   ]
  },
  {
   "cell_type": "code",
   "execution_count": 26,
   "id": "f432cdb1-ddbd-4916-986f-c97803c70515",
   "metadata": {},
   "outputs": [
    {
     "data": {
      "text/plain": [
       "count    397407.000000\n",
       "mean        658.732262\n",
       "std        1016.637351\n",
       "min          15.000000\n",
       "25%         137.000000\n",
       "50%         350.000000\n",
       "75%         819.000000\n",
       "max      197237.000000\n",
       "Name: gold_sell, dtype: float64"
      ]
     },
     "execution_count": 26,
     "metadata": {},
     "output_type": "execute_result"
    }
   ],
   "source": [
    "#Рассчет метрик по золоту, полученному от продажи предметов\n",
    "#merged.gold_sell = merged.gold_sell.astype(int)\n",
    "merged[\"gold_sell\"].describe()"
   ]
  },
  {
   "cell_type": "code",
   "execution_count": 27,
   "id": "902714ea-533a-4b7d-bd17-16f2357e902a",
   "metadata": {},
   "outputs": [
    {
     "data": {
      "text/plain": [
       "NaN        102593\n",
       "100.0       16249\n",
       "25.0        14249\n",
       "50.0        11942\n",
       "75.0        10103\n",
       "            ...  \n",
       "12862.0         1\n",
       "6198.0          1\n",
       "3740.0          1\n",
       "5119.0          1\n",
       "6364.0          1\n",
       "Name: gold_sell, Length: 6073, dtype: int64"
      ]
     },
     "execution_count": 27,
     "metadata": {},
     "output_type": "execute_result"
    }
   ],
   "source": [
    "merged[\"gold_sell\"].value_counts(dropna = False)\n",
    "#102593 пропуска"
   ]
  },
  {
   "cell_type": "code",
   "execution_count": 28,
   "id": "2f8f04f1-8002-492b-be82-53aeaf414ff9",
   "metadata": {},
   "outputs": [
    {
     "data": {
      "text/plain": [
       "count    480325.000000\n",
       "mean       2448.746738\n",
       "std        1705.861204\n",
       "min          32.000000\n",
       "25%         680.000000\n",
       "50%        2754.000000\n",
       "75%        3975.000000\n",
       "max        7610.000000\n",
       "Name: gold_destroying_structure, dtype: float64"
      ]
     },
     "execution_count": 28,
     "metadata": {},
     "output_type": "execute_result"
    }
   ],
   "source": [
    "#Рассчет метрик по золоту, полученному от разрушения построек\n",
    "#merged.gold_destroying_structure = merged.gold_destroying_structure.astype(int)\n",
    "merged[\"gold_destroying_structure\"].describe()"
   ]
  },
  {
   "cell_type": "code",
   "execution_count": 29,
   "id": "b0339d11-ff3c-4c27-a3e9-396dc6c24cc3",
   "metadata": {},
   "outputs": [
    {
     "data": {
      "text/plain": [
       "160.0     24181\n",
       "320.0     22106\n",
       "NaN       19675\n",
       "3860.0    17251\n",
       "480.0     15950\n",
       "          ...  \n",
       "6528.0        1\n",
       "6146.0        1\n",
       "6357.0        1\n",
       "6723.0        1\n",
       "6396.0        1\n",
       "Name: gold_destroying_structure, Length: 6266, dtype: int64"
      ]
     },
     "execution_count": 29,
     "metadata": {},
     "output_type": "execute_result"
    }
   ],
   "source": [
    "merged[\"gold_destroying_structure\"].value_counts(dropna = False)\n",
    "#19675 пропусков"
   ]
  },
  {
   "cell_type": "code",
   "execution_count": 30,
   "id": "1a7cbefa-3e07-4b73-8ab6-880a89bb82a9",
   "metadata": {},
   "outputs": [
    {
     "data": {
      "text/plain": [
       "count    498435.000000\n",
       "mean       4951.472714\n",
       "std        2674.102111\n",
       "min          18.000000\n",
       "25%        3033.000000\n",
       "50%        4547.000000\n",
       "75%        6419.000000\n",
       "max       37658.000000\n",
       "Name: gold_killing_heros, dtype: float64"
      ]
     },
     "execution_count": 30,
     "metadata": {},
     "output_type": "execute_result"
    }
   ],
   "source": [
    "#Рассчет метрик по золоту, полученному от добивания героев\n",
    "#merged.gold_killing_heros = merged.gold_killing_heros.astype(int)\n",
    "merged[\"gold_killing_heros\"].describe()"
   ]
  },
  {
   "cell_type": "code",
   "execution_count": 31,
   "id": "c8cce482-c54c-47af-a335-4b825d9160d6",
   "metadata": {},
   "outputs": [
    {
     "data": {
      "text/plain": [
       "NaN        1565\n",
       "3907.0      116\n",
       "3580.0      112\n",
       "3518.0      110\n",
       "3592.0      110\n",
       "           ... \n",
       "15397.0       1\n",
       "12811.0       1\n",
       "18139.0       1\n",
       "12232.0       1\n",
       "15620.0       1\n",
       "Name: gold_killing_heros, Length: 15949, dtype: int64"
      ]
     },
     "execution_count": 31,
     "metadata": {},
     "output_type": "execute_result"
    }
   ],
   "source": [
    "merged[\"gold_killing_heros\"].value_counts(dropna = False)\n",
    "#1565 пропусков"
   ]
  },
  {
   "cell_type": "code",
   "execution_count": 32,
   "id": "877e57be-55fe-4ab1-aa3a-f5d949bcef8a",
   "metadata": {},
   "outputs": [
    {
     "data": {
      "text/plain": [
       "count    499706.000000\n",
       "mean       5103.975133\n",
       "std        3930.028854\n",
       "min          18.000000\n",
       "25%        2105.000000\n",
       "50%        4176.000000\n",
       "75%        7076.000000\n",
       "max      112058.000000\n",
       "Name: gold_killing_creeps, dtype: float64"
      ]
     },
     "execution_count": 32,
     "metadata": {},
     "output_type": "execute_result"
    }
   ],
   "source": [
    "#Рассчет метрик по золоту, полученному от добивания крипов\n",
    "#merged.gold_killing_creeps = merged.gold_killing_creeps.astype(int)\n",
    "merged[\"gold_killing_creeps\"].describe()"
   ]
  },
  {
   "cell_type": "code",
   "execution_count": 33,
   "id": "f28ab05e-9acf-4186-8979-f38c7ff957b4",
   "metadata": {},
   "outputs": [
    {
     "data": {
      "text/plain": [
       "NaN        294\n",
       "1293.0     100\n",
       "1550.0      99\n",
       "1254.0      99\n",
       "2003.0      99\n",
       "          ... \n",
       "19477.0      1\n",
       "21618.0      1\n",
       "26885.0      1\n",
       "25344.0      1\n",
       "25879.0      1\n",
       "Name: gold_killing_creeps, Length: 21096, dtype: int64"
      ]
     },
     "execution_count": 33,
     "metadata": {},
     "output_type": "execute_result"
    }
   ],
   "source": [
    "merged[\"gold_killing_creeps\"].value_counts(dropna = False)\n",
    "#294 пропуска"
   ]
  },
  {
   "cell_type": "code",
   "execution_count": 34,
   "id": "72971733-d695-44f5-b9a5-eacc97ff0837",
   "metadata": {},
   "outputs": [
    {
     "data": {
      "text/plain": [
       "count    259736.000000\n",
       "mean        376.675474\n",
       "std         239.320201\n",
       "min          80.000000\n",
       "25%         200.000000\n",
       "50%         200.000000\n",
       "75%         454.000000\n",
       "max        4227.000000\n",
       "Name: gold_killing_roshan, dtype: float64"
      ]
     },
     "execution_count": 34,
     "metadata": {},
     "output_type": "execute_result"
    }
   ],
   "source": [
    "#Рассчет метрик по золоту, полученному от Рошана\n",
    "#merged.gold_killing_roshan = merged.gold_killing_roshan.astype(int)\n",
    "merged[\"gold_killing_roshan\"].describe()"
   ]
  },
  {
   "cell_type": "code",
   "execution_count": 35,
   "id": "b3e90599-8ccc-4353-b652-0c3b910e61ec",
   "metadata": {},
   "outputs": [
    {
     "data": {
      "text/plain": [
       "NaN       240264\n",
       "200.0     129601\n",
       "400.0      50924\n",
       "600.0      12183\n",
       "800.0       2158\n",
       "           ...  \n",
       "1532.0         1\n",
       "196.0          1\n",
       "1963.0         1\n",
       "2076.0         1\n",
       "1818.0         1\n",
       "Name: gold_killing_roshan, Length: 1679, dtype: int64"
      ]
     },
     "execution_count": 35,
     "metadata": {},
     "output_type": "execute_result"
    }
   ],
   "source": [
    "merged[\"gold_killing_roshan\"].value_counts(dropna = False)\n",
    "#240264 пропуска"
   ]
  },
  {
   "cell_type": "code",
   "execution_count": 36,
   "id": "44e12cd2-6d24-4563-9bc8-b8131a580708",
   "metadata": {},
   "outputs": [
    {
     "data": {
      "text/plain": [
       "count    96979.000000\n",
       "mean       197.016983\n",
       "std         80.206079\n",
       "min         60.000000\n",
       "25%        175.000000\n",
       "50%        175.000000\n",
       "75%        175.000000\n",
       "max       1725.000000\n",
       "Name: gold_killing_couriers, dtype: float64"
      ]
     },
     "execution_count": 36,
     "metadata": {},
     "output_type": "execute_result"
    }
   ],
   "source": [
    "#Рассчет метрик по золоту, полученному от добивания курьеров\n",
    "#merged.gold_killing_couriers = merged.gold_killing_couriers.astype(int)\n",
    "merged[\"gold_killing_couriers\"].describe()"
   ]
  },
  {
   "cell_type": "code",
   "execution_count": 37,
   "id": "a6f3c55f-910e-4e03-aa9c-b74d19b2ba31",
   "metadata": {},
   "outputs": [
    {
     "data": {
      "text/plain": [
       "NaN       403021\n",
       "175.0      67545\n",
       "150.0      14823\n",
       "350.0       7095\n",
       "325.0       3165\n",
       "           ...  \n",
       "535.0          1\n",
       "585.0          1\n",
       "1015.0         1\n",
       "315.0          1\n",
       "360.0          1\n",
       "Name: gold_killing_couriers, Length: 63, dtype: int64"
      ]
     },
     "execution_count": 37,
     "metadata": {},
     "output_type": "execute_result"
    }
   ],
   "source": [
    "merged[\"gold_killing_couriers\"].value_counts(dropna = False)\n",
    "#403021 пропуска"
   ]
  },
  {
   "cell_type": "code",
   "execution_count": 38,
   "id": "75934a53-456d-46bd-8e0c-58e6d8313f90",
   "metadata": {},
   "outputs": [
    {
     "data": {
      "text/plain": [
       "count    405103.000000\n",
       "mean        493.658440\n",
       "std        1374.012781\n",
       "min        -100.000000\n",
       "25%         110.000000\n",
       "50%         217.000000\n",
       "75%         390.000000\n",
       "max       30986.000000\n",
       "Name: gold_other, dtype: float64"
      ]
     },
     "execution_count": 38,
     "metadata": {},
     "output_type": "execute_result"
    }
   ],
   "source": [
    "#Рассчет метрик по золоту, полученному из других источников\n",
    "#merged.gold_other = merged.gold_other.astype(int)\n",
    "merged[\"gold_other\"].describe()"
   ]
  },
  {
   "cell_type": "code",
   "execution_count": 39,
   "id": "9da79d95-3ca0-44c6-b3c2-6e9a19741fb4",
   "metadata": {},
   "outputs": [
    {
     "data": {
      "text/plain": [
       "NaN        94897\n",
       "100.0      22167\n",
       "50.0       18088\n",
       "150.0       6042\n",
       "54.0        3343\n",
       "           ...  \n",
       "2052.0         1\n",
       "5974.0         1\n",
       "12944.0        1\n",
       "7605.0         1\n",
       "8302.0         1\n",
       "Name: gold_other, Length: 9596, dtype: int64"
      ]
     },
     "execution_count": 39,
     "metadata": {},
     "output_type": "execute_result"
    }
   ],
   "source": [
    "merged[\"gold_other\"].value_counts(dropna = False)\n",
    "#94897 пропуска"
   ]
  },
  {
   "cell_type": "code",
   "execution_count": 40,
   "id": "6207cf92-55ca-4acb-be3c-8f22e1022dce",
   "metadata": {},
   "outputs": [
    {
     "data": {
      "text/plain": [
       "count    500000.000000\n",
       "mean        449.972326\n",
       "std         146.399782\n",
       "min           0.000000\n",
       "25%         343.000000\n",
       "50%         443.000000\n",
       "75%         550.000000\n",
       "max        1559.000000\n",
       "Name: xp_per_min, dtype: float64"
      ]
     },
     "execution_count": 40,
     "metadata": {},
     "output_type": "execute_result"
    }
   ],
   "source": [
    "#Рассчет метрик по опыту в минуту\n",
    "merged.xp_per_min = merged.xp_per_min.astype(int)\n",
    "merged[\"xp_per_min\"].describe()"
   ]
  },
  {
   "cell_type": "code",
   "execution_count": 41,
   "id": "1366dbec-d25e-4963-b673-b7f3468f890d",
   "metadata": {},
   "outputs": [
    {
     "data": {
      "text/plain": [
       "count    498117.000000\n",
       "mean       8764.772204\n",
       "std        4858.972342\n",
       "min          25.000000\n",
       "25%        5030.000000\n",
       "50%        8122.000000\n",
       "75%       11939.000000\n",
       "max       29055.000000\n",
       "Name: xp_hero, dtype: float64"
      ]
     },
     "execution_count": 41,
     "metadata": {},
     "output_type": "execute_result"
    }
   ],
   "source": [
    "#Рассчет метрик по опыту, полученному от добиваний героев\n",
    "#merged.xp_hero = merged.xp_hero.astype(int)\n",
    "merged[\"xp_hero\"].describe()"
   ]
  },
  {
   "cell_type": "code",
   "execution_count": 42,
   "id": "a58a9924-52bb-4508-afba-797031777c67",
   "metadata": {},
   "outputs": [
    {
     "data": {
      "text/plain": [
       "NaN        1883\n",
       "7625.0       67\n",
       "5918.0       66\n",
       "65.0         64\n",
       "4866.0       64\n",
       "           ... \n",
       "23402.0       1\n",
       "26837.0       1\n",
       "21240.0       1\n",
       "23029.0       1\n",
       "25474.0       1\n",
       "Name: xp_hero, Length: 23855, dtype: int64"
      ]
     },
     "execution_count": 42,
     "metadata": {},
     "output_type": "execute_result"
    }
   ],
   "source": [
    "merged[\"xp_hero\"].value_counts(dropna = False)\n",
    "#1883 пропуска"
   ]
  },
  {
   "cell_type": "code",
   "execution_count": 43,
   "id": "5379bdb9-2c90-4faa-b1a4-72a3f488652a",
   "metadata": {},
   "outputs": [
    {
     "data": {
      "text/plain": [
       "count    499932.000000\n",
       "mean       9472.158053\n",
       "std        4421.883182\n",
       "min          10.000000\n",
       "25%        6129.000000\n",
       "50%        8653.000000\n",
       "75%       12078.000000\n",
       "max       31642.000000\n",
       "Name: xp_creep, dtype: float64"
      ]
     },
     "execution_count": 43,
     "metadata": {},
     "output_type": "execute_result"
    }
   ],
   "source": [
    "#Рассчет метрик по опыту, полученному от добиваний крипов\n",
    "#merged.xp_creep = merged.xp_creep.astype(int)\n",
    "merged[\"xp_creep\"].describe()"
   ]
  },
  {
   "cell_type": "code",
   "execution_count": 44,
   "id": "d5f61be5-3a5f-4c0f-b951-f77beaebac3e",
   "metadata": {},
   "outputs": [
    {
     "data": {
      "text/plain": [
       "6764.0     81\n",
       "8380.0     73\n",
       "6115.0     73\n",
       "6067.0     73\n",
       "6265.0     72\n",
       "           ..\n",
       "25552.0     1\n",
       "944.0       1\n",
       "1674.0      1\n",
       "25770.0     1\n",
       "23680.0     1\n",
       "Name: xp_creep, Length: 24057, dtype: int64"
      ]
     },
     "execution_count": 44,
     "metadata": {},
     "output_type": "execute_result"
    }
   ],
   "source": [
    "merged[\"xp_creep\"].value_counts(dropna = False)\n",
    "#67 пропусков"
   ]
  },
  {
   "cell_type": "code",
   "execution_count": 45,
   "id": "5d13b078-2232-4a56-bad8-21a2e12cb038",
   "metadata": {},
   "outputs": [
    {
     "data": {
      "text/plain": [
       "count    179562.000000\n",
       "mean        727.477985\n",
       "std         541.189746\n",
       "min         198.000000\n",
       "25%         447.000000\n",
       "50%         596.000000\n",
       "75%         894.000000\n",
       "max        8050.000000\n",
       "Name: xp_roshan, dtype: float64"
      ]
     },
     "execution_count": 45,
     "metadata": {},
     "output_type": "execute_result"
    }
   ],
   "source": [
    "#Рассчет метрик по опыту, полученному от Рошана\n",
    "#merged.xp_roshan = merged.xp_roshan.astype(int)\n",
    "merged[\"xp_roshan\"].describe()"
   ]
  },
  {
   "cell_type": "code",
   "execution_count": 46,
   "id": "d969ca83-45ec-4d75-9469-c42239a86faa",
   "metadata": {},
   "outputs": [
    {
     "data": {
      "text/plain": [
       "NaN       320438\n",
       "447.0      50932\n",
       "596.0      34299\n",
       "357.0      31919\n",
       "894.0      18962\n",
       "           ...  \n",
       "808.0          1\n",
       "5217.0         1\n",
       "3534.0         1\n",
       "2938.0         1\n",
       "2949.0         1\n",
       "Name: xp_roshan, Length: 158, dtype: int64"
      ]
     },
     "execution_count": 46,
     "metadata": {},
     "output_type": "execute_result"
    }
   ],
   "source": [
    "merged[\"xp_roshan\"].value_counts(dropna = False)\n",
    "#320438 пропусков"
   ]
  },
  {
   "cell_type": "code",
   "execution_count": 47,
   "id": "b18b0e0b-ef13-4e07-8366-754da23c17f0",
   "metadata": {},
   "outputs": [
    {
     "data": {
      "text/plain": [
       "count    478964.000000\n",
       "mean        448.593034\n",
       "std        1131.893291\n",
       "min           1.000000\n",
       "25%         130.000000\n",
       "50%         296.000000\n",
       "75%         548.250000\n",
       "max       25557.000000\n",
       "Name: xp_other, dtype: float64"
      ]
     },
     "execution_count": 47,
     "metadata": {},
     "output_type": "execute_result"
    }
   ],
   "source": [
    "#Рассчет метрик по опыту, полученному из других источников\n",
    "#merged.xp_other = merged.xp_other.astype(int)\n",
    "merged[\"xp_other\"].describe()"
   ]
  },
  {
   "cell_type": "code",
   "execution_count": 48,
   "id": "a89457f3-9a1c-472e-9528-80a26a03eee3",
   "metadata": {},
   "outputs": [
    {
     "data": {
      "text/plain": [
       "NaN        21036\n",
       "100.0       4344\n",
       "25.0        4205\n",
       "1.0         3285\n",
       "12.0        3147\n",
       "           ...  \n",
       "23624.0        1\n",
       "18463.0        1\n",
       "2372.0         1\n",
       "14227.0        1\n",
       "16632.0        1\n",
       "Name: xp_other, Length: 4162, dtype: int64"
      ]
     },
     "execution_count": 48,
     "metadata": {},
     "output_type": "execute_result"
    }
   ],
   "source": [
    "merged[\"xp_other\"].value_counts(dropna = False)\n",
    "#21036 пропусков"
   ]
  },
  {
   "cell_type": "code",
   "execution_count": 49,
   "id": "7d61456c-19fd-44c5-9d47-c5df90684ec0",
   "metadata": {},
   "outputs": [
    {
     "data": {
      "text/plain": [
       "0    488178\n",
       "1      7019\n",
       "2      2598\n",
       "3      1670\n",
       "4       535\n",
       "Name: leaver_status, dtype: int64"
      ]
     },
     "execution_count": 49,
     "metadata": {},
     "output_type": "execute_result"
    }
   ],
   "source": [
    "#Рассчет моды по статусу покидания игры\n",
    "merged[\"leaver_status\"].value_counts(dropna = False)"
   ]
  },
  {
   "cell_type": "code",
   "execution_count": 50,
   "id": "eacb5856-f4fe-4d7f-9bce-5988b1f654a1",
   "metadata": {},
   "outputs": [],
   "source": [
    "import matplotlib.pyplot as plt\n",
    "import seaborn as sns"
   ]
  },
  {
   "cell_type": "markdown",
   "id": "e02cce71-6c12-40d0-b392-fa38027cb508",
   "metadata": {},
   "source": [
    "<h2>Визуализация отдельных показателей</h2>\n",
    "\n",
    "<h4>Распределение количества потраченного золота</h4>"
   ]
  },
  {
   "cell_type": "code",
   "execution_count": 51,
   "id": "9fbfddb5-a0df-48f8-856b-b3c9f5c93eaa",
   "metadata": {},
   "outputs": [
    {
     "data": {
      "text/plain": [
       "<AxesSubplot:xlabel='gold_spent', ylabel='Count'>"
      ]
     },
     "execution_count": 51,
     "metadata": {},
     "output_type": "execute_result"
    },
    {
     "data": {
      "image/png": "[encoded data removed]",
      "text/plain": [
       "<Figure size 1440x720 with 1 Axes>"
      ]
     },
     "metadata": {
      "needs_background": "light"
     },
     "output_type": "display_data"
    }
   ],
   "source": [
    "fig = plt.figure(figsize = (20, 10))\n",
    "sns.histplot(x = \"gold_spent\", data = merged, bins = 100, binrange = (0, 60000))"
   ]
  },
  {
   "cell_type": "markdown",
   "id": "99ca142b-a4a3-48f4-b0b6-fa4dad73df5c",
   "metadata": {
    "tags": []
   },
   "source": [
    "<h4>Количество игроков c разным статусом подключения</h4>\n",
    "<p><i>0 - не покидал матч, 1 - отключался, 2 - отключился на слишком длительное время и покинул игру, 3 - покинул игру, 4 - афк</i></p>"
   ]
  },
  {
   "cell_type": "code",
   "execution_count": 52,
   "id": "9c678655-2412-4ced-81ba-b1e608b492cb",
   "metadata": {},
   "outputs": [
    {
     "data": {
      "text/plain": [
       "<AxesSubplot:xlabel='leaver_status', ylabel='count'>"
      ]
     },
     "execution_count": 52,
     "metadata": {},
     "output_type": "execute_result"
    },
    {
     "data": {
      "image/png": "[encoded data removed]",
      "text/plain": [
       "<Figure size 360x720 with 1 Axes>"
      ]
     },
     "metadata": {
      "needs_background": "light"
     },
     "output_type": "display_data"
    }
   ],
   "source": [
    "fig = plt.figure(figsize = (5, 10))\n",
    "sns.countplot(x = \"leaver_status\", data = merged)"
   ]
  },
  {
   "cell_type": "markdown",
   "id": "6f84d335-2c71-4910-989d-5f0e8747dbaf",
   "metadata": {},
   "source": [
    "<h4>Частота выбора героев</h4>"
   ]
  },
  {
   "cell_type": "code",
   "execution_count": 53,
   "id": "2a5dfe43-3414-45c8-8d53-65707fc0216a",
   "metadata": {},
   "outputs": [
    {
     "data": {
      "image/png": "[encoded data removed]",
      "text/plain": [
       "<Figure size 2160x360 with 1 Axes>"
      ]
     },
     "metadata": {
      "needs_background": "light"
     },
     "output_type": "display_data"
    }
   ],
   "source": [
    "fig = plt.figure(figsize = (30, 5))\n",
    "gr = sns.countplot(x = \"localized_name\", data = merged)\n",
    "gr.set_xticklabels(gr.get_xticklabels(), rotation = 90, ha = \"right\")\n",
    "plt.show()"
   ]
  },
  {
   "cell_type": "markdown",
   "id": "da3d9e1f-4395-4e97-9264-ac4e7d7564e3",
   "metadata": {},
   "source": [
    "<h4>Распределение золота в минуту</h4>"
   ]
  },
  {
   "cell_type": "code",
   "execution_count": 54,
   "id": "6bec3e23-9e7b-42a5-928a-27ba7f28e133",
   "metadata": {},
   "outputs": [
    {
     "data": {
      "text/plain": [
       "<AxesSubplot:xlabel='gold_per_min', ylabel='Count'>"
      ]
     },
     "execution_count": 54,
     "metadata": {},
     "output_type": "execute_result"
    },
    {
     "data": {
      "image/png": "[encoded data removed]",
      "text/plain": [
       "<Figure size 1440x720 with 1 Axes>"
      ]
     },
     "metadata": {
      "needs_background": "light"
     },
     "output_type": "display_data"
    }
   ],
   "source": [
    "fig = plt.figure(figsize = (20,10))\n",
    "sns.histplot(x = \"gold_per_min\", data = merged, bins = 100, binrange = (0, 1400))"
   ]
  },
  {
   "cell_type": "markdown",
   "id": "557be05b-6f1b-4030-a0df-4c1926d1c178",
   "metadata": {},
   "source": [
    "<h4>График распределения игроков по командам и слотам в команде</h4>"
   ]
  },
  {
   "cell_type": "code",
   "execution_count": 55,
   "id": "6c8ccc47-2d2e-4779-92fe-712e113ba3a8",
   "metadata": {},
   "outputs": [
    {
     "data": {
      "text/plain": [
       "<AxesSubplot:xlabel='player_slot', ylabel='count'>"
      ]
     },
     "execution_count": 55,
     "metadata": {},
     "output_type": "execute_result"
    },
    {
     "data": {
      "image/png": "[encoded data removed]",
      "text/plain": [
       "<Figure size 1440x720 with 1 Axes>"
      ]
     },
     "metadata": {
      "needs_background": "light"
     },
     "output_type": "display_data"
    }
   ],
   "source": [
    "fig = plt.figure(figsize = (20,10))\n",
    "sns.countplot(x = \"player_slot\", data = merged)"
   ]
  },
  {
   "cell_type": "markdown",
   "id": "4ec787b5-adda-44ce-818a-cd9dd0196f8d",
   "metadata": {},
   "source": [
    "<h4>Распределение времени стана</h4>"
   ]
  },
  {
   "cell_type": "code",
   "execution_count": 56,
   "id": "8dca4fa4-30c8-4441-a7d3-9c0ca5653ccb",
   "metadata": {},
   "outputs": [
    {
     "data": {
      "text/plain": [
       "<AxesSubplot:xlabel='stuns', ylabel='Count'>"
      ]
     },
     "execution_count": 56,
     "metadata": {},
     "output_type": "execute_result"
    },
    {
     "data": {
      "image/png": "[encoded data removed]",
      "text/plain": [
       "<Figure size 1440x1080 with 1 Axes>"
      ]
     },
     "metadata": {
      "needs_background": "light"
     },
     "output_type": "display_data"
    }
   ],
   "source": [
    "# Заменим для атрибута stuns все вхождения None на 0\n",
    "# Это возможно, так как отсутствие стана равносильно длительности стана в 0 секунд\n",
    "merged[\"stuns\"].replace({\"None\" : \"0\"}, inplace = True)\n",
    "# Приведем атрибут к числовому типу данных, чтобы построить график\n",
    "merged.stuns = merged.stuns.astype(float)\n",
    "\n",
    "fig = plt.figure(figsize = (20,15))\n",
    "sns.histplot(x = \"stuns\", data = merged, bins = 100, binrange = (0, 175))"
   ]
  },
  {
   "cell_type": "markdown",
   "id": "25bea424-5e86-4fad-bb64-474b429452fb",
   "metadata": {},
   "source": [
    "<h2>Группировка</h2>\n",
    "\n",
    "<h4>Средний и максимальный GPM по героям</h4>"
   ]
  },
  {
   "cell_type": "code",
   "execution_count": 57,
   "id": "0f150dec-3c72-42f3-8e42-4055e1eaf4e5",
   "metadata": {},
   "outputs": [
    {
     "name": "stdout",
     "output_type": "stream",
     "text": [
      "| Hero: Abaddon                       | mean gpm: 363.05529           | top gpm: 790.00\n",
      "| Hero: Alchemist                     | mean gpm: 709.54545           | top gpm: 1601.00\n",
      "| Hero: Ancient Apparition            | mean gpm: 313.14705           | top gpm: 1064.00\n",
      "| Hero: Anti-Mage                     | mean gpm: 554.19274           | top gpm: 1164.00\n",
      "| Hero: Axe                           | mean gpm: 400.10911           | top gpm: 831.00\n",
      "| Hero: Bane                          | mean gpm: 295.29338           | top gpm: 578.00\n",
      "| Hero: Batrider                      | mean gpm: 362.85674           | top gpm: 731.00\n",
      "| Hero: Beastmaster                   | mean gpm: 384.13481           | top gpm: 689.00\n",
      "| Hero: Bloodseeker                   | mean gpm: 447.64175           | top gpm: 1019.00\n",
      "| Hero: Bounty Hunter                 | mean gpm: 412.04961           | top gpm: 914.00\n",
      "| Hero: Brewmaster                    | mean gpm: 398.55961           | top gpm: 734.00\n",
      "| Hero: Bristleback                   | mean gpm: 413.54260           | top gpm: 826.00\n",
      "| Hero: Broodmother                   | mean gpm: 441.52153           | top gpm: 980.00\n",
      "| Hero: Centaur Warrunner             | mean gpm: 387.33279           | top gpm: 692.00\n",
      "| Hero: Chaos Knight                  | mean gpm: 443.29693           | top gpm: 801.00\n",
      "| Hero: Chen                          | mean gpm: 321.96546           | top gpm: 567.00\n",
      "| Hero: Clinkz                        | mean gpm: 462.72731           | top gpm: 951.00\n",
      "| Hero: Clockwerk                     | mean gpm: 356.84655           | top gpm: 697.00\n",
      "| Hero: Crystal Maiden                | mean gpm: 314.66888           | top gpm: 853.00\n",
      "| Hero: Dark Seer                     | mean gpm: 400.82318           | top gpm: 1046.00\n",
      "| Hero: Dazzle                        | mean gpm: 292.53886           | top gpm: 1085.00\n",
      "| Hero: Death Prophet                 | mean gpm: 436.91691           | top gpm: 793.00\n",
      "| Hero: Disruptor                     | mean gpm: 302.91747           | top gpm: 823.00\n",
      "| Hero: Doom                          | mean gpm: 471.91597           | top gpm: 934.00\n",
      "| Hero: Dragon Knight                 | mean gpm: 435.70885           | top gpm: 847.00\n",
      "| Hero: Drow Ranger                   | mean gpm: 459.55483           | top gpm: 942.00\n",
      "| Hero: Earth Spirit                  | mean gpm: 332.40100           | top gpm: 1395.00\n",
      "| Hero: Earthshaker                   | mean gpm: 334.29489           | top gpm: 866.00\n",
      "| Hero: Elder Titan                   | mean gpm: 333.44391           | top gpm: 594.00\n",
      "| Hero: Ember Spirit                  | mean gpm: 494.98832           | top gpm: 1079.00\n",
      "| Hero: Enchantress                   | mean gpm: 378.38681           | top gpm: 763.00\n",
      "| Hero: Enigma                        | mean gpm: 393.60644           | top gpm: 1034.00\n",
      "| Hero: Faceless Void                 | mean gpm: 461.53335           | top gpm: 1377.00\n",
      "| Hero: Gyrocopter                    | mean gpm: 500.29186           | top gpm: 969.00\n",
      "| Hero: Huskar                        | mean gpm: 439.30857           | top gpm: 1316.00\n",
      "| Hero: Invoker                       | mean gpm: 449.72705           | top gpm: 1026.00\n",
      "| Hero: Io                            | mean gpm: 287.51830           | top gpm: 693.00\n",
      "| Hero: Jakiro                        | mean gpm: 318.65138           | top gpm: 700.00\n",
      "| Hero: Juggernaut                    | mean gpm: 520.12652           | top gpm: 1026.00\n",
      "| Hero: Keeper of the Light           | mean gpm: 322.97970           | top gpm: 1078.00\n",
      "| Hero: Kunkka                        | mean gpm: 411.18757           | top gpm: 855.00\n",
      "| Hero: Legion Commander              | mean gpm: 445.89042           | top gpm: 937.00\n",
      "| Hero: Leshrac                       | mean gpm: 392.64927           | top gpm: 828.00\n",
      "| Hero: Lich                          | mean gpm: 318.56625           | top gpm: 1468.00\n",
      "| Hero: Lifestealer                   | mean gpm: 459.79807           | top gpm: 837.00\n",
      "| Hero: Lina                          | mean gpm: 409.08964           | top gpm: 977.00\n",
      "| Hero: Lion                          | mean gpm: 296.42956           | top gpm: 773.00\n",
      "| Hero: Lone Druid                    | mean gpm: 451.88831           | top gpm: 962.00\n",
      "| Hero: Luna                          | mean gpm: 520.48654           | top gpm: 993.00\n",
      "| Hero: Lycan                         | mean gpm: 467.91574           | top gpm: 1011.00\n",
      "| Hero: Magnus                        | mean gpm: 374.38793           | top gpm: 966.00\n",
      "| Hero: Medusa                        | mean gpm: 497.50466           | top gpm: 862.00\n",
      "| Hero: Meepo                         | mean gpm: 522.70359           | top gpm: 1283.00\n",
      "| Hero: Mirana                        | mean gpm: 368.33245           | top gpm: 853.00\n",
      "| Hero: Morphling                     | mean gpm: 437.41995           | top gpm: 907.00\n",
      "| Hero: Naga Siren                    | mean gpm: 435.90609           | top gpm: 957.00\n",
      "| Hero: Nature's Prophet              | mean gpm: 480.16238           | top gpm: 887.00\n",
      "| Hero: Necrophos                     | mean gpm: 405.25549           | top gpm: 808.00\n",
      "| Hero: Night Stalker                 | mean gpm: 395.09130           | top gpm: 842.00\n",
      "| Hero: Nyx Assassin                  | mean gpm: 346.52869           | top gpm: 756.00\n",
      "| Hero: Ogre Magi                     | mean gpm: 313.42913           | top gpm: 822.00\n",
      "| Hero: Omniknight                    | mean gpm: 312.30265           | top gpm: 1374.00\n",
      "| Hero: Oracle                        | mean gpm: 305.82161           | top gpm: 635.00\n",
      "| Hero: Outworld Devourer             | mean gpm: 431.15473           | top gpm: 904.00\n",
      "| Hero: Phantom Assassin              | mean gpm: 481.00920           | top gpm: 1029.00\n",
      "| Hero: Phantom Lancer                | mean gpm: 460.27260           | top gpm: 835.00\n",
      "| Hero: Phoenix                       | mean gpm: 364.72994           | top gpm: 742.00\n",
      "| Hero: Puck                          | mean gpm: 400.28961           | top gpm: 825.00\n",
      "| Hero: Pudge                         | mean gpm: 356.72489           | top gpm: 1300.00\n",
      "| Hero: Pugna                         | mean gpm: 351.19908           | top gpm: 664.00\n",
      "| Hero: Queen of Pain                 | mean gpm: 459.81577           | top gpm: 1077.00\n",
      "| Hero: Razor                         | mean gpm: 440.13932           | top gpm: 1210.00\n",
      "| Hero: Riki                          | mean gpm: 433.42536           | top gpm: 874.00\n",
      "| Hero: Rubick                        | mean gpm: 300.95210           | top gpm: 850.00\n",
      "| Hero: Sand King                     | mean gpm: 365.58571           | top gpm: 820.00\n",
      "| Hero: Shadow Demon                  | mean gpm: 292.56487           | top gpm: 610.00\n",
      "| Hero: Shadow Fiend                  | mean gpm: 551.26630           | top gpm: 1214.00\n",
      "| Hero: Shadow Shaman                 | mean gpm: 337.13096           | top gpm: 779.00\n",
      "| Hero: Silencer                      | mean gpm: 347.61047           | top gpm: 1201.00\n",
      "| Hero: Skywrath Mage                 | mean gpm: 315.42675           | top gpm: 733.00\n",
      "| Hero: Slardar                       | mean gpm: 383.12047           | top gpm: 850.00\n",
      "| Hero: Slark                         | mean gpm: 478.02089           | top gpm: 979.00\n",
      "| Hero: Sniper                        | mean gpm: 436.46259           | top gpm: 851.00\n",
      "| Hero: Spectre                       | mean gpm: 495.29474           | top gpm: 1074.00\n",
      "| Hero: Spirit Breaker                | mean gpm: 366.47340           | top gpm: 862.00\n",
      "| Hero: Storm Spirit                  | mean gpm: 435.30411           | top gpm: 1157.00\n",
      "| Hero: Sven                          | mean gpm: 470.05072           | top gpm: 941.00\n",
      "| Hero: Techies                       | mean gpm: 310.59223           | top gpm: 707.00\n",
      "| Hero: Templar Assassin              | mean gpm: 523.57729           | top gpm: 1301.00\n",
      "| Hero: Terrorblade                   | mean gpm: 488.28046           | top gpm: 912.00\n",
      "| Hero: Tidehunter                    | mean gpm: 350.44750           | top gpm: 613.00\n",
      "| Hero: Timbersaw                     | mean gpm: 424.00443           | top gpm: 985.00\n",
      "| Hero: Tinker                        | mean gpm: 456.23602           | top gpm: 1051.00\n",
      "| Hero: Tiny                          | mean gpm: 473.30669           | top gpm: 1090.00\n",
      "| Hero: Treant Protector              | mean gpm: 299.56487           | top gpm: 764.00\n",
      "| Hero: Troll Warlord                 | mean gpm: 464.79784           | top gpm: 862.00\n",
      "| Hero: Tusk                          | mean gpm: 367.74083           | top gpm: 1040.00\n",
      "| Hero: Undying                       | mean gpm: 348.25609           | top gpm: 771.00\n",
      "| Hero: Ursa                          | mean gpm: 474.53208           | top gpm: 871.00\n",
      "| Hero: Vengeful Spirit               | mean gpm: 315.88722           | top gpm: 795.00\n",
      "| Hero: Venomancer                    | mean gpm: 358.72670           | top gpm: 729.00\n",
      "| Hero: Viper                         | mean gpm: 435.45745           | top gpm: 819.00\n",
      "| Hero: Visage                        | mean gpm: 348.75627           | top gpm: 754.00\n",
      "| Hero: Warlock                       | mean gpm: 342.18226           | top gpm: 766.00\n",
      "| Hero: Weaver                        | mean gpm: 448.51949           | top gpm: 1044.00\n",
      "| Hero: Windranger                    | mean gpm: 434.75997           | top gpm: 906.00\n",
      "| Hero: Winter Wyvern                 | mean gpm: 309.38327           | top gpm: 763.00\n",
      "| Hero: Witch Doctor                  | mean gpm: 311.42945           | top gpm: 753.00\n",
      "| Hero: Wraith King                   | mean gpm: 479.17000           | top gpm: 943.00\n",
      "| Hero: Zeus                          | mean gpm: 406.19481           | top gpm: 923.00\n"
     ]
    }
   ],
   "source": [
    "group_h_gpm = merged.groupby(\"localized_name\")\n",
    "for localized_name, g in group_h_gpm:\n",
    "    print(\"| Hero: {0:30}| mean gpm: {1:5.5f} {2:10}| top gpm: {3:5.2f}\"\n",
    "          .format(localized_name, g[\"gold_per_min\"].mean(), \"\", g[\"gold_per_min\"].max()))"
   ]
  },
  {
   "cell_type": "markdown",
   "id": "d627e694-625d-4017-a276-68d868e52317",
   "metadata": {},
   "source": [
    "<h4>Время стана в зависимости от героя</h4>\n",
    "<p><i>Эти данные показывают, на каких героях, например, отсутствуют станящие способности, и используются предметы для стана</i></p>"
   ]
  },
  {
   "cell_type": "code",
   "execution_count": 58,
   "id": "8989166d-f0a9-4f6d-a4e4-14b931d190a2",
   "metadata": {},
   "outputs": [
    {
     "name": "stdout",
     "output_type": "stream",
     "text": [
      "| Hero: Abaddon                       | mean stun time: 1.3031869575626585             | top stun time: 50.40\n",
      "| Hero: Alchemist                     | mean stun time: 39.06189685701924              | top stun time: 272.16\n",
      "| Hero: Ancient Apparition            | mean stun time: 13.696643340633795             | top stun time: 110.38\n",
      "| Hero: Anti-Mage                     | mean stun time: 4.774384330776512              | top stun time: 78.75\n",
      "| Hero: Axe                           | mean stun time: 0.1719751524956314             | top stun time: 32.66\n",
      "| Hero: Bane                          | mean stun time: 96.94718406188797              | top stun time: 302.66\n",
      "| Hero: Batrider                      | mean stun time: 40.85690123529412              | top stun time: 139.04\n",
      "| Hero: Beastmaster                   | mean stun time: 31.312788620142744             | top stun time: 83.50\n",
      "| Hero: Bloodseeker                   | mean stun time: 1.2394499205199763             | top stun time: 47.76\n",
      "| Hero: Bounty Hunter                 | mean stun time: 2.037925298951715              | top stun time: 46.37\n",
      "| Hero: Brewmaster                    | mean stun time: 39.70663669172933              | top stun time: 171.35\n",
      "| Hero: Bristleback                   | mean stun time: 0.32344705901102716            | top stun time: 58.26\n",
      "| Hero: Broodmother                   | mean stun time: 0.34599448544182365            | top stun time: 28.77\n",
      "| Hero: Centaur Warrunner             | mean stun time: 51.21668238556813              | top stun time: 218.27\n",
      "| Hero: Chaos Knight                  | mean stun time: 42.97586373293515              | top stun time: 116.38\n",
      "| Hero: Chen                          | mean stun time: 6.565854905354059              | top stun time: 30.81\n",
      "| Hero: Clinkz                        | mean stun time: 0.12317474250633322            | top stun time: 22.60\n",
      "| Hero: Clockwerk                     | mean stun time: 42.96933695047663              | top stun time: 165.58\n",
      "| Hero: Crystal Maiden                | mean stun time: 3.0110802741396894             | top stun time: 54.13\n",
      "| Hero: Dark Seer                     | mean stun time: 11.32418189196492              | top stun time: 49.56\n",
      "| Hero: Dazzle                        | mean stun time: 2.593510619885755              | top stun time: 87.36\n",
      "| Hero: Death Prophet                 | mean stun time: 14.755367234166181             | top stun time: 78.04\n",
      "| Hero: Disruptor                     | mean stun time: 0.6054113894736842             | top stun time: 52.80\n",
      "| Hero: Doom                          | mean stun time: 3.0706791808641976             | top stun time: 66.74\n",
      "| Hero: Dragon Knight                 | mean stun time: 49.4096306875                  | top stun time: 143.08\n",
      "| Hero: Drow Ranger                   | mean stun time: 0.06677733972582438            | top stun time:  8.06\n",
      "| Hero: Earth Spirit                  | mean stun time: 64.81743819017093              | top stun time: 261.50\n",
      "| Hero: Earthshaker                   | mean stun time: 85.81991810297623              | top stun time: 314.77\n",
      "| Hero: Elder Titan                   | mean stun time: 81.58271042959429              | top stun time: 321.65\n",
      "| Hero: Ember Spirit                  | mean stun time: 0.13478004517054296            | top stun time: 40.08\n",
      "| Hero: Enchantress                   | mean stun time: 1.7731740979330708             | top stun time: 32.94\n",
      "| Hero: Enigma                        | mean stun time: 31.99295310740597              | top stun time: 123.89\n",
      "| Hero: Faceless Void                 | mean stun time: 21.39658249921704              | top stun time: 69.84\n",
      "| Hero: Gyrocopter                    | mean stun time: 22.607789791519956             | top stun time: 134.04\n",
      "| Hero: Huskar                        | mean stun time: 0.11058346882601797            | top stun time: 30.20\n",
      "| Hero: Invoker                       | mean stun time: 49.00309427372388              | top stun time: 554.84\n",
      "| Hero: Io                            | mean stun time: 0.25253687142857145            | top stun time: 32.71\n",
      "| Hero: Jakiro                        | mean stun time: 59.71815085735079              | top stun time: 269.39\n",
      "| Hero: Juggernaut                    | mean stun time: 2.9539140039384457             | top stun time: 61.13\n",
      "| Hero: Keeper of the Light           | mean stun time: 20.122136196815877             | top stun time: 151.58\n",
      "| Hero: Kunkka                        | mean stun time: 44.95532453008258              | top stun time: 157.12\n",
      "| Hero: Legion Commander              | mean stun time: 0.7748155364577507             | top stun time: 42.31\n",
      "| Hero: Leshrac                       | mean stun time: 34.385870628058726             | top stun time: 153.47\n",
      "| Hero: Lich                          | mean stun time: 1.2445005654533816             | top stun time: 34.11\n",
      "| Hero: Lifestealer                   | mean stun time: 5.900943096310291              | top stun time: 54.01\n",
      "| Hero: Lina                          | mean stun time: 57.5107530926711               | top stun time: 241.21\n",
      "| Hero: Lion                          | mean stun time: 51.180817557572475             | top stun time: 214.24\n",
      "| Hero: Lone Druid                    | mean stun time: 2.487442842188573              | top stun time: 51.54\n",
      "| Hero: Luna                          | mean stun time: 13.799224007569387             | top stun time: 43.50\n",
      "| Hero: Lycan                         | mean stun time: 2.508301619349645              | top stun time: 39.33\n",
      "| Hero: Magnus                        | mean stun time: 50.114929234916936             | top stun time: 230.50\n",
      "| Hero: Medusa                        | mean stun time: 25.51244800868644              | top stun time: 117.72\n",
      "| Hero: Meepo                         | mean stun time: 0.011730942814371259           | top stun time: 15.08\n",
      "| Hero: Mirana                        | mean stun time: 50.36510668252428              | top stun time: 166.58\n",
      "| Hero: Morphling                     | mean stun time: 29.284074732939633             | top stun time: 305.44\n",
      "| Hero: Naga Siren                    | mean stun time: 10.324177676323677             | top stun time: 47.06\n",
      "| Hero: Nature's Prophet              | mean stun time: 0.11840613069276316            | top stun time: 52.78\n",
      "| Hero: Necrophos                     | mean stun time: 11.786531641229686             | top stun time: 98.11\n",
      "| Hero: Night Stalker                 | mean stun time: 4.862560173668541              | top stun time: 48.47\n",
      "| Hero: Nyx Assassin                  | mean stun time: 83.19975461310625              | top stun time: 270.12\n",
      "| Hero: Ogre Magi                     | mean stun time: 34.31658879715139              | top stun time: 119.18\n",
      "| Hero: Omniknight                    | mean stun time: 0.4099403054900504             | top stun time: 49.01\n",
      "| Hero: Oracle                        | mean stun time: 1.5287669702675917             | top stun time: 45.23\n",
      "| Hero: Outworld Devourer             | mean stun time: 102.30528117007671             | top stun time: 381.03\n",
      "| Hero: Phantom Assassin              | mean stun time: 8.072938056008832              | top stun time: 78.36\n",
      "| Hero: Phantom Lancer                | mean stun time: 0.30772231538876715            | top stun time: 25.92\n",
      "| Hero: Phoenix                       | mean stun time: 11.759792266127434             | top stun time: 88.46\n",
      "| Hero: Puck                          | mean stun time: 28.657815427597956             | top stun time: 132.20\n",
      "| Hero: Pudge                         | mean stun time: 34.067471209399805             | top stun time: 119.08\n",
      "| Hero: Pugna                         | mean stun time: 0.6581756287779238             | top stun time: 35.26\n",
      "| Hero: Queen of Pain                 | mean stun time: 1.8690746774637865             | top stun time: 60.33\n",
      "| Hero: Razor                         | mean stun time: 0.14045216165701535            | top stun time: 45.23\n",
      "| Hero: Riki                          | mean stun time: 4.506927211833888              | top stun time: 55.86\n",
      "| Hero: Rubick                        | mean stun time: 48.98847134547232              | top stun time: 198.20\n",
      "| Hero: Sand King                     | mean stun time: 56.439315974603176             | top stun time: 206.19\n",
      "| Hero: Shadow Demon                  | mean stun time: 52.61196903225807              | top stun time: 175.12\n",
      "| Hero: Shadow Fiend                  | mean stun time: 1.4070112277565108             | top stun time: 74.34\n",
      "| Hero: Shadow Shaman                 | mean stun time: 33.8680362131513               | top stun time: 127.56\n",
      "| Hero: Silencer                      | mean stun time: 0.901661396474827              | top stun time: 45.35\n",
      "| Hero: Skywrath Mage                 | mean stun time: 1.8701759475806452             | top stun time: 45.27\n",
      "| Hero: Slardar                       | mean stun time: 73.18778041856721              | top stun time: 352.53\n",
      "| Hero: Slark                         | mean stun time: 3.9168767096767327             | top stun time: 61.15\n",
      "| Hero: Sniper                        | mean stun time: 0.3300632191132712             | top stun time: 21.06\n",
      "| Hero: Spectre                       | mean stun time: 0.2677403058412087             | top stun time: 47.25\n",
      "| Hero: Spirit Breaker                | mean stun time: 114.59840924497331             | top stun time: 345.06\n",
      "| Hero: Storm Spirit                  | mean stun time: 25.223777030743662             | top stun time: 134.14\n",
      "| Hero: Sven                          | mean stun time: 43.56281295362319              | top stun time: 128.79\n",
      "| Hero: Techies                       | mean stun time: 20.33533665817152              | top stun time: 228.74\n",
      "| Hero: Templar Assassin              | mean stun time: 0.09890642102342766            | top stun time: 28.33\n",
      "| Hero: Terrorblade                   | mean stun time: 0.05273128465506126            | top stun time: 12.90\n",
      "| Hero: Tidehunter                    | mean stun time: 47.83366324916667              | top stun time: 180.65\n",
      "| Hero: Timbersaw                     | mean stun time: 0.9288946375255623             | top stun time: 70.42\n",
      "| Hero: Tinker                        | mean stun time: 0.7843749454022988             | top stun time: 60.22\n",
      "| Hero: Tiny                          | mean stun time: 41.91925229500471              | top stun time: 156.55\n",
      "| Hero: Treant Protector              | mean stun time: 0.15375826492537312            | top stun time: 27.62\n",
      "| Hero: Troll Warlord                 | mean stun time: 9.772366270217995              | top stun time: 60.08\n",
      "| Hero: Tusk                          | mean stun time: 47.20718101222589              | top stun time: 205.35\n",
      "| Hero: Undying                       | mean stun time: 0.10747171013275081            | top stun time: 32.88\n",
      "| Hero: Ursa                          | mean stun time: 5.936174393025604              | top stun time: 51.72\n",
      "| Hero: Vengeful Spirit               | mean stun time: 29.878455813066285             | top stun time: 88.45\n",
      "| Hero: Venomancer                    | mean stun time: 1.0749091978979104             | top stun time: 55.38\n",
      "| Hero: Viper                         | mean stun time: 0.07017591183406503            | top stun time: 20.07\n",
      "| Hero: Visage                        | mean stun time: 22.890040390170512             | top stun time: 134.28\n",
      "| Hero: Warlock                       | mean stun time: 17.438724575093534             | top stun time: 85.66\n",
      "| Hero: Weaver                        | mean stun time: 0.13115262598090413            | top stun time: 12.71\n",
      "| Hero: Windranger                    | mean stun time: 51.36224917418706              | top stun time: 191.00\n",
      "| Hero: Winter Wyvern                 | mean stun time: 89.91924823567624              | top stun time: 434.20\n",
      "| Hero: Witch Doctor                  | mean stun time: 54.48573801666439              | top stun time: 237.41\n",
      "| Hero: Wraith King                   | mean stun time: 51.031988083140874             | top stun time: 157.82\n",
      "| Hero: Zeus                          | mean stun time: 6.070094753802572              | top stun time: 84.26\n"
     ]
    }
   ],
   "source": [
    "group_h_stuns = merged.groupby(\"localized_name\")\n",
    "for localized_name, g in group_h_stuns:\n",
    "    print(\"| Hero: {0:30}| mean stun time: {1:20} {2:10}| top stun time: {3:5.2f}\"\n",
    "          .format(localized_name, str(g[\"stuns\"].mean()), \"\", g[\"stuns\"].max()))"
   ]
  },
  {
   "cell_type": "markdown",
   "id": "2e977455-7fec-4ae1-ac64-680b7d64b8f3",
   "metadata": {},
   "source": [
    "<h4>Средний и максимальный урон по строениям в зависимости от героя</h4>"
   ]
  },
  {
   "cell_type": "code",
   "execution_count": 59,
   "id": "a74bfec8-c577-475b-8c67-28eac3e76c71",
   "metadata": {},
   "outputs": [
    {
     "name": "stdout",
     "output_type": "stream",
     "text": [
      "| Hero: Abaddon                       | mean tower damage: 1009.6069486404834             | top tower damage: 9151.00\n",
      "| Hero: Alchemist                     | mean tower damage: 2585.1727578132954             | top tower damage: 13363.00\n",
      "| Hero: Ancient Apparition            | mean tower damage: 298.4532800236932              | top tower damage: 4139.00\n",
      "| Hero: Anti-Mage                     | mean tower damage: 3081.401766709238              | top tower damage: 14599.00\n",
      "| Hero: Axe                           | mean tower damage: 453.6166050858509              | top tower damage: 4397.00\n",
      "| Hero: Bane                          | mean tower damage: 381.01880141010577             | top tower damage: 5129.00\n",
      "| Hero: Batrider                      | mean tower damage: 268.39373814041744             | top tower damage: 2246.00\n",
      "| Hero: Beastmaster                   | mean tower damage: 1491.4956383822364             | top tower damage: 8149.00\n",
      "| Hero: Bloodseeker                   | mean tower damage: 1449.6248308525035             | top tower damage: 11782.00\n",
      "| Hero: Bounty Hunter                 | mean tower damage: 430.56514058589727             | top tower damage: 8609.00\n",
      "| Hero: Brewmaster                    | mean tower damage: 901.9570354457572              | top tower damage: 5459.00\n",
      "| Hero: Bristleback                   | mean tower damage: 1270.0088792896568             | top tower damage: 9344.00\n",
      "| Hero: Broodmother                   | mean tower damage: 1968.5578734858682             | top tower damage: 10965.00\n",
      "| Hero: Centaur Warrunner             | mean tower damage: 1026.223478729133              | top tower damage: 7441.00\n",
      "| Hero: Chaos Knight                  | mean tower damage: 2284.3818259385666             | top tower damage: 10816.00\n",
      "| Hero: Chen                          | mean tower damage: 1161.6597582037996             | top tower damage: 7537.00\n",
      "| Hero: Clinkz                        | mean tower damage: 3336.595401371521              | top tower damage: 14782.00\n",
      "| Hero: Clockwerk                     | mean tower damage: 368.14764008370145             | top tower damage: 3393.00\n",
      "| Hero: Crystal Maiden                | mean tower damage: 288.91001784348714             | top tower damage: 5639.00\n",
      "| Hero: Dark Seer                     | mean tower damage: 449.6833372837165              | top tower damage: 4318.00\n",
      "| Hero: Dazzle                        | mean tower damage: 426.9667975722956              | top tower damage: 3643.00\n",
      "| Hero: Death Prophet                 | mean tower damage: 2429.979081929111              | top tower damage: 8611.00\n",
      "| Hero: Disruptor                     | mean tower damage: 341.82715789473684             | top tower damage: 2677.00\n",
      "| Hero: Doom                          | mean tower damage: 986.8008314436886              | top tower damage: 8229.00\n",
      "| Hero: Dragon Knight                 | mean tower damage: 2165.664583333333              | top tower damage: 10954.00\n",
      "| Hero: Drow Ranger                   | mean tower damage: 3162.32476993865               | top tower damage: 12379.00\n",
      "| Hero: Earth Spirit                  | mean tower damage: 333.60612535612535             | top tower damage: 3241.00\n",
      "| Hero: Earthshaker                   | mean tower damage: 407.94109334981897             | top tower damage: 5153.00\n",
      "| Hero: Elder Titan                   | mean tower damage: 515.0417661097852              | top tower damage: 3896.00\n",
      "| Hero: Ember Spirit                  | mean tower damage: 1348.6119739811495             | top tower damage: 10745.00\n",
      "| Hero: Enchantress                   | mean tower damage: 919.9271653543307              | top tower damage: 5464.00\n",
      "| Hero: Enigma                        | mean tower damage: 1015.4893369523071             | top tower damage: 6000.00\n",
      "| Hero: Faceless Void                 | mean tower damage: 1548.680864390855              | top tower damage: 10351.00\n",
      "| Hero: Gyrocopter                    | mean tower damage: 2188.1664235705953             | top tower damage: 11441.00\n",
      "| Hero: Huskar                        | mean tower damage: 1988.504494976203              | top tower damage: 13514.00\n",
      "| Hero: Invoker                       | mean tower damage: 1828.1897910243233             | top tower damage: 13525.00\n",
      "| Hero: Io                            | mean tower damage: 308.3471074380165              | top tower damage: 5160.00\n",
      "| Hero: Jakiro                        | mean tower damage: 1221.8602620087336             | top tower damage: 8965.00\n",
      "| Hero: Juggernaut                    | mean tower damage: 2697.8709832595728             | top tower damage: 12905.00\n",
      "| Hero: Keeper of the Light           | mean tower damage: 349.11582833410245             | top tower damage: 3541.00\n",
      "| Hero: Kunkka                        | mean tower damage: 852.4357058592213              | top tower damage: 8716.00\n",
      "| Hero: Legion Commander              | mean tower damage: 2027.5253185595568             | top tower damage: 12651.00\n",
      "| Hero: Leshrac                       | mean tower damage: 1579.2398042414356             | top tower damage: 9259.00\n",
      "| Hero: Lich                          | mean tower damage: 413.70535523789204             | top tower damage: 5906.00\n",
      "| Hero: Lifestealer                   | mean tower damage: 1641.9876208897485             | top tower damage: 11119.00\n",
      "| Hero: Lina                          | mean tower damage: 1036.5531193216232             | top tower damage: 9196.00\n",
      "| Hero: Lion                          | mean tower damage: 271.5436196152804              | top tower damage: 4390.00\n",
      "| Hero: Lone Druid                    | mean tower damage: 3239.8562564632884             | top tower damage: 14002.00\n",
      "| Hero: Luna                          | mean tower damage: 2983.8082422203533             | top tower damage: 12951.00\n",
      "| Hero: Lycan                         | mean tower damage: 3808.2192893401016             | top tower damage: 14160.00\n",
      "| Hero: Magnus                        | mean tower damage: 471.75925386184787             | top tower damage: 8414.00\n",
      "| Hero: Medusa                        | mean tower damage: 2288.908474576271              | top tower damage: 11754.00\n",
      "| Hero: Meepo                         | mean tower damage: 2939.5149700598804             | top tower damage: 13346.00\n",
      "| Hero: Mirana                        | mean tower damage: 1107.971012482663              | top tower damage: 9763.00\n",
      "| Hero: Morphling                     | mean tower damage: 1883.4153543307086             | top tower damage: 12438.00\n",
      "| Hero: Naga Siren                    | mean tower damage: 1469.5384615384614             | top tower damage: 10920.00\n",
      "| Hero: Nature's Prophet              | mean tower damage: 2583.909688995215              | top tower damage: 12668.00\n",
      "| Hero: Necrophos                     | mean tower damage: 743.9944714357514              | top tower damage: 5416.00\n",
      "| Hero: Night Stalker                 | mean tower damage: 1254.0919616275223             | top tower damage: 8198.00\n",
      "| Hero: Nyx Assassin                  | mean tower damage: 248.85931136616068             | top tower damage: 2960.00\n",
      "| Hero: Ogre Magi                     | mean tower damage: 335.55662761314034             | top tower damage: 3059.00\n",
      "| Hero: Omniknight                    | mean tower damage: 396.0776981205193              | top tower damage: 9148.00\n",
      "| Hero: Oracle                        | mean tower damage: 466.9643211100099              | top tower damage: 3908.00\n",
      "| Hero: Outworld Devourer             | mean tower damage: 1149.537084398977              | top tower damage: 5884.00\n",
      "| Hero: Phantom Assassin              | mean tower damage: 1599.8947802197802             | top tower damage: 10762.00\n",
      "| Hero: Phantom Lancer                | mean tower damage: 1857.8194520547945             | top tower damage: 10175.00\n",
      "| Hero: Phoenix                       | mean tower damage: 457.31792670848466             | top tower damage: 4464.00\n",
      "| Hero: Puck                          | mean tower damage: 653.7427597955707              | top tower damage: 4184.00\n",
      "| Hero: Pudge                         | mean tower damage: 373.3150206414735              | top tower damage: 4857.00\n",
      "| Hero: Pugna                         | mean tower damage: 1757.1590013140603             | top tower damage: 9128.00\n",
      "| Hero: Queen of Pain                 | mean tower damage: 1286.767327667611              | top tower damage: 9938.00\n",
      "| Hero: Razor                         | mean tower damage: 1790.1294000991572             | top tower damage: 9485.00\n",
      "| Hero: Riki                          | mean tower damage: 1179.358695652174              | top tower damage: 10013.00\n",
      "| Hero: Rubick                        | mean tower damage: 269.26115116705364             | top tower damage: 2805.00\n",
      "| Hero: Sand King                     | mean tower damage: 275.0733333333333              | top tower damage: 3319.00\n",
      "| Hero: Shadow Demon                  | mean tower damage: 338.2810035842294              | top tower damage: 3864.00\n",
      "| Hero: Shadow Fiend                  | mean tower damage: 2953.459810666196              | top tower damage: 12661.00\n",
      "| Hero: Shadow Shaman                 | mean tower damage: 1804.3137364168292             | top tower damage: 9184.00\n",
      "| Hero: Silencer                      | mean tower damage: 863.2918050941307              | top tower damage: 9675.00\n",
      "| Hero: Skywrath Mage                 | mean tower damage: 327.82896505376345             | top tower damage: 3116.00\n",
      "| Hero: Slardar                       | mean tower damage: 703.3413827027994              | top tower damage: 7928.00\n",
      "| Hero: Slark                         | mean tower damage: 1769.1962971754094             | top tower damage: 11810.00\n",
      "| Hero: Sniper                        | mean tower damage: 1639.7017589918614             | top tower damage: 10451.00\n",
      "| Hero: Spectre                       | mean tower damage: 1647.8753753753754             | top tower damage: 10652.00\n",
      "| Hero: Spirit Breaker                | mean tower damage: 624.6276843113117              | top tower damage: 5293.00\n",
      "| Hero: Storm Spirit                  | mean tower damage: 897.11508101371                | top tower damage: 8319.00\n",
      "| Hero: Sven                          | mean tower damage: 2157.571884057971              | top tower damage: 12652.00\n",
      "| Hero: Techies                       | mean tower damage: 394.51132686084145             | top tower damage: 6275.00\n",
      "| Hero: Templar Assassin              | mean tower damage: 2657.262826878517              | top tower damage: 11986.00\n",
      "| Hero: Terrorblade                   | mean tower damage: 3663.2862669245646             | top tower damage: 15986.00\n",
      "| Hero: Tidehunter                    | mean tower damage: 416.83666666666664             | top tower damage: 4165.00\n",
      "| Hero: Timbersaw                     | mean tower damage: 380.9229720518064              | top tower damage: 3043.00\n",
      "| Hero: Tinker                        | mean tower damage: 194.62528735632185             | top tower damage: 4077.00\n",
      "| Hero: Tiny                          | mean tower damage: 2770.908953817154              | top tower damage: 14335.00\n",
      "| Hero: Treant Protector              | mean tower damage: 368.53673938002294             | top tower damage: 3073.00\n",
      "| Hero: Troll Warlord                 | mean tower damage: 2782.7938496583142             | top tower damage: 12860.00\n",
      "| Hero: Tusk                          | mean tower damage: 565.7321948379584              | top tower damage: 10359.00\n",
      "| Hero: Undying                       | mean tower damage: 508.9028734666443              | top tower damage: 4186.00\n",
      "| Hero: Ursa                          | mean tower damage: 1424.9549046954905             | top tower damage: 9783.00\n",
      "| Hero: Vengeful Spirit               | mean tower damage: 677.4976156413925              | top tower damage: 7793.00\n",
      "| Hero: Venomancer                    | mean tower damage: 759.1893864013267              | top tower damage: 6481.00\n",
      "| Hero: Viper                         | mean tower damage: 1928.0682926829268             | top tower damage: 10012.00\n",
      "| Hero: Visage                        | mean tower damage: 1105.1574724172517             | top tower damage: 6286.00\n",
      "| Hero: Warlock                       | mean tower damage: 990.9802244788883              | top tower damage: 6301.00\n",
      "| Hero: Weaver                        | mean tower damage: 2101.8277474668744             | top tower damage: 12565.00\n",
      "| Hero: Windranger                    | mean tower damage: 2273.79311335664               | top tower damage: 12423.00\n",
      "| Hero: Winter Wyvern                 | mean tower damage: 314.61985189034687             | top tower damage: 3064.00\n",
      "| Hero: Witch Doctor                  | mean tower damage: 448.93074716568776             | top tower damage: 3777.00\n",
      "| Hero: Wraith King                   | mean tower damage: 1960.160251475494              | top tower damage: 12322.00\n",
      "| Hero: Zeus                          | mean tower damage: 413.3399433427762              | top tower damage: 3496.00\n"
     ]
    }
   ],
   "source": [
    "group_h_td = merged.groupby(\"localized_name\")\n",
    "for localized_name, g in group_h_td:\n",
    "    print(\"| Hero: {0:30}| mean tower damage: {1:20} {2:10}| top tower damage: {3:5.2f}\"\n",
    "          .format(localized_name, str(g[\"tower_damage\"].mean()), \"\", g[\"tower_damage\"].max()))"
   ]
  },
  {
   "cell_type": "markdown",
   "id": "b4efeb95-4762-453b-b18f-157ce7e6c362",
   "metadata": {},
   "source": [
    "<h4>График размаха по группам для урона по строениям</h4>"
   ]
  },
  {
   "cell_type": "code",
   "execution_count": 60,
   "id": "17e9eb3d-1f71-472e-a481-878e30909eed",
   "metadata": {},
   "outputs": [
    {
     "data": {
      "text/plain": [
       "<AxesSubplot:xlabel='tower_damage', ylabel='localized_name'>"
      ]
     },
     "execution_count": 60,
     "metadata": {},
     "output_type": "execute_result"
    },
    {
     "data": {
      "image/png": "[encoded data removed]",
      "text/plain": [
       "<Figure size 1440x2160 with 1 Axes>"
      ]
     },
     "metadata": {
      "needs_background": "light"
     },
     "output_type": "display_data"
    }
   ],
   "source": [
    "fig = plt.figure(figsize = (20,30))\n",
    "sns.boxplot(x = \"tower_damage\", y = \"localized_name\", data = merged)"
   ]
  },
  {
   "cell_type": "code",
   "execution_count": 61,
   "id": "f9c4381b-00d6-4b0d-a6a7-8341cee06c51",
   "metadata": {},
   "outputs": [
    {
     "data": {
      "text/plain": [
       "<AxesSubplot:xlabel='tower_damage', ylabel='player_slot'>"
      ]
     },
     "execution_count": 61,
     "metadata": {},
     "output_type": "execute_result"
    },
    {
     "data": {
      "image/png": "[encoded data removed]",
      "text/plain": [
       "<Figure size 1440x2160 with 1 Axes>"
      ]
     },
     "metadata": {
      "needs_background": "light"
     },
     "output_type": "display_data"
    }
   ],
   "source": [
    "fig = plt.figure(figsize = (20,30))\n",
    "gr_s_td = merged.copy()\n",
    "gr_s_td.player_slot = gr_s_td.player_slot.astype(str)\n",
    "sns.boxplot(x = \"tower_damage\", y = \"player_slot\", data = gr_s_td)"
   ]
  },
  {
   "cell_type": "code",
   "execution_count": 62,
   "id": "8ec1bd3b-0594-47bc-9e14-94b4f8194309",
   "metadata": {},
   "outputs": [
    {
     "data": {
      "text/plain": [
       "<AxesSubplot:xlabel='tower_damage', ylabel='leaver_status'>"
      ]
     },
     "execution_count": 62,
     "metadata": {},
     "output_type": "execute_result"
    },
    {
     "data": {
      "image/png": "[encoded data removed]",
      "text/plain": [
       "<Figure size 1440x2160 with 1 Axes>"
      ]
     },
     "metadata": {
      "needs_background": "light"
     },
     "output_type": "display_data"
    }
   ],
   "source": [
    "fig = plt.figure(figsize = (20,30))\n",
    "gr_l_td = merged.copy()\n",
    "gr_l_td.leaver_status = gr_l_td.leaver_status.astype(str)\n",
    "sns.boxplot(x = \"tower_damage\", y = \"leaver_status\", data = gr_l_td)"
   ]
  },
  {
   "cell_type": "markdown",
   "id": "599776e8-7987-4bc9-ad61-79ee67fad974",
   "metadata": {},
   "source": [
    "<h2>Визуализация зависимостей</h2>\n",
    "\n",
    "<h4>График соотношения количества убийств в зависимости от героя</h4>"
   ]
  },
  {
   "cell_type": "code",
   "execution_count": 63,
   "id": "aa7b8b99-8599-44b4-bcba-02994e0ac1d1",
   "metadata": {},
   "outputs": [
    {
     "data": {
      "image/png": "[encoded data removed]",
      "text/plain": [
       "<Figure size 2160x360 with 1 Axes>"
      ]
     },
     "metadata": {
      "needs_background": "light"
     },
     "output_type": "display_data"
    }
   ],
   "source": [
    "fig = plt.figure(figsize = (30, 5))\n",
    "# Сделаем копию датафрейма для этой визуализации\n",
    "# Таким образом мы можем разделить все значения убийств на нужные нам интервалы <=10 и >10\n",
    "gr_kills = merged.copy()\n",
    "gr_kills.kills = gr_kills.kills.astype(int)\n",
    "gr_kills.loc[gr_kills[\"kills\"] <= 10, \"kills\"] = 0\n",
    "gr_kills.loc[gr_kills[\"kills\"] > 10, \"kills\"] = 1\n",
    "gr = sns.countplot(x = \"localized_name\", hue = \"kills\", data = gr_kills)\n",
    "\n",
    "gr.set_xticklabels(gr.get_xticklabels(), rotation = 90, ha = \"right\")\n",
    "legend_labels, _= gr.get_legend_handles_labels()\n",
    "gr.legend(legend_labels, [\"<=10\", \">10\"], bbox_to_anchor = (1,1), title = \"kills\")\n",
    "plt.show()"
   ]
  },
  {
   "cell_type": "markdown",
   "id": "a0a12a57-d989-4d64-ab77-07d81a4d42e7",
   "metadata": {},
   "source": [
    "<h4>График соотношения количества смертей в зависимости от количества убийств</h4>"
   ]
  },
  {
   "cell_type": "code",
   "execution_count": 64,
   "id": "c4cc66fe-0bfb-4905-ba5f-28324de7f79e",
   "metadata": {},
   "outputs": [
    {
     "data": {
      "image/png": "[encoded data removed]",
      "text/plain": [
       "<Figure size 1440x720 with 1 Axes>"
      ]
     },
     "metadata": {
      "needs_background": "light"
     },
     "output_type": "display_data"
    }
   ],
   "source": [
    "fig = plt.figure(figsize = (20, 10))\n",
    "\n",
    "# Аналогично прошлому графику но с двумя атрибутами\n",
    "gr_kd = merged.copy()\n",
    "gr_kd.deaths = gr_kd.deaths.astype(int)\n",
    "gr_kd.loc[gr_kd[\"deaths\"] <= 10, \"deaths\"] = 0\n",
    "gr_kd.loc[gr_kd[\"deaths\"] > 10, \"deaths\"] = 1\n",
    "gr_kd.kills = gr_kd.kills.astype(int)\n",
    "gr_kd.loc[gr_kd[\"kills\"] <= 10, \"kills\"] = 0\n",
    "gr_kd.loc[gr_kd[\"kills\"] > 10, \"kills\"] = 1\n",
    "gr_kd.kills = gr_kd.kills.astype(str)\n",
    "gr_kd.loc[gr_kd[\"kills\"] == \"0\", \"kills\"] = \"<=10\"\n",
    "gr_kd.loc[gr_kd[\"kills\"] == \"1\", \"kills\"] = \">10\"\n",
    "gr = sns.countplot(x = \"kills\", hue = \"deaths\", data = gr_kd)\n",
    "legend_labels, _= gr.get_legend_handles_labels()\n",
    "gr.legend(legend_labels, [\"<=10\", \">10\"], bbox_to_anchor = (1,1), title = \"deaths\")\n",
    "plt.show()"
   ]
  },
  {
   "cell_type": "markdown",
   "id": "71569c59-3460-472e-a5c2-42f3201f7cc9",
   "metadata": {},
   "source": [
    "<h4>График соотношения статусов отключения от игры относительно героев</h4>"
   ]
  },
  {
   "cell_type": "code",
   "execution_count": 65,
   "id": "bd656255-e321-41ca-b74d-0b1c9b22c6cf",
   "metadata": {},
   "outputs": [
    {
     "data": {
      "image/png": "[encoded data removed]",
      "text/plain": [
       "<Figure size 2160x360 with 1 Axes>"
      ]
     },
     "metadata": {
      "needs_background": "light"
     },
     "output_type": "display_data"
    }
   ],
   "source": [
    "fig = plt.figure(figsize = (30, 5))\n",
    "\n",
    "gr_h_leaver = merged.copy()\n",
    "gr = sns.countplot(x = \"localized_name\", hue = \"leaver_status\", data = gr_h_leaver.loc[~gr_h_leaver[\"leaver_status\"].isin([0,1])])\n",
    "legend_labels, _= gr.get_legend_handles_labels()\n",
    "gr.legend(legend_labels, [\"timeout\", \"leave\", \"afk\"], bbox_to_anchor = (1,1), title = \"status\")\n",
    "gr.set_xticklabels(gr.get_xticklabels(), rotation = 90, ha = \"right\")\n",
    "plt.show()"
   ]
  },
  {
   "cell_type": "markdown",
   "id": "e909a362-934d-4da4-a1f4-aa8e22786872",
   "metadata": {},
   "source": [
    "<h2>Пропуски данных и аномальные выбросы</h2>"
   ]
  },
  {
   "cell_type": "markdown",
   "id": "a5b69c65-8964-4518-8558-d7a54e16ed71",
   "metadata": {},
   "source": [
    "<h4>Выбросы в потраченном золоте (gold_spent)</h4>"
   ]
  },
  {
   "cell_type": "code",
   "execution_count": 66,
   "id": "2297af9a-01b9-4c42-8579-3478303ddbe7",
   "metadata": {},
   "outputs": [
    {
     "data": {
      "text/plain": [
       "count    500000.000000\n",
       "mean      14110.043850\n",
       "std        6401.868898\n",
       "min           0.000000\n",
       "25%        9590.000000\n",
       "50%       13110.000000\n",
       "75%       17635.000000\n",
       "max      200000.000000\n",
       "Name: gold_spent, dtype: float64"
      ]
     },
     "execution_count": 66,
     "metadata": {},
     "output_type": "execute_result"
    }
   ],
   "source": [
    "merged[\"gold_spent\"].describe()"
   ]
  },
  {
   "cell_type": "code",
   "execution_count": 67,
   "id": "25b9bc2c-a705-4af2-bc45-a7b5dff527bb",
   "metadata": {},
   "outputs": [
    {
     "data": {
      "text/html": [
       "<div>\n",
       "<style scoped>\n",
       "    .dataframe tbody tr th:only-of-type {\n",
       "        vertical-align: middle;\n",
       "    }\n",
       "\n",
       "    .dataframe tbody tr th {\n",
       "        vertical-align: top;\n",
       "    }\n",
       "\n",
       "    .dataframe thead th {\n",
       "        text-align: right;\n",
       "    }\n",
       "</style>\n",
       "<table border=\"1\" class=\"dataframe\">\n",
       "  <thead>\n",
       "    <tr style=\"text-align: right;\">\n",
       "      <th></th>\n",
       "      <th>match_id</th>\n",
       "      <th>gold_spent</th>\n",
       "    </tr>\n",
       "  </thead>\n",
       "  <tbody>\n",
       "    <tr>\n",
       "      <th>99468</th>\n",
       "      <td>9946</td>\n",
       "      <td>89660</td>\n",
       "    </tr>\n",
       "    <tr>\n",
       "      <th>99469</th>\n",
       "      <td>9946</td>\n",
       "      <td>98950</td>\n",
       "    </tr>\n",
       "    <tr>\n",
       "      <th>403448</th>\n",
       "      <td>40344</td>\n",
       "      <td>162645</td>\n",
       "    </tr>\n",
       "    <tr>\n",
       "      <th>403449</th>\n",
       "      <td>40344</td>\n",
       "      <td>200000</td>\n",
       "    </tr>\n",
       "  </tbody>\n",
       "</table>\n",
       "</div>"
      ],
      "text/plain": [
       "        match_id  gold_spent\n",
       "99468       9946       89660\n",
       "99469       9946       98950\n",
       "403448     40344      162645\n",
       "403449     40344      200000"
      ]
     },
     "execution_count": 67,
     "metadata": {},
     "output_type": "execute_result"
    }
   ],
   "source": [
    "#Обнаружена аномальная игра, в которой два игрока потратили аномально большое (по сравнению в другими игроками этого матча) количество денег\n",
    "merged.gold_spent = merged.gold_spent.astype(int)\n",
    "merged[merged[\"gold_spent\"] > 89417][[\"match_id\", \"gold_spent\"]]"
   ]
  },
  {
   "cell_type": "code",
   "execution_count": 68,
   "id": "eb73f8a4-7019-4943-b99d-e63dc56f2415",
   "metadata": {},
   "outputs": [
    {
     "data": {
      "text/html": [
       "<div>\n",
       "<style scoped>\n",
       "    .dataframe tbody tr th:only-of-type {\n",
       "        vertical-align: middle;\n",
       "    }\n",
       "\n",
       "    .dataframe tbody tr th {\n",
       "        vertical-align: top;\n",
       "    }\n",
       "\n",
       "    .dataframe thead th {\n",
       "        text-align: right;\n",
       "    }\n",
       "</style>\n",
       "<table border=\"1\" class=\"dataframe\">\n",
       "  <thead>\n",
       "    <tr style=\"text-align: right;\">\n",
       "      <th></th>\n",
       "      <th>localized_name</th>\n",
       "      <th>gold_spent</th>\n",
       "      <th>gold_sell</th>\n",
       "      <th>gold_other</th>\n",
       "      <th>gold_per_min</th>\n",
       "      <th>level</th>\n",
       "      <th>hero_damage</th>\n",
       "      <th>leaver_status</th>\n",
       "    </tr>\n",
       "  </thead>\n",
       "  <tbody>\n",
       "    <tr>\n",
       "      <th>403440</th>\n",
       "      <td>Earthshaker</td>\n",
       "      <td>6460</td>\n",
       "      <td>649.0</td>\n",
       "      <td>100.0</td>\n",
       "      <td>275</td>\n",
       "      <td>13</td>\n",
       "      <td>4255</td>\n",
       "      <td>2</td>\n",
       "    </tr>\n",
       "    <tr>\n",
       "      <th>403441</th>\n",
       "      <td>Juggernaut</td>\n",
       "      <td>8855</td>\n",
       "      <td>1307.0</td>\n",
       "      <td>297.0</td>\n",
       "      <td>274</td>\n",
       "      <td>11</td>\n",
       "      <td>1494</td>\n",
       "      <td>2</td>\n",
       "    </tr>\n",
       "    <tr>\n",
       "      <th>403442</th>\n",
       "      <td>Io</td>\n",
       "      <td>7075</td>\n",
       "      <td>948.0</td>\n",
       "      <td>55.0</td>\n",
       "      <td>262</td>\n",
       "      <td>11</td>\n",
       "      <td>6270</td>\n",
       "      <td>2</td>\n",
       "    </tr>\n",
       "    <tr>\n",
       "      <th>403443</th>\n",
       "      <td>Tusk</td>\n",
       "      <td>17495</td>\n",
       "      <td>132.0</td>\n",
       "      <td>136.0</td>\n",
       "      <td>526</td>\n",
       "      <td>18</td>\n",
       "      <td>13844</td>\n",
       "      <td>0</td>\n",
       "    </tr>\n",
       "    <tr>\n",
       "      <th>403444</th>\n",
       "      <td>Dragon Knight</td>\n",
       "      <td>24495</td>\n",
       "      <td>3475.0</td>\n",
       "      <td>175.0</td>\n",
       "      <td>621</td>\n",
       "      <td>21</td>\n",
       "      <td>13901</td>\n",
       "      <td>0</td>\n",
       "    </tr>\n",
       "    <tr>\n",
       "      <th>403445</th>\n",
       "      <td>Templar Assassin</td>\n",
       "      <td>20285</td>\n",
       "      <td>842.0</td>\n",
       "      <td>357.0</td>\n",
       "      <td>606</td>\n",
       "      <td>23</td>\n",
       "      <td>22856</td>\n",
       "      <td>0</td>\n",
       "    </tr>\n",
       "    <tr>\n",
       "      <th>403446</th>\n",
       "      <td>Zeus</td>\n",
       "      <td>8565</td>\n",
       "      <td>387.0</td>\n",
       "      <td>493.0</td>\n",
       "      <td>273</td>\n",
       "      <td>16</td>\n",
       "      <td>12339</td>\n",
       "      <td>0</td>\n",
       "    </tr>\n",
       "    <tr>\n",
       "      <th>403447</th>\n",
       "      <td>Techies</td>\n",
       "      <td>6400</td>\n",
       "      <td>762.0</td>\n",
       "      <td>257.0</td>\n",
       "      <td>186</td>\n",
       "      <td>8</td>\n",
       "      <td>3853</td>\n",
       "      <td>0</td>\n",
       "    </tr>\n",
       "    <tr>\n",
       "      <th>403448</th>\n",
       "      <td>Broodmother</td>\n",
       "      <td>162645</td>\n",
       "      <td>159320.0</td>\n",
       "      <td>119.0</td>\n",
       "      <td>207</td>\n",
       "      <td>11</td>\n",
       "      <td>3062</td>\n",
       "      <td>0</td>\n",
       "    </tr>\n",
       "    <tr>\n",
       "      <th>403449</th>\n",
       "      <td>Riki</td>\n",
       "      <td>200000</td>\n",
       "      <td>197237.0</td>\n",
       "      <td>154.0</td>\n",
       "      <td>302</td>\n",
       "      <td>14</td>\n",
       "      <td>6562</td>\n",
       "      <td>0</td>\n",
       "    </tr>\n",
       "  </tbody>\n",
       "</table>\n",
       "</div>"
      ],
      "text/plain": [
       "          localized_name  gold_spent  gold_sell  gold_other  gold_per_min  \\\n",
       "403440       Earthshaker        6460      649.0       100.0           275   \n",
       "403441        Juggernaut        8855     1307.0       297.0           274   \n",
       "403442                Io        7075      948.0        55.0           262   \n",
       "403443              Tusk       17495      132.0       136.0           526   \n",
       "403444     Dragon Knight       24495     3475.0       175.0           621   \n",
       "403445  Templar Assassin       20285      842.0       357.0           606   \n",
       "403446              Zeus        8565      387.0       493.0           273   \n",
       "403447           Techies        6400      762.0       257.0           186   \n",
       "403448       Broodmother      162645   159320.0       119.0           207   \n",
       "403449              Riki      200000   197237.0       154.0           302   \n",
       "\n",
       "        level  hero_damage  leaver_status  \n",
       "403440     13         4255              2  \n",
       "403441     11         1494              2  \n",
       "403442     11         6270              2  \n",
       "403443     18        13844              0  \n",
       "403444     21        13901              0  \n",
       "403445     23        22856              0  \n",
       "403446     16        12339              0  \n",
       "403447      8         3853              0  \n",
       "403448     11         3062              0  \n",
       "403449     14         6562              0  "
      ]
     },
     "execution_count": 68,
     "metadata": {},
     "output_type": "execute_result"
    }
   ],
   "source": [
    "merged[merged[\"match_id\"] == 40344][[\"localized_name\", \"gold_spent\", \"gold_sell\", \"gold_other\", \"gold_per_min\", \"level\", \"hero_damage\", \"leaver_status\"]]"
   ]
  },
  {
   "cell_type": "code",
   "execution_count": 69,
   "id": "99e1ac93-b946-48a9-b04b-e7a8484affd9",
   "metadata": {},
   "outputs": [],
   "source": [
    "#Решение - далее в gold_sell"
   ]
  },
  {
   "cell_type": "markdown",
   "id": "0f920147-00cc-41f9-9e2f-00da3cebce7d",
   "metadata": {},
   "source": [
    "<h4>Выбросы в показателях контроля (stuns)</h4>"
   ]
  },
  {
   "cell_type": "code",
   "execution_count": 70,
   "id": "30c1ff2f-88f9-4b47-bc8f-d021849d605a",
   "metadata": {},
   "outputs": [
    {
     "data": {
      "text/plain": [
       "count    500000.000000\n",
       "mean         26.241222\n",
       "std          33.988159\n",
       "min          -3.364900\n",
       "25%           0.000000\n",
       "50%          11.105200\n",
       "75%          43.789125\n",
       "max         554.836000\n",
       "Name: stuns, dtype: float64"
      ]
     },
     "execution_count": 70,
     "metadata": {},
     "output_type": "execute_result"
    }
   ],
   "source": [
    "#Обнаружены отрицателные значения контроля\n",
    "merged[\"stuns\"].describe()"
   ]
  },
  {
   "cell_type": "code",
   "execution_count": 71,
   "id": "1d1eba88-dc1c-490a-a9de-9f35fb1dbec3",
   "metadata": {},
   "outputs": [
    {
     "data": {
      "text/html": [
       "<div>\n",
       "<style scoped>\n",
       "    .dataframe tbody tr th:only-of-type {\n",
       "        vertical-align: middle;\n",
       "    }\n",
       "\n",
       "    .dataframe tbody tr th {\n",
       "        vertical-align: top;\n",
       "    }\n",
       "\n",
       "    .dataframe thead th {\n",
       "        text-align: right;\n",
       "    }\n",
       "</style>\n",
       "<table border=\"1\" class=\"dataframe\">\n",
       "  <thead>\n",
       "    <tr style=\"text-align: right;\">\n",
       "      <th></th>\n",
       "      <th>match_id</th>\n",
       "      <th>localized_name</th>\n",
       "      <th>stuns</th>\n",
       "    </tr>\n",
       "  </thead>\n",
       "  <tbody>\n",
       "    <tr>\n",
       "      <th>1601</th>\n",
       "      <td>160</td>\n",
       "      <td>Shadow Fiend</td>\n",
       "      <td>-0.000020</td>\n",
       "    </tr>\n",
       "    <tr>\n",
       "      <th>2929</th>\n",
       "      <td>292</td>\n",
       "      <td>Anti-Mage</td>\n",
       "      <td>-0.000073</td>\n",
       "    </tr>\n",
       "    <tr>\n",
       "      <th>3769</th>\n",
       "      <td>376</td>\n",
       "      <td>Doom</td>\n",
       "      <td>-0.755454</td>\n",
       "    </tr>\n",
       "    <tr>\n",
       "      <th>3879</th>\n",
       "      <td>387</td>\n",
       "      <td>Bloodseeker</td>\n",
       "      <td>-0.000010</td>\n",
       "    </tr>\n",
       "    <tr>\n",
       "      <th>5702</th>\n",
       "      <td>570</td>\n",
       "      <td>Templar Assassin</td>\n",
       "      <td>-0.000010</td>\n",
       "    </tr>\n",
       "    <tr>\n",
       "      <th>...</th>\n",
       "      <td>...</td>\n",
       "      <td>...</td>\n",
       "      <td>...</td>\n",
       "    </tr>\n",
       "    <tr>\n",
       "      <th>496309</th>\n",
       "      <td>49630</td>\n",
       "      <td>Anti-Mage</td>\n",
       "      <td>-0.000024</td>\n",
       "    </tr>\n",
       "    <tr>\n",
       "      <th>496323</th>\n",
       "      <td>49632</td>\n",
       "      <td>Anti-Mage</td>\n",
       "      <td>-0.000049</td>\n",
       "    </tr>\n",
       "    <tr>\n",
       "      <th>496788</th>\n",
       "      <td>49678</td>\n",
       "      <td>Legion Commander</td>\n",
       "      <td>-0.000024</td>\n",
       "    </tr>\n",
       "    <tr>\n",
       "      <th>497009</th>\n",
       "      <td>49700</td>\n",
       "      <td>Shadow Fiend</td>\n",
       "      <td>-0.000020</td>\n",
       "    </tr>\n",
       "    <tr>\n",
       "      <th>499805</th>\n",
       "      <td>49980</td>\n",
       "      <td>Anti-Mage</td>\n",
       "      <td>-0.000024</td>\n",
       "    </tr>\n",
       "  </tbody>\n",
       "</table>\n",
       "<p>494 rows × 3 columns</p>\n",
       "</div>"
      ],
      "text/plain": [
       "        match_id    localized_name     stuns\n",
       "1601         160      Shadow Fiend -0.000020\n",
       "2929         292         Anti-Mage -0.000073\n",
       "3769         376              Doom -0.755454\n",
       "3879         387       Bloodseeker -0.000010\n",
       "5702         570  Templar Assassin -0.000010\n",
       "...          ...               ...       ...\n",
       "496309     49630         Anti-Mage -0.000024\n",
       "496323     49632         Anti-Mage -0.000049\n",
       "496788     49678  Legion Commander -0.000024\n",
       "497009     49700      Shadow Fiend -0.000020\n",
       "499805     49980         Anti-Mage -0.000024\n",
       "\n",
       "[494 rows x 3 columns]"
      ]
     },
     "execution_count": 71,
     "metadata": {},
     "output_type": "execute_result"
    }
   ],
   "source": [
    "merged[merged[\"stuns\"] < 0][[\"match_id\", \"localized_name\", \"stuns\"]]"
   ]
  },
  {
   "cell_type": "code",
   "execution_count": 72,
   "id": "f596f65e-c4f6-48a3-be4d-dbe7fff7106f",
   "metadata": {},
   "outputs": [
    {
     "data": {
      "text/plain": [
       "count    500000.000000\n",
       "mean         26.241514\n",
       "std          33.987928\n",
       "min           0.000000\n",
       "25%           0.000000\n",
       "50%          11.105200\n",
       "75%          43.789125\n",
       "max         554.836000\n",
       "Name: stuns, dtype: float64"
      ]
     },
     "execution_count": 72,
     "metadata": {},
     "output_type": "execute_result"
    }
   ],
   "source": [
    "#Решение - заменить все отрицательные значения на минимально возможное 0\n",
    "merged[merged[\"stuns\"] < 0] = 0\n",
    "merged[\"stuns\"].describe()"
   ]
  },
  {
   "cell_type": "code",
   "execution_count": 73,
   "id": "d780b33c-6851-4a82-bb14-f2acef4f8930",
   "metadata": {},
   "outputs": [
    {
     "data": {
      "text/html": [
       "<div>\n",
       "<style scoped>\n",
       "    .dataframe tbody tr th:only-of-type {\n",
       "        vertical-align: middle;\n",
       "    }\n",
       "\n",
       "    .dataframe tbody tr th {\n",
       "        vertical-align: top;\n",
       "    }\n",
       "\n",
       "    .dataframe thead th {\n",
       "        text-align: right;\n",
       "    }\n",
       "</style>\n",
       "<table border=\"1\" class=\"dataframe\">\n",
       "  <thead>\n",
       "    <tr style=\"text-align: right;\">\n",
       "      <th></th>\n",
       "      <th>match_id</th>\n",
       "      <th>localized_name</th>\n",
       "      <th>stuns</th>\n",
       "    </tr>\n",
       "  </thead>\n",
       "  <tbody>\n",
       "  </tbody>\n",
       "</table>\n",
       "</div>"
      ],
      "text/plain": [
       "Empty DataFrame\n",
       "Columns: [match_id, localized_name, stuns]\n",
       "Index: []"
      ]
     },
     "execution_count": 73,
     "metadata": {},
     "output_type": "execute_result"
    }
   ],
   "source": [
    "merged[merged[\"stuns\"] < 0][[\"match_id\", \"localized_name\", \"stuns\"]]"
   ]
  },
  {
   "cell_type": "markdown",
   "id": "f5f4213b-c61e-4174-9fe5-03e58ce1d586",
   "metadata": {},
   "source": [
    "<h4>Выбросы в полученном от продаже предметов золоте (gold_sell)</h4>"
   ]
  },
  {
   "cell_type": "code",
   "execution_count": 74,
   "id": "159294fe-c419-40bb-a0d7-f45a6542dbf8",
   "metadata": {},
   "outputs": [
    {
     "data": {
      "text/plain": [
       "count    397516.000000\n",
       "mean        657.852288\n",
       "std        1016.240927\n",
       "min           0.000000\n",
       "25%         137.000000\n",
       "50%         350.000000\n",
       "75%         817.000000\n",
       "max      197237.000000\n",
       "Name: gold_sell, dtype: float64"
      ]
     },
     "execution_count": 74,
     "metadata": {},
     "output_type": "execute_result"
    }
   ],
   "source": [
    "merged[\"gold_sell\"].describe()"
   ]
  },
  {
   "cell_type": "code",
   "execution_count": 75,
   "id": "e0e634dc-a6d9-4a46-92a6-1c29317088b7",
   "metadata": {},
   "outputs": [
    {
     "data": {
      "text/html": [
       "<div>\n",
       "<style scoped>\n",
       "    .dataframe tbody tr th:only-of-type {\n",
       "        vertical-align: middle;\n",
       "    }\n",
       "\n",
       "    .dataframe tbody tr th {\n",
       "        vertical-align: top;\n",
       "    }\n",
       "\n",
       "    .dataframe thead th {\n",
       "        text-align: right;\n",
       "    }\n",
       "</style>\n",
       "<table border=\"1\" class=\"dataframe\">\n",
       "  <thead>\n",
       "    <tr style=\"text-align: right;\">\n",
       "      <th></th>\n",
       "      <th>match_id</th>\n",
       "      <th>gold_sell</th>\n",
       "    </tr>\n",
       "  </thead>\n",
       "  <tbody>\n",
       "    <tr>\n",
       "      <th>104218</th>\n",
       "      <td>10421</td>\n",
       "      <td>59437.0</td>\n",
       "    </tr>\n",
       "    <tr>\n",
       "      <th>113010</th>\n",
       "      <td>11301</td>\n",
       "      <td>31454.0</td>\n",
       "    </tr>\n",
       "    <tr>\n",
       "      <th>153451</th>\n",
       "      <td>15345</td>\n",
       "      <td>36444.0</td>\n",
       "    </tr>\n",
       "    <tr>\n",
       "      <th>332079</th>\n",
       "      <td>33207</td>\n",
       "      <td>32249.0</td>\n",
       "    </tr>\n",
       "    <tr>\n",
       "      <th>335517</th>\n",
       "      <td>33551</td>\n",
       "      <td>71658.0</td>\n",
       "    </tr>\n",
       "    <tr>\n",
       "      <th>355453</th>\n",
       "      <td>35545</td>\n",
       "      <td>34087.0</td>\n",
       "    </tr>\n",
       "    <tr>\n",
       "      <th>403448</th>\n",
       "      <td>40344</td>\n",
       "      <td>159320.0</td>\n",
       "    </tr>\n",
       "    <tr>\n",
       "      <th>403449</th>\n",
       "      <td>40344</td>\n",
       "      <td>197237.0</td>\n",
       "    </tr>\n",
       "    <tr>\n",
       "      <th>412630</th>\n",
       "      <td>41263</td>\n",
       "      <td>64414.0</td>\n",
       "    </tr>\n",
       "    <tr>\n",
       "      <th>433687</th>\n",
       "      <td>43368</td>\n",
       "      <td>47672.0</td>\n",
       "    </tr>\n",
       "    <tr>\n",
       "      <th>438820</th>\n",
       "      <td>43882</td>\n",
       "      <td>85154.0</td>\n",
       "    </tr>\n",
       "  </tbody>\n",
       "</table>\n",
       "</div>"
      ],
      "text/plain": [
       "        match_id  gold_sell\n",
       "104218     10421    59437.0\n",
       "113010     11301    31454.0\n",
       "153451     15345    36444.0\n",
       "332079     33207    32249.0\n",
       "335517     33551    71658.0\n",
       "355453     35545    34087.0\n",
       "403448     40344   159320.0\n",
       "403449     40344   197237.0\n",
       "412630     41263    64414.0\n",
       "433687     43368    47672.0\n",
       "438820     43882    85154.0"
      ]
     },
     "execution_count": 75,
     "metadata": {},
     "output_type": "execute_result"
    }
   ],
   "source": [
    "#Та же самая аномальная игра, те же самые два игрока продали предметов на аномальную сумму\n",
    "merged[merged[\"gold_sell\"] > 30000][[\"match_id\", \"gold_sell\"]]"
   ]
  },
  {
   "cell_type": "code",
   "execution_count": 76,
   "id": "231cadae-2fdd-47ec-8793-87e8f097def2",
   "metadata": {},
   "outputs": [
    {
     "data": {
      "text/html": [
       "<div>\n",
       "<style scoped>\n",
       "    .dataframe tbody tr th:only-of-type {\n",
       "        vertical-align: middle;\n",
       "    }\n",
       "\n",
       "    .dataframe tbody tr th {\n",
       "        vertical-align: top;\n",
       "    }\n",
       "\n",
       "    .dataframe thead th {\n",
       "        text-align: right;\n",
       "    }\n",
       "</style>\n",
       "<table border=\"1\" class=\"dataframe\">\n",
       "  <thead>\n",
       "    <tr style=\"text-align: right;\">\n",
       "      <th></th>\n",
       "      <th>match_id</th>\n",
       "      <th>player_slot</th>\n",
       "      <th>localized_name</th>\n",
       "      <th>kills</th>\n",
       "      <th>deaths</th>\n",
       "      <th>assists</th>\n",
       "      <th>item_name_1</th>\n",
       "      <th>item_name_2</th>\n",
       "      <th>item_name_3</th>\n",
       "      <th>item_name_4</th>\n",
       "      <th>...</th>\n",
       "      <th>gold_killing_creeps</th>\n",
       "      <th>gold_killing_roshan</th>\n",
       "      <th>gold_killing_couriers</th>\n",
       "      <th>gold_other</th>\n",
       "      <th>xp_per_min</th>\n",
       "      <th>xp_hero</th>\n",
       "      <th>xp_creep</th>\n",
       "      <th>xp_roshan</th>\n",
       "      <th>xp_other</th>\n",
       "      <th>leaver_status</th>\n",
       "    </tr>\n",
       "  </thead>\n",
       "  <tbody>\n",
       "    <tr>\n",
       "      <th>0</th>\n",
       "      <td>0</td>\n",
       "      <td>0</td>\n",
       "      <td>Rubick</td>\n",
       "      <td>9</td>\n",
       "      <td>3</td>\n",
       "      <td>18</td>\n",
       "      <td>arcane_boots</td>\n",
       "      <td>ghost</td>\n",
       "      <td>bracer</td>\n",
       "      <td>ring_of_health</td>\n",
       "      <td>...</td>\n",
       "      <td>1087.0</td>\n",
       "      <td>400.0</td>\n",
       "      <td>NaN</td>\n",
       "      <td>50.0</td>\n",
       "      <td>362</td>\n",
       "      <td>8840.0</td>\n",
       "      <td>5440.0</td>\n",
       "      <td>NaN</td>\n",
       "      <td>83.0</td>\n",
       "      <td>0</td>\n",
       "    </tr>\n",
       "    <tr>\n",
       "      <th>1</th>\n",
       "      <td>0</td>\n",
       "      <td>1</td>\n",
       "      <td>Clockwerk</td>\n",
       "      <td>13</td>\n",
       "      <td>3</td>\n",
       "      <td>18</td>\n",
       "      <td>tpscroll</td>\n",
       "      <td>power_treads</td>\n",
       "      <td>shivas_guard</td>\n",
       "      <td>force_staff</td>\n",
       "      <td>...</td>\n",
       "      <td>4317.0</td>\n",
       "      <td>937.0</td>\n",
       "      <td>NaN</td>\n",
       "      <td>395.0</td>\n",
       "      <td>659</td>\n",
       "      <td>14331.0</td>\n",
       "      <td>8440.0</td>\n",
       "      <td>2683.0</td>\n",
       "      <td>671.0</td>\n",
       "      <td>0</td>\n",
       "    </tr>\n",
       "    <tr>\n",
       "      <th>2</th>\n",
       "      <td>0</td>\n",
       "      <td>2</td>\n",
       "      <td>Treant Protector</td>\n",
       "      <td>0</td>\n",
       "      <td>4</td>\n",
       "      <td>15</td>\n",
       "      <td>travel_boots</td>\n",
       "      <td>point_booster</td>\n",
       "      <td>energy_booster</td>\n",
       "      <td>ultimate_scepter</td>\n",
       "      <td>...</td>\n",
       "      <td>3697.0</td>\n",
       "      <td>400.0</td>\n",
       "      <td>NaN</td>\n",
       "      <td>259.0</td>\n",
       "      <td>385</td>\n",
       "      <td>6692.0</td>\n",
       "      <td>8112.0</td>\n",
       "      <td>NaN</td>\n",
       "      <td>453.0</td>\n",
       "      <td>0</td>\n",
       "    </tr>\n",
       "    <tr>\n",
       "      <th>3</th>\n",
       "      <td>0</td>\n",
       "      <td>3</td>\n",
       "      <td>Shadow Fiend</td>\n",
       "      <td>8</td>\n",
       "      <td>4</td>\n",
       "      <td>19</td>\n",
       "      <td>power_treads</td>\n",
       "      <td>manta</td>\n",
       "      <td>sange_and_yasha</td>\n",
       "      <td>helm_of_the_dominator</td>\n",
       "      <td>...</td>\n",
       "      <td>10432.0</td>\n",
       "      <td>400.0</td>\n",
       "      <td>NaN</td>\n",
       "      <td>100.0</td>\n",
       "      <td>605</td>\n",
       "      <td>8583.0</td>\n",
       "      <td>14230.0</td>\n",
       "      <td>894.0</td>\n",
       "      <td>293.0</td>\n",
       "      <td>0</td>\n",
       "    </tr>\n",
       "    <tr>\n",
       "      <th>4</th>\n",
       "      <td>0</td>\n",
       "      <td>4</td>\n",
       "      <td>Spectre</td>\n",
       "      <td>20</td>\n",
       "      <td>3</td>\n",
       "      <td>17</td>\n",
       "      <td>heart</td>\n",
       "      <td>urn_of_shadows</td>\n",
       "      <td>manta</td>\n",
       "      <td>NaN</td>\n",
       "      <td>...</td>\n",
       "      <td>9220.0</td>\n",
       "      <td>400.0</td>\n",
       "      <td>NaN</td>\n",
       "      <td>NaN</td>\n",
       "      <td>762</td>\n",
       "      <td>15814.0</td>\n",
       "      <td>14325.0</td>\n",
       "      <td>NaN</td>\n",
       "      <td>62.0</td>\n",
       "      <td>0</td>\n",
       "    </tr>\n",
       "    <tr>\n",
       "      <th>...</th>\n",
       "      <td>...</td>\n",
       "      <td>...</td>\n",
       "      <td>...</td>\n",
       "      <td>...</td>\n",
       "      <td>...</td>\n",
       "      <td>...</td>\n",
       "      <td>...</td>\n",
       "      <td>...</td>\n",
       "      <td>...</td>\n",
       "      <td>...</td>\n",
       "      <td>...</td>\n",
       "      <td>...</td>\n",
       "      <td>...</td>\n",
       "      <td>...</td>\n",
       "      <td>...</td>\n",
       "      <td>...</td>\n",
       "      <td>...</td>\n",
       "      <td>...</td>\n",
       "      <td>...</td>\n",
       "      <td>...</td>\n",
       "      <td>...</td>\n",
       "    </tr>\n",
       "    <tr>\n",
       "      <th>499995</th>\n",
       "      <td>49999</td>\n",
       "      <td>128</td>\n",
       "      <td>Tusk</td>\n",
       "      <td>16</td>\n",
       "      <td>9</td>\n",
       "      <td>16</td>\n",
       "      <td>silver_edge</td>\n",
       "      <td>bottle</td>\n",
       "      <td>NaN</td>\n",
       "      <td>phase_boots</td>\n",
       "      <td>...</td>\n",
       "      <td>2940.0</td>\n",
       "      <td>400.0</td>\n",
       "      <td>NaN</td>\n",
       "      <td>528.0</td>\n",
       "      <td>626</td>\n",
       "      <td>21496.0</td>\n",
       "      <td>6025.0</td>\n",
       "      <td>596.0</td>\n",
       "      <td>1007.0</td>\n",
       "      <td>0</td>\n",
       "    </tr>\n",
       "    <tr>\n",
       "      <th>499996</th>\n",
       "      <td>49999</td>\n",
       "      <td>129</td>\n",
       "      <td>Mirana</td>\n",
       "      <td>12</td>\n",
       "      <td>6</td>\n",
       "      <td>11</td>\n",
       "      <td>monkey_king_bar</td>\n",
       "      <td>power_treads</td>\n",
       "      <td>maelstrom</td>\n",
       "      <td>gem</td>\n",
       "      <td>...</td>\n",
       "      <td>4346.0</td>\n",
       "      <td>857.0</td>\n",
       "      <td>175.0</td>\n",
       "      <td>329.0</td>\n",
       "      <td>607</td>\n",
       "      <td>16360.0</td>\n",
       "      <td>9653.0</td>\n",
       "      <td>1490.0</td>\n",
       "      <td>740.0</td>\n",
       "      <td>0</td>\n",
       "    </tr>\n",
       "    <tr>\n",
       "      <th>499997</th>\n",
       "      <td>49999</td>\n",
       "      <td>130</td>\n",
       "      <td>Keeper of the Light</td>\n",
       "      <td>5</td>\n",
       "      <td>3</td>\n",
       "      <td>11</td>\n",
       "      <td>mekansm</td>\n",
       "      <td>travel_boots</td>\n",
       "      <td>invis_sword</td>\n",
       "      <td>ultimate_scepter</td>\n",
       "      <td>...</td>\n",
       "      <td>3833.0</td>\n",
       "      <td>400.0</td>\n",
       "      <td>175.0</td>\n",
       "      <td>303.0</td>\n",
       "      <td>404</td>\n",
       "      <td>8205.0</td>\n",
       "      <td>10012.0</td>\n",
       "      <td>NaN</td>\n",
       "      <td>600.0</td>\n",
       "      <td>0</td>\n",
       "    </tr>\n",
       "    <tr>\n",
       "      <th>499998</th>\n",
       "      <td>49999</td>\n",
       "      <td>131</td>\n",
       "      <td>Alchemist</td>\n",
       "      <td>8</td>\n",
       "      <td>6</td>\n",
       "      <td>17</td>\n",
       "      <td>silver_edge</td>\n",
       "      <td>sange_and_yasha</td>\n",
       "      <td>assault</td>\n",
       "      <td>travel_boots</td>\n",
       "      <td>...</td>\n",
       "      <td>12927.0</td>\n",
       "      <td>400.0</td>\n",
       "      <td>175.0</td>\n",
       "      <td>8302.0</td>\n",
       "      <td>703</td>\n",
       "      <td>11773.0</td>\n",
       "      <td>20005.0</td>\n",
       "      <td>596.0</td>\n",
       "      <td>327.0</td>\n",
       "      <td>0</td>\n",
       "    </tr>\n",
       "    <tr>\n",
       "      <th>499999</th>\n",
       "      <td>49999</td>\n",
       "      <td>132</td>\n",
       "      <td>Nature's Prophet</td>\n",
       "      <td>6</td>\n",
       "      <td>6</td>\n",
       "      <td>17</td>\n",
       "      <td>blink</td>\n",
       "      <td>mjollnir</td>\n",
       "      <td>travel_boots</td>\n",
       "      <td>demon_edge</td>\n",
       "      <td>...</td>\n",
       "      <td>10888.0</td>\n",
       "      <td>400.0</td>\n",
       "      <td>175.0</td>\n",
       "      <td>NaN</td>\n",
       "      <td>533</td>\n",
       "      <td>8210.0</td>\n",
       "      <td>15571.0</td>\n",
       "      <td>894.0</td>\n",
       "      <td>103.0</td>\n",
       "      <td>0</td>\n",
       "    </tr>\n",
       "  </tbody>\n",
       "</table>\n",
       "<p>499990 rows × 37 columns</p>\n",
       "</div>"
      ],
      "text/plain": [
       "        match_id  player_slot       localized_name  kills  deaths  assists  \\\n",
       "0              0            0               Rubick      9       3       18   \n",
       "1              0            1            Clockwerk     13       3       18   \n",
       "2              0            2     Treant Protector      0       4       15   \n",
       "3              0            3         Shadow Fiend      8       4       19   \n",
       "4              0            4              Spectre     20       3       17   \n",
       "...          ...          ...                  ...    ...     ...      ...   \n",
       "499995     49999          128                 Tusk     16       9       16   \n",
       "499996     49999          129               Mirana     12       6       11   \n",
       "499997     49999          130  Keeper of the Light      5       3       11   \n",
       "499998     49999          131            Alchemist      8       6       17   \n",
       "499999     49999          132     Nature's Prophet      6       6       17   \n",
       "\n",
       "            item_name_1      item_name_2      item_name_3  \\\n",
       "0          arcane_boots            ghost           bracer   \n",
       "1              tpscroll     power_treads     shivas_guard   \n",
       "2          travel_boots    point_booster   energy_booster   \n",
       "3          power_treads            manta  sange_and_yasha   \n",
       "4                 heart   urn_of_shadows            manta   \n",
       "...                 ...              ...              ...   \n",
       "499995      silver_edge           bottle              NaN   \n",
       "499996  monkey_king_bar     power_treads        maelstrom   \n",
       "499997          mekansm     travel_boots      invis_sword   \n",
       "499998      silver_edge  sange_and_yasha          assault   \n",
       "499999            blink         mjollnir     travel_boots   \n",
       "\n",
       "                  item_name_4  ... gold_killing_creeps gold_killing_roshan  \\\n",
       "0              ring_of_health  ...              1087.0               400.0   \n",
       "1                 force_staff  ...              4317.0               937.0   \n",
       "2            ultimate_scepter  ...              3697.0               400.0   \n",
       "3       helm_of_the_dominator  ...             10432.0               400.0   \n",
       "4                         NaN  ...              9220.0               400.0   \n",
       "...                       ...  ...                 ...                 ...   \n",
       "499995            phase_boots  ...              2940.0               400.0   \n",
       "499996                    gem  ...              4346.0               857.0   \n",
       "499997       ultimate_scepter  ...              3833.0               400.0   \n",
       "499998           travel_boots  ...             12927.0               400.0   \n",
       "499999             demon_edge  ...             10888.0               400.0   \n",
       "\n",
       "        gold_killing_couriers  gold_other  xp_per_min  xp_hero  xp_creep  \\\n",
       "0                         NaN        50.0         362   8840.0    5440.0   \n",
       "1                         NaN       395.0         659  14331.0    8440.0   \n",
       "2                         NaN       259.0         385   6692.0    8112.0   \n",
       "3                         NaN       100.0         605   8583.0   14230.0   \n",
       "4                         NaN         NaN         762  15814.0   14325.0   \n",
       "...                       ...         ...         ...      ...       ...   \n",
       "499995                    NaN       528.0         626  21496.0    6025.0   \n",
       "499996                  175.0       329.0         607  16360.0    9653.0   \n",
       "499997                  175.0       303.0         404   8205.0   10012.0   \n",
       "499998                  175.0      8302.0         703  11773.0   20005.0   \n",
       "499999                  175.0         NaN         533   8210.0   15571.0   \n",
       "\n",
       "        xp_roshan  xp_other  leaver_status  \n",
       "0             NaN      83.0              0  \n",
       "1          2683.0     671.0              0  \n",
       "2             NaN     453.0              0  \n",
       "3           894.0     293.0              0  \n",
       "4             NaN      62.0              0  \n",
       "...           ...       ...            ...  \n",
       "499995      596.0    1007.0              0  \n",
       "499996     1490.0     740.0              0  \n",
       "499997        NaN     600.0              0  \n",
       "499998      596.0     327.0              0  \n",
       "499999      894.0     103.0              0  \n",
       "\n",
       "[499990 rows x 37 columns]"
      ]
     },
     "execution_count": 76,
     "metadata": {},
     "output_type": "execute_result"
    }
   ],
   "source": [
    "#Решение - убрать аномальную игру из выборки\n",
    "merged = merged[merged[\"match_id\"] != 40344]\n",
    "merged[attrib]\n",
    "#10 строк были удалены из выборки"
   ]
  },
  {
   "cell_type": "code",
   "execution_count": 77,
   "id": "1003835a-6f77-481e-91c0-331525b93495",
   "metadata": {},
   "outputs": [
    {
     "data": {
      "text/plain": [
       "count    397506.000000\n",
       "mean        656.950464\n",
       "std         933.918931\n",
       "min           0.000000\n",
       "25%         137.000000\n",
       "50%         350.000000\n",
       "75%         817.000000\n",
       "max       85154.000000\n",
       "Name: gold_sell, dtype: float64"
      ]
     },
     "execution_count": 77,
     "metadata": {},
     "output_type": "execute_result"
    }
   ],
   "source": [
    "#Проверяем\n",
    "merged[\"gold_sell\"].describe()"
   ]
  },
  {
   "cell_type": "code",
   "execution_count": 78,
   "id": "376eece1-ba41-4dcc-a735-194b0d807ff2",
   "metadata": {},
   "outputs": [
    {
     "data": {
      "text/plain": [
       "count    499990.000000\n",
       "mean      14093.639443\n",
       "std        6404.467125\n",
       "min           0.000000\n",
       "25%        9580.000000\n",
       "50%       13100.000000\n",
       "75%       17625.000000\n",
       "max       98950.000000\n",
       "Name: gold_spent, dtype: float64"
      ]
     },
     "execution_count": 78,
     "metadata": {},
     "output_type": "execute_result"
    }
   ],
   "source": [
    "merged[\"gold_spent\"].describe()"
   ]
  },
  {
   "cell_type": "markdown",
   "id": "45eec5e7-a7b7-441d-8272-9b305b2d86fd",
   "metadata": {},
   "source": [
    "<h4>Пропуски</h4>"
   ]
  },
  {
   "cell_type": "raw",
   "id": "c5953c51-b197-4002-9701-180148701af8",
   "metadata": {},
   "source": [
    "localized_name - 37 пропусков \n",
    "item_name - 4543 пропуска\n",
    "stuns - 152349 пропусков\n",
    "gold_death - 6299 пропусков\n",
    "gold_buyback - 352859 пропусков\n",
    "gold_abandon - 479366 пропусков\n",
    "gold_sell - 102593 пропуска\n",
    "gold_destroying_structure - 19675 пропусков\n",
    "gold_killing_heros - 1565 пропусков\n",
    "gold_killing_creeps - 294 пропуска\n",
    "gold_killing_roshan - 240264 пропуска\n",
    "gold_killing_couriers - 403021 пропуска\n",
    "gold_other - 94897 пропуска\n",
    "xp_hero - 1883 пропуска\n",
    "xp_creep - 67 пропусков\n",
    "xp_roshan - 320438 пропусков\n",
    "xp_other - 21036 пропусков\n",
    "\n",
    "Все пропуски связаны со значениями NaN\n",
    "Везде, кроме localized_name и item_name на месте пропусков должен быть 0\n",
    "В localized_name NaN подходит как значение, так как это означает, что герой не был выбран вообще"
   ]
  },
  {
   "cell_type": "code",
   "execution_count": 79,
   "id": "23d5ad3e-aeb4-4a0b-923b-5a8bdaebb9ab",
   "metadata": {},
   "outputs": [
    {
     "name": "stderr",
     "output_type": "stream",
     "text": [
      "c:\\python38\\lib\\site-packages\\pandas\\core\\generic.py:6392: SettingWithCopyWarning: \n",
      "A value is trying to be set on a copy of a slice from a DataFrame\n",
      "\n",
      "See the caveats in the documentation: https://pandas.pydata.org/pandas-docs/stable/user_guide/indexing.html#returning-a-view-versus-a-copy\n",
      "  return self._update_inplace(result)\n"
     ]
    },
    {
     "data": {
      "text/plain": [
       "count    499990.000000\n",
       "mean         26.241791\n",
       "std          33.988096\n",
       "min           0.000000\n",
       "25%           0.000000\n",
       "50%          11.105300\n",
       "75%          43.789200\n",
       "max         554.836000\n",
       "Name: stuns, dtype: float64"
      ]
     },
     "execution_count": 79,
     "metadata": {},
     "output_type": "execute_result"
    }
   ],
   "source": [
    "#Заменим все NaN везде, кроме localized_name и item_name, на 0\n",
    "merged[\"stuns\"].fillna(0, inplace = True)\n",
    "merged[\"stuns\"].describe()"
   ]
  },
  {
   "cell_type": "code",
   "execution_count": 80,
   "id": "03f88ddd-004d-471c-8541-7e33d21197ce",
   "metadata": {},
   "outputs": [
    {
     "data": {
      "text/plain": [
       "count    499990.000000\n",
       "mean      -2652.764629\n",
       "std        1516.058265\n",
       "min      -23757.000000\n",
       "25%       -3562.000000\n",
       "50%       -2485.000000\n",
       "75%       -1527.000000\n",
       "max           0.000000\n",
       "Name: gold_death, dtype: float64"
      ]
     },
     "execution_count": 80,
     "metadata": {},
     "output_type": "execute_result"
    }
   ],
   "source": [
    "#Заменим все NaN везде, кроме localized_name и item_name, на 0\n",
    "merged[\"gold_death\"].fillna(0, inplace = True)\n",
    "merged[\"gold_death\"].describe()"
   ]
  },
  {
   "cell_type": "code",
   "execution_count": 81,
   "id": "8dae83b8-e3e8-4bd5-b692-0ff59cf1ef84",
   "metadata": {},
   "outputs": [
    {
     "data": {
      "text/plain": [
       "count    499990.000000\n",
       "mean       -336.993024\n",
       "std         665.173054\n",
       "min      -22602.000000\n",
       "25%        -405.000000\n",
       "50%           0.000000\n",
       "75%           0.000000\n",
       "max           0.000000\n",
       "Name: gold_buyback, dtype: float64"
      ]
     },
     "execution_count": 81,
     "metadata": {},
     "output_type": "execute_result"
    }
   ],
   "source": [
    "#Заменим все NaN везде, кроме localized_name и item_name, на 0\n",
    "merged[\"gold_buyback\"].fillna(0, inplace = True)\n",
    "merged[\"gold_buyback\"].describe()"
   ]
  },
  {
   "cell_type": "code",
   "execution_count": 82,
   "id": "cb7def9d-26be-46d4-854f-a0868f346e55",
   "metadata": {},
   "outputs": [
    {
     "data": {
      "text/plain": [
       "count    499990.000000\n",
       "mean         45.994806\n",
       "std         344.016979\n",
       "min           0.000000\n",
       "25%           0.000000\n",
       "50%           0.000000\n",
       "75%           0.000000\n",
       "max       18339.000000\n",
       "Name: gold_abandon, dtype: float64"
      ]
     },
     "execution_count": 82,
     "metadata": {},
     "output_type": "execute_result"
    }
   ],
   "source": [
    "#Заменим все NaN везде, кроме localized_name и item_name, на 0\n",
    "merged[\"gold_abandon\"].fillna(0, inplace = True)\n",
    "merged[\"gold_abandon\"].describe()"
   ]
  },
  {
   "cell_type": "code",
   "execution_count": 83,
   "id": "edc67f8b-bded-459b-a952-d9a5403b85a2",
   "metadata": {},
   "outputs": [
    {
     "data": {
      "text/plain": [
       "count    499990.000000\n",
       "mean        522.293948\n",
       "std         873.931940\n",
       "min           0.000000\n",
       "25%          31.000000\n",
       "50%         235.000000\n",
       "75%         645.000000\n",
       "max       85154.000000\n",
       "Name: gold_sell, dtype: float64"
      ]
     },
     "execution_count": 83,
     "metadata": {},
     "output_type": "execute_result"
    }
   ],
   "source": [
    "#Заменим все NaN везде, кроме localized_name и item_name, на 0\n",
    "merged[\"gold_sell\"].fillna(0, inplace = True)\n",
    "merged[\"gold_sell\"].describe()"
   ]
  },
  {
   "cell_type": "code",
   "execution_count": 84,
   "id": "b108bad5-9598-4a10-9115-839147381468",
   "metadata": {},
   "outputs": [
    {
     "data": {
      "text/plain": [
       "count    499990.000000\n",
       "mean       2349.502634\n",
       "std        1738.866597\n",
       "min           0.000000\n",
       "25%         580.000000\n",
       "50%        2447.000000\n",
       "75%        3960.000000\n",
       "max        7610.000000\n",
       "Name: gold_destroying_structure, dtype: float64"
      ]
     },
     "execution_count": 84,
     "metadata": {},
     "output_type": "execute_result"
    }
   ],
   "source": [
    "#Заменим все NaN везде, кроме localized_name и item_name, на 0\n",
    "merged[\"gold_destroying_structure\"].fillna(0, inplace = True)\n",
    "merged[\"gold_destroying_structure\"].describe()"
   ]
  },
  {
   "cell_type": "code",
   "execution_count": 85,
   "id": "1c562cc9-93d2-4c2f-8923-f094f6defffd",
   "metadata": {},
   "outputs": [
    {
     "data": {
      "text/plain": [
       "count    499990.000000\n",
       "mean       4931.425257\n",
       "std        2686.927508\n",
       "min           0.000000\n",
       "25%        3014.000000\n",
       "50%        4535.000000\n",
       "75%        6409.000000\n",
       "max       37658.000000\n",
       "Name: gold_killing_heros, dtype: float64"
      ]
     },
     "execution_count": 85,
     "metadata": {},
     "output_type": "execute_result"
    }
   ],
   "source": [
    "#Заменим все NaN везде, кроме localized_name и item_name, на 0\n",
    "merged[\"gold_killing_heros\"].fillna(0, inplace = True)\n",
    "merged[\"gold_killing_heros\"].describe()"
   ]
  },
  {
   "cell_type": "code",
   "execution_count": 86,
   "id": "5146091e-6555-479b-8a69-4bbb3074fb0e",
   "metadata": {},
   "outputs": [
    {
     "data": {
      "text/plain": [
       "count    499990.000000\n",
       "mean       5094.558611\n",
       "std        3931.555202\n",
       "min           0.000000\n",
       "25%        2097.000000\n",
       "50%        4167.000000\n",
       "75%        7067.000000\n",
       "max      112058.000000\n",
       "Name: gold_killing_creeps, dtype: float64"
      ]
     },
     "execution_count": 86,
     "metadata": {},
     "output_type": "execute_result"
    }
   ],
   "source": [
    "#Заменим все NaN везде, кроме localized_name и item_name, на 0\n",
    "merged[\"gold_killing_creeps\"].fillna(0, inplace = True)\n",
    "merged[\"gold_killing_creeps\"].describe()"
   ]
  },
  {
   "cell_type": "code",
   "execution_count": 87,
   "id": "493e2a36-ea6c-42de-ab35-2f1f6e77818d",
   "metadata": {},
   "outputs": [
    {
     "data": {
      "text/plain": [
       "count    499990.000000\n",
       "mean        195.456563\n",
       "std         255.222647\n",
       "min           0.000000\n",
       "25%           0.000000\n",
       "50%         200.000000\n",
       "75%         381.000000\n",
       "max        4227.000000\n",
       "Name: gold_killing_roshan, dtype: float64"
      ]
     },
     "execution_count": 87,
     "metadata": {},
     "output_type": "execute_result"
    }
   ],
   "source": [
    "#Заменим все NaN везде, кроме localized_name и item_name, на 0\n",
    "merged[\"gold_killing_roshan\"].fillna(0, inplace = True)\n",
    "merged[\"gold_killing_roshan\"].describe()"
   ]
  },
  {
   "cell_type": "code",
   "execution_count": 88,
   "id": "373161cd-049d-48af-badb-222187dbdcd3",
   "metadata": {},
   "outputs": [
    {
     "data": {
      "text/plain": [
       "count    499990.000000\n",
       "mean         38.174183\n",
       "std          85.498933\n",
       "min           0.000000\n",
       "25%           0.000000\n",
       "50%           0.000000\n",
       "75%           0.000000\n",
       "max        1725.000000\n",
       "Name: gold_killing_couriers, dtype: float64"
      ]
     },
     "execution_count": 88,
     "metadata": {},
     "output_type": "execute_result"
    }
   ],
   "source": [
    "#Заменим все NaN везде, кроме localized_name и item_name, на 0\n",
    "merged[\"gold_killing_couriers\"].fillna(0, inplace = True)\n",
    "merged[\"gold_killing_couriers\"].describe()"
   ]
  },
  {
   "cell_type": "code",
   "execution_count": 89,
   "id": "5f0bfc74-23da-4d69-a140-0bce333da295",
   "metadata": {},
   "outputs": [
    {
     "data": {
      "text/plain": [
       "count    499990.000000\n",
       "mean        399.625619\n",
       "std        1251.773305\n",
       "min        -100.000000\n",
       "25%          59.000000\n",
       "50%         166.000000\n",
       "75%         336.000000\n",
       "max       30986.000000\n",
       "Name: gold_other, dtype: float64"
      ]
     },
     "execution_count": 89,
     "metadata": {},
     "output_type": "execute_result"
    }
   ],
   "source": [
    "#Заменим все NaN везде, кроме localized_name и item_name, на 0\n",
    "merged[\"gold_other\"].fillna(0, inplace = True)\n",
    "merged[\"gold_other\"].describe()"
   ]
  },
  {
   "cell_type": "code",
   "execution_count": 90,
   "id": "0f865961-1418-4e9c-b920-cde1a74bc550",
   "metadata": {},
   "outputs": [
    {
     "data": {
      "text/plain": [
       "count    499990.000000\n",
       "mean       8724.289778\n",
       "std        4884.470036\n",
       "min           0.000000\n",
       "25%        4987.000000\n",
       "50%        8093.000000\n",
       "75%       11918.000000\n",
       "max       29055.000000\n",
       "Name: xp_hero, dtype: float64"
      ]
     },
     "execution_count": 90,
     "metadata": {},
     "output_type": "execute_result"
    }
   ],
   "source": [
    "#Заменим все NaN везде, кроме localized_name и item_name, на 0\n",
    "merged[\"xp_hero\"].fillna(0, inplace = True)\n",
    "merged[\"xp_hero\"].describe()"
   ]
  },
  {
   "cell_type": "code",
   "execution_count": 91,
   "id": "e7b460d4-0cd5-4a6d-a80b-15e3380e98aa",
   "metadata": {},
   "outputs": [
    {
     "data": {
      "text/plain": [
       "count    499990.000000\n",
       "mean       9460.144437\n",
       "std        4430.175844\n",
       "min           0.000000\n",
       "25%        6120.000000\n",
       "50%        8646.000000\n",
       "75%       12070.000000\n",
       "max       31642.000000\n",
       "Name: xp_creep, dtype: float64"
      ]
     },
     "execution_count": 91,
     "metadata": {},
     "output_type": "execute_result"
    }
   ],
   "source": [
    "#Заменим все NaN везде, кроме localized_name и item_name, на 0\n",
    "merged[\"xp_creep\"].fillna(0, inplace = True)\n",
    "merged[\"xp_creep\"].describe()"
   ]
  },
  {
   "cell_type": "code",
   "execution_count": 92,
   "id": "2740454f-fb62-49af-be34-716911f4f62b",
   "metadata": {},
   "outputs": [
    {
     "data": {
      "text/plain": [
       "count    499990.000000\n",
       "mean        260.960225\n",
       "std         476.289317\n",
       "min           0.000000\n",
       "25%           0.000000\n",
       "50%           0.000000\n",
       "75%         447.000000\n",
       "max        8050.000000\n",
       "Name: xp_roshan, dtype: float64"
      ]
     },
     "execution_count": 92,
     "metadata": {},
     "output_type": "execute_result"
    }
   ],
   "source": [
    "#Заменим все NaN везде, кроме localized_name и item_name, на 0\n",
    "merged[\"xp_roshan\"].fillna(0, inplace = True)\n",
    "merged[\"xp_roshan\"].describe()"
   ]
  },
  {
   "cell_type": "code",
   "execution_count": 93,
   "id": "92f56376-1049-4b08-bb1a-374c81dc6914",
   "metadata": {},
   "outputs": [
    {
     "data": {
      "text/plain": [
       "count    499990.000000\n",
       "mean        429.250169\n",
       "std        1111.471289\n",
       "min           0.000000\n",
       "25%         112.000000\n",
       "50%         280.000000\n",
       "75%         533.000000\n",
       "max       25557.000000\n",
       "Name: xp_other, dtype: float64"
      ]
     },
     "execution_count": 93,
     "metadata": {},
     "output_type": "execute_result"
    }
   ],
   "source": [
    "#Заменим все NaN везде, кроме localized_name и item_name, на 0\n",
    "merged[\"xp_other\"].fillna(0, inplace = True)\n",
    "merged[\"xp_other\"].describe()"
   ]
  },
  {
   "cell_type": "code",
   "execution_count": 95,
   "id": "ae8c29ee-7107-47c0-a842-62f34577dab0",
   "metadata": {},
   "outputs": [
    {
     "data": {
      "text/html": [
       "<div>\n",
       "<style scoped>\n",
       "    .dataframe tbody tr th:only-of-type {\n",
       "        vertical-align: middle;\n",
       "    }\n",
       "\n",
       "    .dataframe tbody tr th {\n",
       "        vertical-align: top;\n",
       "    }\n",
       "\n",
       "    .dataframe thead th {\n",
       "        text-align: right;\n",
       "    }\n",
       "</style>\n",
       "<table border=\"1\" class=\"dataframe\">\n",
       "  <thead>\n",
       "    <tr style=\"text-align: right;\">\n",
       "      <th></th>\n",
       "      <th>match_id</th>\n",
       "      <th>player_slot</th>\n",
       "      <th>localized_name</th>\n",
       "      <th>kills</th>\n",
       "      <th>deaths</th>\n",
       "      <th>assists</th>\n",
       "      <th>item_name_1</th>\n",
       "      <th>item_name_2</th>\n",
       "      <th>item_name_3</th>\n",
       "      <th>item_name_4</th>\n",
       "      <th>...</th>\n",
       "      <th>gold_killing_creeps</th>\n",
       "      <th>gold_killing_roshan</th>\n",
       "      <th>gold_killing_couriers</th>\n",
       "      <th>gold_other</th>\n",
       "      <th>xp_per_min</th>\n",
       "      <th>xp_hero</th>\n",
       "      <th>xp_creep</th>\n",
       "      <th>xp_roshan</th>\n",
       "      <th>xp_other</th>\n",
       "      <th>leaver_status</th>\n",
       "    </tr>\n",
       "  </thead>\n",
       "  <tbody>\n",
       "    <tr>\n",
       "      <th>0</th>\n",
       "      <td>0</td>\n",
       "      <td>0</td>\n",
       "      <td>Rubick</td>\n",
       "      <td>9</td>\n",
       "      <td>3</td>\n",
       "      <td>18</td>\n",
       "      <td>arcane_boots</td>\n",
       "      <td>ghost</td>\n",
       "      <td>bracer</td>\n",
       "      <td>ring_of_health</td>\n",
       "      <td>...</td>\n",
       "      <td>1087.0</td>\n",
       "      <td>400.0</td>\n",
       "      <td>0.0</td>\n",
       "      <td>50.0</td>\n",
       "      <td>362</td>\n",
       "      <td>8840.0</td>\n",
       "      <td>5440.0</td>\n",
       "      <td>0.0</td>\n",
       "      <td>83.0</td>\n",
       "      <td>0</td>\n",
       "    </tr>\n",
       "    <tr>\n",
       "      <th>1</th>\n",
       "      <td>0</td>\n",
       "      <td>1</td>\n",
       "      <td>Clockwerk</td>\n",
       "      <td>13</td>\n",
       "      <td>3</td>\n",
       "      <td>18</td>\n",
       "      <td>tpscroll</td>\n",
       "      <td>power_treads</td>\n",
       "      <td>shivas_guard</td>\n",
       "      <td>force_staff</td>\n",
       "      <td>...</td>\n",
       "      <td>4317.0</td>\n",
       "      <td>937.0</td>\n",
       "      <td>0.0</td>\n",
       "      <td>395.0</td>\n",
       "      <td>659</td>\n",
       "      <td>14331.0</td>\n",
       "      <td>8440.0</td>\n",
       "      <td>2683.0</td>\n",
       "      <td>671.0</td>\n",
       "      <td>0</td>\n",
       "    </tr>\n",
       "    <tr>\n",
       "      <th>2</th>\n",
       "      <td>0</td>\n",
       "      <td>2</td>\n",
       "      <td>Treant Protector</td>\n",
       "      <td>0</td>\n",
       "      <td>4</td>\n",
       "      <td>15</td>\n",
       "      <td>travel_boots</td>\n",
       "      <td>point_booster</td>\n",
       "      <td>energy_booster</td>\n",
       "      <td>ultimate_scepter</td>\n",
       "      <td>...</td>\n",
       "      <td>3697.0</td>\n",
       "      <td>400.0</td>\n",
       "      <td>0.0</td>\n",
       "      <td>259.0</td>\n",
       "      <td>385</td>\n",
       "      <td>6692.0</td>\n",
       "      <td>8112.0</td>\n",
       "      <td>0.0</td>\n",
       "      <td>453.0</td>\n",
       "      <td>0</td>\n",
       "    </tr>\n",
       "    <tr>\n",
       "      <th>3</th>\n",
       "      <td>0</td>\n",
       "      <td>3</td>\n",
       "      <td>Shadow Fiend</td>\n",
       "      <td>8</td>\n",
       "      <td>4</td>\n",
       "      <td>19</td>\n",
       "      <td>power_treads</td>\n",
       "      <td>manta</td>\n",
       "      <td>sange_and_yasha</td>\n",
       "      <td>helm_of_the_dominator</td>\n",
       "      <td>...</td>\n",
       "      <td>10432.0</td>\n",
       "      <td>400.0</td>\n",
       "      <td>0.0</td>\n",
       "      <td>100.0</td>\n",
       "      <td>605</td>\n",
       "      <td>8583.0</td>\n",
       "      <td>14230.0</td>\n",
       "      <td>894.0</td>\n",
       "      <td>293.0</td>\n",
       "      <td>0</td>\n",
       "    </tr>\n",
       "    <tr>\n",
       "      <th>4</th>\n",
       "      <td>0</td>\n",
       "      <td>4</td>\n",
       "      <td>Spectre</td>\n",
       "      <td>20</td>\n",
       "      <td>3</td>\n",
       "      <td>17</td>\n",
       "      <td>heart</td>\n",
       "      <td>urn_of_shadows</td>\n",
       "      <td>manta</td>\n",
       "      <td>NaN</td>\n",
       "      <td>...</td>\n",
       "      <td>9220.0</td>\n",
       "      <td>400.0</td>\n",
       "      <td>0.0</td>\n",
       "      <td>0.0</td>\n",
       "      <td>762</td>\n",
       "      <td>15814.0</td>\n",
       "      <td>14325.0</td>\n",
       "      <td>0.0</td>\n",
       "      <td>62.0</td>\n",
       "      <td>0</td>\n",
       "    </tr>\n",
       "    <tr>\n",
       "      <th>...</th>\n",
       "      <td>...</td>\n",
       "      <td>...</td>\n",
       "      <td>...</td>\n",
       "      <td>...</td>\n",
       "      <td>...</td>\n",
       "      <td>...</td>\n",
       "      <td>...</td>\n",
       "      <td>...</td>\n",
       "      <td>...</td>\n",
       "      <td>...</td>\n",
       "      <td>...</td>\n",
       "      <td>...</td>\n",
       "      <td>...</td>\n",
       "      <td>...</td>\n",
       "      <td>...</td>\n",
       "      <td>...</td>\n",
       "      <td>...</td>\n",
       "      <td>...</td>\n",
       "      <td>...</td>\n",
       "      <td>...</td>\n",
       "      <td>...</td>\n",
       "    </tr>\n",
       "    <tr>\n",
       "      <th>499995</th>\n",
       "      <td>49999</td>\n",
       "      <td>128</td>\n",
       "      <td>Tusk</td>\n",
       "      <td>16</td>\n",
       "      <td>9</td>\n",
       "      <td>16</td>\n",
       "      <td>silver_edge</td>\n",
       "      <td>bottle</td>\n",
       "      <td>NaN</td>\n",
       "      <td>phase_boots</td>\n",
       "      <td>...</td>\n",
       "      <td>2940.0</td>\n",
       "      <td>400.0</td>\n",
       "      <td>0.0</td>\n",
       "      <td>528.0</td>\n",
       "      <td>626</td>\n",
       "      <td>21496.0</td>\n",
       "      <td>6025.0</td>\n",
       "      <td>596.0</td>\n",
       "      <td>1007.0</td>\n",
       "      <td>0</td>\n",
       "    </tr>\n",
       "    <tr>\n",
       "      <th>499996</th>\n",
       "      <td>49999</td>\n",
       "      <td>129</td>\n",
       "      <td>Mirana</td>\n",
       "      <td>12</td>\n",
       "      <td>6</td>\n",
       "      <td>11</td>\n",
       "      <td>monkey_king_bar</td>\n",
       "      <td>power_treads</td>\n",
       "      <td>maelstrom</td>\n",
       "      <td>gem</td>\n",
       "      <td>...</td>\n",
       "      <td>4346.0</td>\n",
       "      <td>857.0</td>\n",
       "      <td>175.0</td>\n",
       "      <td>329.0</td>\n",
       "      <td>607</td>\n",
       "      <td>16360.0</td>\n",
       "      <td>9653.0</td>\n",
       "      <td>1490.0</td>\n",
       "      <td>740.0</td>\n",
       "      <td>0</td>\n",
       "    </tr>\n",
       "    <tr>\n",
       "      <th>499997</th>\n",
       "      <td>49999</td>\n",
       "      <td>130</td>\n",
       "      <td>Keeper of the Light</td>\n",
       "      <td>5</td>\n",
       "      <td>3</td>\n",
       "      <td>11</td>\n",
       "      <td>mekansm</td>\n",
       "      <td>travel_boots</td>\n",
       "      <td>invis_sword</td>\n",
       "      <td>ultimate_scepter</td>\n",
       "      <td>...</td>\n",
       "      <td>3833.0</td>\n",
       "      <td>400.0</td>\n",
       "      <td>175.0</td>\n",
       "      <td>303.0</td>\n",
       "      <td>404</td>\n",
       "      <td>8205.0</td>\n",
       "      <td>10012.0</td>\n",
       "      <td>0.0</td>\n",
       "      <td>600.0</td>\n",
       "      <td>0</td>\n",
       "    </tr>\n",
       "    <tr>\n",
       "      <th>499998</th>\n",
       "      <td>49999</td>\n",
       "      <td>131</td>\n",
       "      <td>Alchemist</td>\n",
       "      <td>8</td>\n",
       "      <td>6</td>\n",
       "      <td>17</td>\n",
       "      <td>silver_edge</td>\n",
       "      <td>sange_and_yasha</td>\n",
       "      <td>assault</td>\n",
       "      <td>travel_boots</td>\n",
       "      <td>...</td>\n",
       "      <td>12927.0</td>\n",
       "      <td>400.0</td>\n",
       "      <td>175.0</td>\n",
       "      <td>8302.0</td>\n",
       "      <td>703</td>\n",
       "      <td>11773.0</td>\n",
       "      <td>20005.0</td>\n",
       "      <td>596.0</td>\n",
       "      <td>327.0</td>\n",
       "      <td>0</td>\n",
       "    </tr>\n",
       "    <tr>\n",
       "      <th>499999</th>\n",
       "      <td>49999</td>\n",
       "      <td>132</td>\n",
       "      <td>Nature's Prophet</td>\n",
       "      <td>6</td>\n",
       "      <td>6</td>\n",
       "      <td>17</td>\n",
       "      <td>blink</td>\n",
       "      <td>mjollnir</td>\n",
       "      <td>travel_boots</td>\n",
       "      <td>demon_edge</td>\n",
       "      <td>...</td>\n",
       "      <td>10888.0</td>\n",
       "      <td>400.0</td>\n",
       "      <td>175.0</td>\n",
       "      <td>0.0</td>\n",
       "      <td>533</td>\n",
       "      <td>8210.0</td>\n",
       "      <td>15571.0</td>\n",
       "      <td>894.0</td>\n",
       "      <td>103.0</td>\n",
       "      <td>0</td>\n",
       "    </tr>\n",
       "  </tbody>\n",
       "</table>\n",
       "<p>499990 rows × 37 columns</p>\n",
       "</div>"
      ],
      "text/plain": [
       "        match_id  player_slot       localized_name  kills  deaths  assists  \\\n",
       "0              0            0               Rubick      9       3       18   \n",
       "1              0            1            Clockwerk     13       3       18   \n",
       "2              0            2     Treant Protector      0       4       15   \n",
       "3              0            3         Shadow Fiend      8       4       19   \n",
       "4              0            4              Spectre     20       3       17   \n",
       "...          ...          ...                  ...    ...     ...      ...   \n",
       "499995     49999          128                 Tusk     16       9       16   \n",
       "499996     49999          129               Mirana     12       6       11   \n",
       "499997     49999          130  Keeper of the Light      5       3       11   \n",
       "499998     49999          131            Alchemist      8       6       17   \n",
       "499999     49999          132     Nature's Prophet      6       6       17   \n",
       "\n",
       "            item_name_1      item_name_2      item_name_3  \\\n",
       "0          arcane_boots            ghost           bracer   \n",
       "1              tpscroll     power_treads     shivas_guard   \n",
       "2          travel_boots    point_booster   energy_booster   \n",
       "3          power_treads            manta  sange_and_yasha   \n",
       "4                 heart   urn_of_shadows            manta   \n",
       "...                 ...              ...              ...   \n",
       "499995      silver_edge           bottle              NaN   \n",
       "499996  monkey_king_bar     power_treads        maelstrom   \n",
       "499997          mekansm     travel_boots      invis_sword   \n",
       "499998      silver_edge  sange_and_yasha          assault   \n",
       "499999            blink         mjollnir     travel_boots   \n",
       "\n",
       "                  item_name_4  ... gold_killing_creeps gold_killing_roshan  \\\n",
       "0              ring_of_health  ...              1087.0               400.0   \n",
       "1                 force_staff  ...              4317.0               937.0   \n",
       "2            ultimate_scepter  ...              3697.0               400.0   \n",
       "3       helm_of_the_dominator  ...             10432.0               400.0   \n",
       "4                         NaN  ...              9220.0               400.0   \n",
       "...                       ...  ...                 ...                 ...   \n",
       "499995            phase_boots  ...              2940.0               400.0   \n",
       "499996                    gem  ...              4346.0               857.0   \n",
       "499997       ultimate_scepter  ...              3833.0               400.0   \n",
       "499998           travel_boots  ...             12927.0               400.0   \n",
       "499999             demon_edge  ...             10888.0               400.0   \n",
       "\n",
       "        gold_killing_couriers  gold_other  xp_per_min  xp_hero  xp_creep  \\\n",
       "0                         0.0        50.0         362   8840.0    5440.0   \n",
       "1                         0.0       395.0         659  14331.0    8440.0   \n",
       "2                         0.0       259.0         385   6692.0    8112.0   \n",
       "3                         0.0       100.0         605   8583.0   14230.0   \n",
       "4                         0.0         0.0         762  15814.0   14325.0   \n",
       "...                       ...         ...         ...      ...       ...   \n",
       "499995                    0.0       528.0         626  21496.0    6025.0   \n",
       "499996                  175.0       329.0         607  16360.0    9653.0   \n",
       "499997                  175.0       303.0         404   8205.0   10012.0   \n",
       "499998                  175.0      8302.0         703  11773.0   20005.0   \n",
       "499999                  175.0         0.0         533   8210.0   15571.0   \n",
       "\n",
       "        xp_roshan  xp_other  leaver_status  \n",
       "0             0.0      83.0              0  \n",
       "1          2683.0     671.0              0  \n",
       "2             0.0     453.0              0  \n",
       "3           894.0     293.0              0  \n",
       "4             0.0      62.0              0  \n",
       "...           ...       ...            ...  \n",
       "499995      596.0    1007.0              0  \n",
       "499996     1490.0     740.0              0  \n",
       "499997        0.0     600.0              0  \n",
       "499998      596.0     327.0              0  \n",
       "499999      894.0     103.0              0  \n",
       "\n",
       "[499990 rows x 37 columns]"
      ]
     },
     "execution_count": 95,
     "metadata": {},
     "output_type": "execute_result"
    }
   ],
   "source": [
    "#Данные без пропусков и выбросов\n",
    "merged[attrib]"
   ]
  },
  {
   "cell_type": "code",
   "execution_count": null,
   "id": "3986eea6-7577-4680-a489-857e36f92ce5",
   "metadata": {},
   "outputs": [],
   "source": []
  }
 ],
 "metadata": {
  "kernelspec": {
   "display_name": "Python 3 (ipykernel)",
   "language": "python",
   "name": "python3"
  },
  "language_info": {
   "codemirror_mode": {
    "name": "ipython",
    "version": 3
   },
   "file_extension": ".py",
   "mimetype": "text/x-python",
   "name": "python",
   "nbconvert_exporter": "python",
   "pygments_lexer": "ipython3",
   "version": "3.8.3"
  }
 },
 "nbformat": 4,
 "nbformat_minor": 5
}
