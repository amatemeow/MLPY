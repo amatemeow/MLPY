{
 "cells": [
  {
   "cell_type": "markdown",
   "id": "caf7b09a-c992-43b0-9091-83e36fb4382d",
   "metadata": {
    "tags": []
   },
   "source": [
    "<h1><a href=\"www.kaggle.com/devinanzelmo/dota-2-matches\">DotA2 Matches dataset</a></h1>"
   ]
  },
  {
   "cell_type": "markdown",
   "id": "6d815879-64a6-4080-aa57-bd0a339a6a53",
   "metadata": {
    "tags": []
   },
   "source": [
    "<h2>Описание</h2>\n",
    "<p>Набор содержит 50000 тысяч матчей ранговых игр. Этот датасет предназначет для оценки поведения игроков, их уровня игры, продолжительности игр, сражений и т.д.</p>\n",
    "<p>Данные из этого датасета могут использоваться для анализа актуальности выбора определенных героев и предметов, общей модели поведения игроков и девиаций из нее и многого другого. Эти данные полезны, например, при разработке новых обновлений для игры, усовершенствования систем матчмейкинга или наказаний за несоответствующее поведение игроков и прочее.</p>\n",
    "\n",
    "<div style=\"padding-left: 2em;\">\n",
    "    <h3>Уточнение для данного задания</h3>\n",
    "    <p>Для анализа в этом задании выбрана часть датасета с данными по игрокам и героям, на которых они играли конкретный матч. Так как атрибутов получается достаточно много, здесь мы опишем лишь некоторые из них в качестве примера.</p>\n",
    "</div>"
   ]
  },
  {
   "cell_type": "code",
   "execution_count": 1,
   "id": "76705cee-ee96-48ef-97ea-32196ddb869f",
   "metadata": {},
   "outputs": [],
   "source": [
    "import numpy as np\n",
    "import pandas as pd"
   ]
  },
  {
   "cell_type": "markdown",
   "id": "d07bfea8-0a89-459e-b3e0-9e36bcd20fb0",
   "metadata": {
    "tags": []
   },
   "source": [
    "<div style=\"border: #000000 1px solid; border-radius: 5px; padding: 1em;\">\n",
    "    <h2>Описание выбранных для анализа атрибутов</h2>\n",
    "    <ul>\n",
    "        <li>\n",
    "            <h4>match_id - Номер матча</h4>\n",
    "            <table border=\"1\" >\n",
    "                <tr>\n",
    "                    <th>Шкала</th>\n",
    "                    <th>Диапазон/Набор значений</th>\n",
    "                    <th>Среднее значение/мода</th>\n",
    "                </tr>\n",
    "                <tr>\n",
    "                    <td>Интервальная</td>\n",
    "                    <td>[0; 499999]</td>\n",
    "                    <td>17350</td>\n",
    "                </tr>\n",
    "            </table>\n",
    "        </li>\n",
    "        <li>\n",
    "            <h4>player_slot - Номер места игрока в матче. От 0 до 4 - команда Radiant, от 128 до 132 - команда Dire</h4>\n",
    "            <table border=\"1\" >\n",
    "                <tr>\n",
    "                    <th>Шкала</th>\n",
    "                    <th>Диапазон/Набор значений</th>\n",
    "                    <th>Среднее значение/мода</th>\n",
    "                </tr>\n",
    "                <tr>\n",
    "                    <td>Номинальная</td>\n",
    "                    <td>[0; 4]∪[128; 132]</td>\n",
    "                    <td>129</td>\n",
    "                </tr>\n",
    "            </table>\n",
    "        </li>\n",
    "        <li>\n",
    "            <h4>localized_name - Имя персонажа, которого выбрал игрок</h4>\n",
    "            <table border=\"1\" >\n",
    "                <tr>\n",
    "                    <th>Шкала</th>\n",
    "                    <th>Диапазон/Набор значений</th>\n",
    "                    <th>Среднее значение/мода</th>\n",
    "                </tr>\n",
    "                <tr>\n",
    "                    <td>Номинальная</td>\n",
    "                    <td>112 текстовых имен героев, если герой не выбран, то стоит 0</td>\n",
    "                    <td>Windranger</td>\n",
    "                </tr>\n",
    "            </table>\n",
    "        </li>\n",
    "        <li>\n",
    "            <h4>kills - Количество убийств игрока</h4>\n",
    "            <table border=\"1\" >\n",
    "                <tr>\n",
    "                    <th>Шкала</th>\n",
    "                    <th>Диапазон/Набор значений</th>\n",
    "                    <th>Среднее значение/мода</th>\n",
    "                </tr>\n",
    "                <tr>\n",
    "                    <td>Абсолютная</td>\n",
    "                    <td>[0; 50]</td>\n",
    "                    <td>5</td>\n",
    "                </tr>\n",
    "            </table>\n",
    "        </li>\n",
    "        <li>\n",
    "            <h4>deaths - Количество смертей игрока</h4>\n",
    "            <table border=\"1\" >\n",
    "                <tr>\n",
    "                    <th>Шкала</th>\n",
    "                    <th>Диапазон/Набор значений</th>\n",
    "                    <th>Среднее значение/мода</th>\n",
    "                </tr>\n",
    "                <tr>\n",
    "                    <td>Абсолютная</td>\n",
    "                    <td>[0; 36]</td>\n",
    "                    <td>5</td>\n",
    "                </tr>\n",
    "            </table>\n",
    "        </li>\n",
    "    </ul>\n",
    "</div>"
   ]
  },
  {
   "cell_type": "code",
   "execution_count": 2,
   "id": "51267e23-2068-4271-b9b0-c502735919a5",
   "metadata": {},
   "outputs": [
    {
     "data": {
      "text/html": [
       "<div>\n",
       "<style scoped>\n",
       "    .dataframe tbody tr th:only-of-type {\n",
       "        vertical-align: middle;\n",
       "    }\n",
       "\n",
       "    .dataframe tbody tr th {\n",
       "        vertical-align: top;\n",
       "    }\n",
       "\n",
       "    .dataframe thead th {\n",
       "        text-align: right;\n",
       "    }\n",
       "</style>\n",
       "<table border=\"1\" class=\"dataframe\">\n",
       "  <thead>\n",
       "    <tr style=\"text-align: right;\">\n",
       "      <th></th>\n",
       "      <th>match_id</th>\n",
       "      <th>player_slot</th>\n",
       "      <th>localized_name</th>\n",
       "      <th>kills</th>\n",
       "      <th>deaths</th>\n",
       "      <th>assists</th>\n",
       "      <th>item_name_1</th>\n",
       "      <th>item_name_2</th>\n",
       "      <th>item_name_3</th>\n",
       "      <th>item_name_4</th>\n",
       "      <th>...</th>\n",
       "      <th>gold_killing_creeps</th>\n",
       "      <th>gold_killing_roshan</th>\n",
       "      <th>gold_killing_couriers</th>\n",
       "      <th>gold_other</th>\n",
       "      <th>xp_per_min</th>\n",
       "      <th>xp_hero</th>\n",
       "      <th>xp_creep</th>\n",
       "      <th>xp_roshan</th>\n",
       "      <th>xp_other</th>\n",
       "      <th>leaver_status</th>\n",
       "    </tr>\n",
       "  </thead>\n",
       "  <tbody>\n",
       "    <tr>\n",
       "      <th>0</th>\n",
       "      <td>0</td>\n",
       "      <td>0</td>\n",
       "      <td>Rubick</td>\n",
       "      <td>9</td>\n",
       "      <td>3</td>\n",
       "      <td>18</td>\n",
       "      <td>arcane_boots</td>\n",
       "      <td>ghost</td>\n",
       "      <td>bracer</td>\n",
       "      <td>ring_of_health</td>\n",
       "      <td>...</td>\n",
       "      <td>1087.0</td>\n",
       "      <td>400.0</td>\n",
       "      <td>NaN</td>\n",
       "      <td>50.0</td>\n",
       "      <td>362</td>\n",
       "      <td>8840.0</td>\n",
       "      <td>5440.0</td>\n",
       "      <td>NaN</td>\n",
       "      <td>83.0</td>\n",
       "      <td>0</td>\n",
       "    </tr>\n",
       "    <tr>\n",
       "      <th>1</th>\n",
       "      <td>0</td>\n",
       "      <td>1</td>\n",
       "      <td>Clockwerk</td>\n",
       "      <td>13</td>\n",
       "      <td>3</td>\n",
       "      <td>18</td>\n",
       "      <td>tpscroll</td>\n",
       "      <td>power_treads</td>\n",
       "      <td>shivas_guard</td>\n",
       "      <td>force_staff</td>\n",
       "      <td>...</td>\n",
       "      <td>4317.0</td>\n",
       "      <td>937.0</td>\n",
       "      <td>NaN</td>\n",
       "      <td>395.0</td>\n",
       "      <td>659</td>\n",
       "      <td>14331.0</td>\n",
       "      <td>8440.0</td>\n",
       "      <td>2683.0</td>\n",
       "      <td>671.0</td>\n",
       "      <td>0</td>\n",
       "    </tr>\n",
       "    <tr>\n",
       "      <th>2</th>\n",
       "      <td>0</td>\n",
       "      <td>2</td>\n",
       "      <td>Treant Protector</td>\n",
       "      <td>0</td>\n",
       "      <td>4</td>\n",
       "      <td>15</td>\n",
       "      <td>travel_boots</td>\n",
       "      <td>point_booster</td>\n",
       "      <td>energy_booster</td>\n",
       "      <td>ultimate_scepter</td>\n",
       "      <td>...</td>\n",
       "      <td>3697.0</td>\n",
       "      <td>400.0</td>\n",
       "      <td>NaN</td>\n",
       "      <td>259.0</td>\n",
       "      <td>385</td>\n",
       "      <td>6692.0</td>\n",
       "      <td>8112.0</td>\n",
       "      <td>NaN</td>\n",
       "      <td>453.0</td>\n",
       "      <td>0</td>\n",
       "    </tr>\n",
       "    <tr>\n",
       "      <th>3</th>\n",
       "      <td>0</td>\n",
       "      <td>3</td>\n",
       "      <td>Shadow Fiend</td>\n",
       "      <td>8</td>\n",
       "      <td>4</td>\n",
       "      <td>19</td>\n",
       "      <td>power_treads</td>\n",
       "      <td>manta</td>\n",
       "      <td>sange_and_yasha</td>\n",
       "      <td>helm_of_the_dominator</td>\n",
       "      <td>...</td>\n",
       "      <td>10432.0</td>\n",
       "      <td>400.0</td>\n",
       "      <td>NaN</td>\n",
       "      <td>100.0</td>\n",
       "      <td>605</td>\n",
       "      <td>8583.0</td>\n",
       "      <td>14230.0</td>\n",
       "      <td>894.0</td>\n",
       "      <td>293.0</td>\n",
       "      <td>0</td>\n",
       "    </tr>\n",
       "    <tr>\n",
       "      <th>4</th>\n",
       "      <td>0</td>\n",
       "      <td>4</td>\n",
       "      <td>Spectre</td>\n",
       "      <td>20</td>\n",
       "      <td>3</td>\n",
       "      <td>17</td>\n",
       "      <td>heart</td>\n",
       "      <td>urn_of_shadows</td>\n",
       "      <td>manta</td>\n",
       "      <td>NaN</td>\n",
       "      <td>...</td>\n",
       "      <td>9220.0</td>\n",
       "      <td>400.0</td>\n",
       "      <td>NaN</td>\n",
       "      <td>NaN</td>\n",
       "      <td>762</td>\n",
       "      <td>15814.0</td>\n",
       "      <td>14325.0</td>\n",
       "      <td>NaN</td>\n",
       "      <td>62.0</td>\n",
       "      <td>0</td>\n",
       "    </tr>\n",
       "    <tr>\n",
       "      <th>...</th>\n",
       "      <td>...</td>\n",
       "      <td>...</td>\n",
       "      <td>...</td>\n",
       "      <td>...</td>\n",
       "      <td>...</td>\n",
       "      <td>...</td>\n",
       "      <td>...</td>\n",
       "      <td>...</td>\n",
       "      <td>...</td>\n",
       "      <td>...</td>\n",
       "      <td>...</td>\n",
       "      <td>...</td>\n",
       "      <td>...</td>\n",
       "      <td>...</td>\n",
       "      <td>...</td>\n",
       "      <td>...</td>\n",
       "      <td>...</td>\n",
       "      <td>...</td>\n",
       "      <td>...</td>\n",
       "      <td>...</td>\n",
       "      <td>...</td>\n",
       "    </tr>\n",
       "    <tr>\n",
       "      <th>499995</th>\n",
       "      <td>49999</td>\n",
       "      <td>128</td>\n",
       "      <td>Tusk</td>\n",
       "      <td>16</td>\n",
       "      <td>9</td>\n",
       "      <td>16</td>\n",
       "      <td>silver_edge</td>\n",
       "      <td>bottle</td>\n",
       "      <td>NaN</td>\n",
       "      <td>phase_boots</td>\n",
       "      <td>...</td>\n",
       "      <td>2940.0</td>\n",
       "      <td>400.0</td>\n",
       "      <td>NaN</td>\n",
       "      <td>528.0</td>\n",
       "      <td>626</td>\n",
       "      <td>21496.0</td>\n",
       "      <td>6025.0</td>\n",
       "      <td>596.0</td>\n",
       "      <td>1007.0</td>\n",
       "      <td>0</td>\n",
       "    </tr>\n",
       "    <tr>\n",
       "      <th>499996</th>\n",
       "      <td>49999</td>\n",
       "      <td>129</td>\n",
       "      <td>Mirana</td>\n",
       "      <td>12</td>\n",
       "      <td>6</td>\n",
       "      <td>11</td>\n",
       "      <td>monkey_king_bar</td>\n",
       "      <td>power_treads</td>\n",
       "      <td>maelstrom</td>\n",
       "      <td>gem</td>\n",
       "      <td>...</td>\n",
       "      <td>4346.0</td>\n",
       "      <td>857.0</td>\n",
       "      <td>175.0</td>\n",
       "      <td>329.0</td>\n",
       "      <td>607</td>\n",
       "      <td>16360.0</td>\n",
       "      <td>9653.0</td>\n",
       "      <td>1490.0</td>\n",
       "      <td>740.0</td>\n",
       "      <td>0</td>\n",
       "    </tr>\n",
       "    <tr>\n",
       "      <th>499997</th>\n",
       "      <td>49999</td>\n",
       "      <td>130</td>\n",
       "      <td>Keeper of the Light</td>\n",
       "      <td>5</td>\n",
       "      <td>3</td>\n",
       "      <td>11</td>\n",
       "      <td>mekansm</td>\n",
       "      <td>travel_boots</td>\n",
       "      <td>invis_sword</td>\n",
       "      <td>ultimate_scepter</td>\n",
       "      <td>...</td>\n",
       "      <td>3833.0</td>\n",
       "      <td>400.0</td>\n",
       "      <td>175.0</td>\n",
       "      <td>303.0</td>\n",
       "      <td>404</td>\n",
       "      <td>8205.0</td>\n",
       "      <td>10012.0</td>\n",
       "      <td>NaN</td>\n",
       "      <td>600.0</td>\n",
       "      <td>0</td>\n",
       "    </tr>\n",
       "    <tr>\n",
       "      <th>499998</th>\n",
       "      <td>49999</td>\n",
       "      <td>131</td>\n",
       "      <td>Alchemist</td>\n",
       "      <td>8</td>\n",
       "      <td>6</td>\n",
       "      <td>17</td>\n",
       "      <td>silver_edge</td>\n",
       "      <td>sange_and_yasha</td>\n",
       "      <td>assault</td>\n",
       "      <td>travel_boots</td>\n",
       "      <td>...</td>\n",
       "      <td>12927.0</td>\n",
       "      <td>400.0</td>\n",
       "      <td>175.0</td>\n",
       "      <td>8302.0</td>\n",
       "      <td>703</td>\n",
       "      <td>11773.0</td>\n",
       "      <td>20005.0</td>\n",
       "      <td>596.0</td>\n",
       "      <td>327.0</td>\n",
       "      <td>0</td>\n",
       "    </tr>\n",
       "    <tr>\n",
       "      <th>499999</th>\n",
       "      <td>49999</td>\n",
       "      <td>132</td>\n",
       "      <td>Nature's Prophet</td>\n",
       "      <td>6</td>\n",
       "      <td>6</td>\n",
       "      <td>17</td>\n",
       "      <td>blink</td>\n",
       "      <td>mjollnir</td>\n",
       "      <td>travel_boots</td>\n",
       "      <td>demon_edge</td>\n",
       "      <td>...</td>\n",
       "      <td>10888.0</td>\n",
       "      <td>400.0</td>\n",
       "      <td>175.0</td>\n",
       "      <td>NaN</td>\n",
       "      <td>533</td>\n",
       "      <td>8210.0</td>\n",
       "      <td>15571.0</td>\n",
       "      <td>894.0</td>\n",
       "      <td>103.0</td>\n",
       "      <td>0</td>\n",
       "    </tr>\n",
       "  </tbody>\n",
       "</table>\n",
       "<p>500000 rows × 37 columns</p>\n",
       "</div>"
      ],
      "text/plain": [
       "        match_id  player_slot       localized_name  kills  deaths  assists  \\\n",
       "0              0            0               Rubick      9       3       18   \n",
       "1              0            1            Clockwerk     13       3       18   \n",
       "2              0            2     Treant Protector      0       4       15   \n",
       "3              0            3         Shadow Fiend      8       4       19   \n",
       "4              0            4              Spectre     20       3       17   \n",
       "...          ...          ...                  ...    ...     ...      ...   \n",
       "499995     49999          128                 Tusk     16       9       16   \n",
       "499996     49999          129               Mirana     12       6       11   \n",
       "499997     49999          130  Keeper of the Light      5       3       11   \n",
       "499998     49999          131            Alchemist      8       6       17   \n",
       "499999     49999          132     Nature's Prophet      6       6       17   \n",
       "\n",
       "            item_name_1      item_name_2      item_name_3  \\\n",
       "0          arcane_boots            ghost           bracer   \n",
       "1              tpscroll     power_treads     shivas_guard   \n",
       "2          travel_boots    point_booster   energy_booster   \n",
       "3          power_treads            manta  sange_and_yasha   \n",
       "4                 heart   urn_of_shadows            manta   \n",
       "...                 ...              ...              ...   \n",
       "499995      silver_edge           bottle              NaN   \n",
       "499996  monkey_king_bar     power_treads        maelstrom   \n",
       "499997          mekansm     travel_boots      invis_sword   \n",
       "499998      silver_edge  sange_and_yasha          assault   \n",
       "499999            blink         mjollnir     travel_boots   \n",
       "\n",
       "                  item_name_4  ... gold_killing_creeps gold_killing_roshan  \\\n",
       "0              ring_of_health  ...              1087.0               400.0   \n",
       "1                 force_staff  ...              4317.0               937.0   \n",
       "2            ultimate_scepter  ...              3697.0               400.0   \n",
       "3       helm_of_the_dominator  ...             10432.0               400.0   \n",
       "4                         NaN  ...              9220.0               400.0   \n",
       "...                       ...  ...                 ...                 ...   \n",
       "499995            phase_boots  ...              2940.0               400.0   \n",
       "499996                    gem  ...              4346.0               857.0   \n",
       "499997       ultimate_scepter  ...              3833.0               400.0   \n",
       "499998           travel_boots  ...             12927.0               400.0   \n",
       "499999             demon_edge  ...             10888.0               400.0   \n",
       "\n",
       "        gold_killing_couriers  gold_other  xp_per_min  xp_hero  xp_creep  \\\n",
       "0                         NaN        50.0         362   8840.0    5440.0   \n",
       "1                         NaN       395.0         659  14331.0    8440.0   \n",
       "2                         NaN       259.0         385   6692.0    8112.0   \n",
       "3                         NaN       100.0         605   8583.0   14230.0   \n",
       "4                         NaN         NaN         762  15814.0   14325.0   \n",
       "...                       ...         ...         ...      ...       ...   \n",
       "499995                    NaN       528.0         626  21496.0    6025.0   \n",
       "499996                  175.0       329.0         607  16360.0    9653.0   \n",
       "499997                  175.0       303.0         404   8205.0   10012.0   \n",
       "499998                  175.0      8302.0         703  11773.0   20005.0   \n",
       "499999                  175.0         NaN         533   8210.0   15571.0   \n",
       "\n",
       "        xp_roshan xp_other  leaver_status  \n",
       "0             NaN     83.0              0  \n",
       "1          2683.0    671.0              0  \n",
       "2             NaN    453.0              0  \n",
       "3           894.0    293.0              0  \n",
       "4             NaN     62.0              0  \n",
       "...           ...      ...            ...  \n",
       "499995      596.0   1007.0              0  \n",
       "499996     1490.0    740.0              0  \n",
       "499997        NaN    600.0              0  \n",
       "499998      596.0    327.0              0  \n",
       "499999      894.0    103.0              0  \n",
       "\n",
       "[500000 rows x 37 columns]"
      ]
     },
     "execution_count": 2,
     "metadata": {},
     "output_type": "execute_result"
    }
   ],
   "source": [
    "#Данные по игрокам\n",
    "players = pd.read_csv('dataset/players.csv')\n",
    "\n",
    "#Уточняющие данные по героям\n",
    "heroes = pd.read_csv('dataset/hero_names.csv')\n",
    "\n",
    "items = pd.read_csv('dataset/item_ids.csv')\n",
    "\n",
    "#Соединяем две эти выборки, чтобы можно было получить конкретное имя выбранного игроком героя, вместо id\n",
    "merged = players.merge(heroes, 'left', on = [\"hero_id\"])\n",
    "merged = merged.merge(items, 'left', left_on = [\"item_0\"], right_on = [\"item_id\"], suffixes = ['_0', '_1'])\n",
    "merged = merged.merge(items, 'left', left_on = [\"item_1\"], right_on = [\"item_id\"], suffixes = ['_1', '_2'])\n",
    "merged = merged.merge(items, 'left', left_on = [\"item_2\"], right_on = [\"item_id\"], suffixes = ['_2', '_3'])\n",
    "merged = merged.merge(items, 'left', left_on = [\"item_3\"], right_on = [\"item_id\"], suffixes = ['_3', '_4'])\n",
    "merged = merged.merge(items, 'left', left_on = [\"item_4\"], right_on = [\"item_id\"], suffixes = ['_4', '_5'])\n",
    "merged = merged.merge(items, 'left', left_on = [\"item_5\"], right_on = [\"item_id\"], suffixes = ['_5', '_6'])\n",
    "\n",
    "#Список атрибутов, которые нас интересуют\n",
    "attrib = [\"match_id\", \"player_slot\", \"localized_name\", \"kills\", \"deaths\", \"assists\", \n",
    "          \"item_name_1\", \"item_name_2\", \"item_name_3\", \"item_name_4\", \"item_name_5\" ,\"item_name_6\",\n",
    "          \"level\", \"last_hits\", \"denies\", \"hero_damage\", \"hero_healing\", \"tower_damage\", \"stuns\", \n",
    "          \"gold_spent\", \"gold_per_min\", \"gold_death\", \"gold_buyback\", \"gold_abandon\", \"gold_sell\", \"gold_destroying_structure\",\n",
    "          \"gold_killing_heros\", \"gold_killing_creeps\", \"gold_killing_roshan\", \"gold_killing_couriers\", \"gold_other\",\n",
    "          \"xp_per_min\", \"xp_hero\", \"xp_creep\", \"xp_roshan\", \"xp_other\", \"leaver_status\"]\n",
    "\n",
    "#Пример выборки\n",
    "merged[attrib]"
   ]
  },
  {
   "cell_type": "code",
   "execution_count": 3,
   "id": "6b0aa54a-e960-42f2-ac39-bfdcb1a0279b",
   "metadata": {},
   "outputs": [
    {
     "data": {
      "text/plain": [
       "count    500000.000000\n",
       "mean      24999.500000\n",
       "std       14433.771161\n",
       "min           0.000000\n",
       "25%       12499.750000\n",
       "50%       24999.500000\n",
       "75%       37499.250000\n",
       "max       49999.000000\n",
       "Name: match_id, dtype: float64"
      ]
     },
     "execution_count": 3,
     "metadata": {},
     "output_type": "execute_result"
    }
   ],
   "source": [
    "merged.match_id = merged.match_id.astype(int);\n",
    "merged[\"match_id\"].describe()"
   ]
  },
  {
   "cell_type": "code",
   "execution_count": 4,
   "id": "289fdefc-e1fe-43a4-a6ae-77f35164e4c4",
   "metadata": {},
   "outputs": [
    {
     "data": {
      "text/plain": [
       "Windranger      20881\n",
       "Shadow Fiend    17007\n",
       "Invoker         11676\n",
       "Earthshaker     11323\n",
       "Slardar         11181\n",
       "                ...  \n",
       "Lycan             985\n",
       "Lone Druid        967\n",
       "Brewmaster        931\n",
       "Elder Titan       838\n",
       "Chen              579\n",
       "Name: localized_name, Length: 110, dtype: int64"
      ]
     },
     "execution_count": 4,
     "metadata": {},
     "output_type": "execute_result"
    }
   ],
   "source": [
    "merged[\"localized_name\"].value_counts()"
   ]
  },
  {
   "cell_type": "code",
   "execution_count": 5,
   "id": "2bc0686f-7999-47b8-a8f8-d1fdfbc47c20",
   "metadata": {},
   "outputs": [
    {
     "data": {
      "text/plain": [
       "0      50000\n",
       "1      50000\n",
       "2      50000\n",
       "3      50000\n",
       "4      50000\n",
       "128    50000\n",
       "129    50000\n",
       "130    50000\n",
       "131    50000\n",
       "132    50000\n",
       "Name: player_slot, dtype: int64"
      ]
     },
     "execution_count": 5,
     "metadata": {},
     "output_type": "execute_result"
    }
   ],
   "source": [
    "merged[\"player_slot\"].value_counts()"
   ]
  },
  {
   "cell_type": "code",
   "execution_count": 6,
   "id": "b7fa6853-07a8-46cb-9152-9e7adfae2f71",
   "metadata": {},
   "outputs": [
    {
     "data": {
      "text/plain": [
       "count    500000.000000\n",
       "mean          7.680752\n",
       "std           3.808092\n",
       "min           0.000000\n",
       "25%           5.000000\n",
       "50%           8.000000\n",
       "75%          10.000000\n",
       "max          42.000000\n",
       "Name: deaths, dtype: float64"
      ]
     },
     "execution_count": 6,
     "metadata": {},
     "output_type": "execute_result"
    }
   ],
   "source": [
    "merged.deaths = merged.deaths.astype(int);\n",
    "merged[\"deaths\"].describe()"
   ]
  },
  {
   "cell_type": "code",
   "execution_count": 7,
   "id": "eacb5856-f4fe-4d7f-9bce-5988b1f654a1",
   "metadata": {},
   "outputs": [],
   "source": [
    "import matplotlib.pyplot as plt\n",
    "import seaborn as sns"
   ]
  },
  {
   "cell_type": "markdown",
   "id": "e02cce71-6c12-40d0-b392-fa38027cb508",
   "metadata": {},
   "source": [
    "<h2>Визуализация отдельных показателей</h2>\n",
    "\n",
    "<h4>Распределение количества потраченного золота</h4>"
   ]
  },
  {
   "cell_type": "code",
   "execution_count": 8,
   "id": "9fbfddb5-a0df-48f8-856b-b3c9f5c93eaa",
   "metadata": {},
   "outputs": [
    {
     "data": {
      "text/plain": [
       "<AxesSubplot:xlabel='gold_spent', ylabel='Count'>"
      ]
     },
     "execution_count": 8,
     "metadata": {},
     "output_type": "execute_result"
    },
    {
     "data": {
      "image/png": "[encoded data removed]",
      "text/plain": [
       "<Figure size 1440x720 with 1 Axes>"
      ]
     },
     "metadata": {
      "needs_background": "light"
     },
     "output_type": "display_data"
    }
   ],
   "source": [
    "fig = plt.figure(figsize = (20, 10))\n",
    "sns.histplot(x = \"gold_spent\", data = merged, bins = 100, binrange = (0, 60000))"
   ]
  },
  {
   "cell_type": "markdown",
   "id": "99ca142b-a4a3-48f4-b0b6-fa4dad73df5c",
   "metadata": {
    "tags": []
   },
   "source": [
    "<h4>Количество игроков c разным статусом подключения</h4>\n",
    "<p><i>0 - не покидал матч, 1 - отключался, 2 - отключился на слишком длительное время и покинул игру, 3 - покинул игру, 4 - афк</i></p>"
   ]
  },
  {
   "cell_type": "code",
   "execution_count": 9,
   "id": "9c678655-2412-4ced-81ba-b1e608b492cb",
   "metadata": {},
   "outputs": [
    {
     "data": {
      "text/plain": [
       "<AxesSubplot:xlabel='leaver_status', ylabel='count'>"
      ]
     },
     "execution_count": 9,
     "metadata": {},
     "output_type": "execute_result"
    },
    {
     "data": {
      "image/png": "[encoded data removed]",
      "text/plain": [
       "<Figure size 360x720 with 1 Axes>"
      ]
     },
     "metadata": {
      "needs_background": "light"
     },
     "output_type": "display_data"
    }
   ],
   "source": [
    "fig = plt.figure(figsize = (5, 10))\n",
    "sns.countplot(x = \"leaver_status\", data = merged)"
   ]
  },
  {
   "cell_type": "markdown",
   "id": "6f84d335-2c71-4910-989d-5f0e8747dbaf",
   "metadata": {},
   "source": [
    "<h4>Частота выбора героев</h4>"
   ]
  },
  {
   "cell_type": "code",
   "execution_count": 10,
   "id": "2a5dfe43-3414-45c8-8d53-65707fc0216a",
   "metadata": {},
   "outputs": [
    {
     "data": {
      "image/png": "[encoded data removed]",
      "text/plain": [
       "<Figure size 2160x360 with 1 Axes>"
      ]
     },
     "metadata": {
      "needs_background": "light"
     },
     "output_type": "display_data"
    }
   ],
   "source": [
    "fig = plt.figure(figsize = (30, 5))\n",
    "gr = sns.countplot(x = \"localized_name\", data = merged)\n",
    "gr.set_xticklabels(gr.get_xticklabels(), rotation = 90, ha = \"right\")\n",
    "plt.show()"
   ]
  },
  {
   "cell_type": "markdown",
   "id": "da3d9e1f-4395-4e97-9264-ac4e7d7564e3",
   "metadata": {},
   "source": [
    "<h4>Распределение золота в минуту</h4>"
   ]
  },
  {
   "cell_type": "code",
   "execution_count": 11,
   "id": "6bec3e23-9e7b-42a5-928a-27ba7f28e133",
   "metadata": {},
   "outputs": [
    {
     "data": {
      "text/plain": [
       "<AxesSubplot:xlabel='gold_per_min', ylabel='Count'>"
      ]
     },
     "execution_count": 11,
     "metadata": {},
     "output_type": "execute_result"
    },
    {
     "data": {
      "image/png": "[encoded data removed]",
      "text/plain": [
       "<Figure size 1440x720 with 1 Axes>"
      ]
     },
     "metadata": {
      "needs_background": "light"
     },
     "output_type": "display_data"
    }
   ],
   "source": [
    "fig = plt.figure(figsize = (20,10))\n",
    "sns.histplot(x = \"gold_per_min\", data = merged, bins = 100, binrange = (0, 1400))"
   ]
  },
  {
   "cell_type": "markdown",
   "id": "557be05b-6f1b-4030-a0df-4c1926d1c178",
   "metadata": {},
   "source": [
    "<h4>График распределения игроков по командам и слотам в команде</h4>"
   ]
  },
  {
   "cell_type": "code",
   "execution_count": 12,
   "id": "6c8ccc47-2d2e-4779-92fe-712e113ba3a8",
   "metadata": {},
   "outputs": [
    {
     "data": {
      "text/plain": [
       "<AxesSubplot:xlabel='player_slot', ylabel='count'>"
      ]
     },
     "execution_count": 12,
     "metadata": {},
     "output_type": "execute_result"
    },
    {
     "data": {
      "image/png": "[encoded data removed]",
      "text/plain": [
       "<Figure size 1440x720 with 1 Axes>"
      ]
     },
     "metadata": {
      "needs_background": "light"
     },
     "output_type": "display_data"
    }
   ],
   "source": [
    "fig = plt.figure(figsize = (20,10))\n",
    "sns.countplot(x = \"player_slot\", data = merged)"
   ]
  },
  {
   "cell_type": "markdown",
   "id": "4ec787b5-adda-44ce-818a-cd9dd0196f8d",
   "metadata": {},
   "source": [
    "<h4>Распределение времени стана</h4>"
   ]
  },
  {
   "cell_type": "code",
   "execution_count": 13,
   "id": "8dca4fa4-30c8-4441-a7d3-9c0ca5653ccb",
   "metadata": {},
   "outputs": [
    {
     "data": {
      "text/plain": [
       "<AxesSubplot:xlabel='stuns', ylabel='Count'>"
      ]
     },
     "execution_count": 13,
     "metadata": {},
     "output_type": "execute_result"
    },
    {
     "data": {
      "image/png": "[encoded data removed]",
      "text/plain": [
       "<Figure size 1440x1080 with 1 Axes>"
      ]
     },
     "metadata": {
      "needs_background": "light"
     },
     "output_type": "display_data"
    }
   ],
   "source": [
    "merged[\"stuns\"].replace({\"None\" : \"0\"}, inplace = True)\n",
    "merged.stuns = merged.stuns.astype(float)\n",
    "fig = plt.figure(figsize = (20,15))\n",
    "sns.histplot(x = \"stuns\", data = merged, bins = 100, binrange = (0, 175))"
   ]
  },
  {
   "cell_type": "code",
   "execution_count": null,
   "id": "1b18efee-bcf1-45e4-93c4-7fff9d838fb8",
   "metadata": {},
   "outputs": [],
   "source": []
  },
  {
   "cell_type": "code",
   "execution_count": 14,
   "id": "0f150dec-3c72-42f3-8e42-4055e1eaf4e5",
   "metadata": {},
   "outputs": [
    {
     "name": "stdout",
     "output_type": "stream",
     "text": [
      "Hero: Abaddon                        mean gpm: 363.0552870091\n",
      "Hero: Alchemist                      mean gpm: 709.5454545455\n",
      "Hero: Ancient Apparition             mean gpm: 313.1470457574\n",
      "Hero: Anti-Mage                      mean gpm: 554.1927415922\n",
      "Hero: Axe                            mean gpm: 400.1091067159\n",
      "Hero: Bane                           mean gpm: 295.2933803369\n",
      "Hero: Batrider                       mean gpm: 362.8567362429\n",
      "Hero: Beastmaster                    mean gpm: 384.1348136400\n",
      "Hero: Bloodseeker                    mean gpm: 447.6417456022\n",
      "Hero: Bounty Hunter                  mean gpm: 412.0496098925\n",
      "Hero: Brewmaster                     mean gpm: 398.5596133190\n",
      "Hero: Bristleback                    mean gpm: 413.5425965923\n",
      "Hero: Broodmother                    mean gpm: 441.5215343203\n",
      "Hero: Centaur Warrunner              mean gpm: 387.3327948304\n",
      "Hero: Chaos Knight                   mean gpm: 443.2969283276\n",
      "Hero: Chen                           mean gpm: 321.9654576857\n",
      "Hero: Clinkz                         mean gpm: 462.7273093990\n",
      "Hero: Clockwerk                      mean gpm: 356.8465473146\n",
      "Hero: Crystal Maiden                 mean gpm: 314.6688758603\n",
      "Hero: Dark Seer                      mean gpm: 400.8231808485\n",
      "Hero: Dazzle                         mean gpm: 292.5388551708\n",
      "Hero: Death Prophet                  mean gpm: 436.9169087740\n",
      "Hero: Disruptor                      mean gpm: 302.9174736842\n",
      "Hero: Doom                           mean gpm: 471.9159737969\n",
      "Hero: Dragon Knight                  mean gpm: 435.7088541667\n",
      "Hero: Drow Ranger                    mean gpm: 459.5548312883\n",
      "Hero: Earth Spirit                   mean gpm: 332.4009971510\n",
      "Hero: Earthshaker                    mean gpm: 334.2948865142\n",
      "Hero: Elder Titan                    mean gpm: 333.4439140811\n",
      "Hero: Ember Spirit                   mean gpm: 494.9883180672\n",
      "Hero: Enchantress                    mean gpm: 378.3868110236\n",
      "Hero: Enigma                         mean gpm: 393.6064366033\n",
      "Hero: Faceless Void                  mean gpm: 461.5333542123\n",
      "Hero: Gyrocopter                     mean gpm: 500.2918611435\n",
      "Hero: Huskar                         mean gpm: 439.3085668958\n",
      "Hero: Invoker                        mean gpm: 449.7270469339\n",
      "Hero: Io                             mean gpm: 287.5182998819\n",
      "Hero: Jakiro                         mean gpm: 318.6513828239\n",
      "Hero: Juggernaut                     mean gpm: 520.1265152973\n",
      "Hero: Keeper of the Light            mean gpm: 322.9796954315\n",
      "Hero: Kunkka                         mean gpm: 411.1875737318\n",
      "Hero: Legion Commander               mean gpm: 445.8904155125\n",
      "Hero: Leshrac                        mean gpm: 392.6492659054\n",
      "Hero: Lich                           mean gpm: 318.5662470664\n",
      "Hero: Lifestealer                    mean gpm: 459.7980657640\n",
      "Hero: Lina                           mean gpm: 409.0896426408\n",
      "Hero: Lion                           mean gpm: 296.4295583853\n",
      "Hero: Lone Druid                     mean gpm: 451.8883143744\n",
      "Hero: Luna                           mean gpm: 520.4865433137\n",
      "Hero: Lycan                          mean gpm: 467.9157360406\n",
      "Hero: Magnus                         mean gpm: 374.3879335471\n",
      "Hero: Medusa                         mean gpm: 497.5046610169\n",
      "Hero: Meepo                          mean gpm: 522.7035928144\n",
      "Hero: Mirana                         mean gpm: 368.3324549237\n",
      "Hero: Morphling                      mean gpm: 437.4199475066\n",
      "Hero: Naga Siren                     mean gpm: 435.9060939061\n",
      "Hero: Nature's Prophet               mean gpm: 480.1623803828\n",
      "Hero: Necrophos                      mean gpm: 405.2554866812\n",
      "Hero: Night Stalker                  mean gpm: 395.0913000331\n",
      "Hero: Nyx Assassin                   mean gpm: 346.5286930766\n",
      "Hero: Ogre Magi                      mean gpm: 313.4291293361\n",
      "Hero: Omniknight                     mean gpm: 312.3026545243\n",
      "Hero: Oracle                         mean gpm: 305.8216055500\n",
      "Hero: Outworld Devourer              mean gpm: 431.1547314578\n",
      "Hero: Phantom Assassin               mean gpm: 481.0092032967\n",
      "Hero: Phantom Lancer                 mean gpm: 460.2726027397\n",
      "Hero: Phoenix                        mean gpm: 364.7299438759\n",
      "Hero: Puck                           mean gpm: 400.2896081772\n",
      "Hero: Pudge                          mean gpm: 356.7248862073\n",
      "Hero: Pugna                          mean gpm: 351.1990801577\n",
      "Hero: Queen of Pain                  mean gpm: 459.8157695940\n",
      "Hero: Razor                          mean gpm: 440.1393158156\n",
      "Hero: Riki                           mean gpm: 433.4253623188\n",
      "Hero: Rubick                         mean gpm: 300.9520958084\n",
      "Hero: Sand King                      mean gpm: 365.5857142857\n",
      "Hero: Shadow Demon                   mean gpm: 292.5648745520\n",
      "Hero: Shadow Fiend                   mean gpm: 551.2663021109\n",
      "Hero: Shadow Shaman                  mean gpm: 337.1309556980\n",
      "Hero: Silencer                       mean gpm: 347.6104651163\n",
      "Hero: Skywrath Mage                  mean gpm: 315.4267473118\n",
      "Hero: Slardar                        mean gpm: 383.1204722297\n",
      "Hero: Slark                          mean gpm: 478.0208877285\n",
      "Hero: Sniper                         mean gpm: 436.4625886059\n",
      "Hero: Spectre                        mean gpm: 495.2947447447\n",
      "Hero: Spirit Breaker                 mean gpm: 366.4733962522\n",
      "Hero: Storm Spirit                   mean gpm: 435.3041130037\n",
      "Hero: Sven                           mean gpm: 470.0507246377\n",
      "Hero: Techies                        mean gpm: 310.5922330097\n",
      "Hero: Templar Assassin               mean gpm: 523.5772922873\n",
      "Hero: Terrorblade                    mean gpm: 488.2804642166\n",
      "Hero: Tidehunter                     mean gpm: 350.4475000000\n",
      "Hero: Timbersaw                      mean gpm: 424.0044308112\n",
      "Hero: Tinker                         mean gpm: 456.2360153257\n",
      "Hero: Tiny                           mean gpm: 473.3066918002\n",
      "Hero: Treant Protector               mean gpm: 299.5648679679\n",
      "Hero: Troll Warlord                  mean gpm: 464.7978359909\n",
      "Hero: Tusk                           mean gpm: 367.7408305841\n",
      "Hero: Undying                        mean gpm: 348.2560914132\n",
      "Hero: Ursa                           mean gpm: 474.5320781032\n",
      "Hero: Vengeful Spirit                mean gpm: 315.8872198379\n",
      "Hero: Venomancer                     mean gpm: 358.7266998342\n",
      "Hero: Viper                          mean gpm: 435.4574525745\n",
      "Hero: Visage                         mean gpm: 348.7562688064\n",
      "Hero: Warlock                        mean gpm: 342.1822554784\n",
      "Hero: Weaver                         mean gpm: 448.5194855807\n",
      "Hero: Windranger                     mean gpm: 434.7599731814\n",
      "Hero: Winter Wyvern                  mean gpm: 309.3832662076\n",
      "Hero: Witch Doctor                   mean gpm: 311.4294495288\n",
      "Hero: Wraith King                    mean gpm: 479.1700025661\n",
      "Hero: Zeus                           mean gpm: 406.1948136849\n"
     ]
    }
   ],
   "source": [
    "group_heroes = merged.groupby(\"localized_name\")\n",
    "for localized_name, g in group_heroes:\n",
    "    print(\"Hero: {0:30} mean gpm: {1:10.10f}\".format(localized_name, g[\"gold_per_min\"].mean()))"
   ]
  },
  {
   "cell_type": "code",
   "execution_count": null,
   "id": "b7948c73-4ef1-4944-bf68-7039cba7cc4d",
   "metadata": {},
   "outputs": [],
   "source": []
  }
 ],
 "metadata": {
  "kernelspec": {
   "display_name": "Python 3 (ipykernel)",
   "language": "python",
   "name": "python3"
  },
  "language_info": {
   "codemirror_mode": {
    "name": "ipython",
    "version": 3
   },
   "file_extension": ".py",
   "mimetype": "text/x-python",
   "name": "python",
   "nbconvert_exporter": "python",
   "pygments_lexer": "ipython3",
   "version": "3.8.3"
  }
 },
 "nbformat": 4,
 "nbformat_minor": 5
}
